{
 "cells": [
  {
   "cell_type": "markdown",
   "id": "fatal-challenge",
   "metadata": {},
   "source": [
    "## 贪心算法\n",
    "### lc80"
   ]
  },
  {
   "cell_type": "code",
   "execution_count": 1,
   "id": "boring-slovakia",
   "metadata": {},
   "outputs": [],
   "source": [
    "def removeDuplicates(nums):\n",
    "    if len(nums) <= 2:\n",
    "        return len(nums)\n",
    "    l = len(nums)\n",
    "    n = len(nums) - 1\n",
    "    while n > 0:\n",
    "        count = 1; m = n\n",
    "        while nums[m] == nums[m-1]:\n",
    "            count += 1\n",
    "            m -= 1\n",
    "        if count > 2:\n",
    "            nums[m+2:] = nums[n+1:l]\n",
    "            l = l - (n - m - 1)\n",
    "\n",
    "        n = m-1\n",
    "    return l"
   ]
  },
  {
   "cell_type": "code",
   "execution_count": 2,
   "id": "activated-handle",
   "metadata": {},
   "outputs": [
    {
     "data": {
      "text/plain": [
       "5"
      ]
     },
     "execution_count": 2,
     "metadata": {},
     "output_type": "execute_result"
    }
   ],
   "source": [
    "nums = [1,1,1,2,2,3]\n",
    "removeDuplicates(nums)"
   ]
  },
  {
   "cell_type": "markdown",
   "id": "dynamic-wayne",
   "metadata": {},
   "source": [
    "### lc435"
   ]
  },
  {
   "cell_type": "code",
   "execution_count": 3,
   "id": "republican-glasgow",
   "metadata": {},
   "outputs": [],
   "source": [
    "def eraseOverlapIntervals(intervals):\n",
    "    intervals = sorted(intervals); prev = intervals[0][1]; count = 0\n",
    "    for i in range(1,len(intervals)):\n",
    "        if intervals[i][0] < prev:\n",
    "            count += 1\n",
    "        else:\n",
    "            prev = intervals[i][1]\n",
    "    return count"
   ]
  },
  {
   "cell_type": "code",
   "execution_count": 4,
   "id": "corporate-shirt",
   "metadata": {},
   "outputs": [
    {
     "data": {
      "text/plain": [
       "1"
      ]
     },
     "execution_count": 4,
     "metadata": {},
     "output_type": "execute_result"
    }
   ],
   "source": [
    "l = [[1,2], [2,3], [3,4], [1,3]]\n",
    "eraseOverlapIntervals(l)"
   ]
  },
  {
   "cell_type": "markdown",
   "id": "substantial-canadian",
   "metadata": {},
   "source": [
    "### 最长连续子串"
   ]
  },
  {
   "cell_type": "code",
   "execution_count": 1,
   "id": "brutal-leave",
   "metadata": {},
   "outputs": [
    {
     "name": "stdout",
     "output_type": "stream",
     "text": [
      "7\n"
     ]
    }
   ],
   "source": [
    "# n,m = [int(i) for i in input().strip().split()]\n",
    "# s = [int(i) for i in input().strip().split()]\n",
    "n = 8;m = 3\n",
    "s = [2,5,6,3,4,4,4,4]\n",
    "length = []\n",
    "\n",
    "for i in range(n-1):\n",
    "    for j in range(i+1,n+1):\n",
    "        if (max(s[i:j])-min(s[i:j])) <= m:\n",
    "            length.append(j-i)\n",
    "            continue\n",
    "        else:\n",
    "            break    \n",
    "print(max(length))"
   ]
  },
  {
   "cell_type": "markdown",
   "id": "civil-mexican",
   "metadata": {},
   "source": [
    "### 青蛙跳河"
   ]
  },
  {
   "cell_type": "code",
   "execution_count": null,
   "id": "loose-egyptian",
   "metadata": {},
   "outputs": [],
   "source": [
    "import time\n",
    "start = time.time()\n",
    "def f(N):\n",
    "    if N <= 2:\n",
    "        return 1\n",
    "    if N == 3:\n",
    "        return 2\n",
    "    if N >= 4:\n",
    "        return f(N-1)+f(N-2)+f(N-3)\n",
    "    \n",
    "print(f(40))\n",
    "end = time.time()\n",
    "print(\"time is \",end-start)"
   ]
  },
  {
   "cell_type": "markdown",
   "id": "diagnostic-notification",
   "metadata": {},
   "source": [
    "### 约瑟夫问题"
   ]
  },
  {
   "cell_type": "code",
   "execution_count": 11,
   "id": "classified-miracle",
   "metadata": {},
   "outputs": [],
   "source": [
    "def Josephus(n):\n",
    "    l = list(range(1,n+1))\n",
    "    p = -1\n",
    "\n",
    "    while len(l) > 1:\n",
    "        if (p+2) >= len(l):\n",
    "            p -= len(l)\n",
    "\n",
    "        l.pop((p+2)%len(l))\n",
    "        p += 1\n",
    "\n",
    "    print(\"Survival is : \",l[0])"
   ]
  },
  {
   "cell_type": "code",
   "execution_count": 12,
   "id": "institutional-myanmar",
   "metadata": {},
   "outputs": [
    {
     "name": "stdout",
     "output_type": "stream",
     "text": [
      "Survival is :  5\n"
     ]
    }
   ],
   "source": [
    "Josephus(10)"
   ]
  },
  {
   "cell_type": "code",
   "execution_count": 13,
   "id": "abandoned-official",
   "metadata": {},
   "outputs": [
    {
     "name": "stdout",
     "output_type": "stream",
     "text": [
      "Survival is :  9\n"
     ]
    }
   ],
   "source": [
    "Josephus(20)"
   ]
  },
  {
   "cell_type": "code",
   "execution_count": 26,
   "id": "reported-caution",
   "metadata": {},
   "outputs": [
    {
     "name": "stdout",
     "output_type": "stream",
     "text": [
      "Survival is :  3617\n"
     ]
    }
   ],
   "source": [
    "Josephus(10000)"
   ]
  },
  {
   "cell_type": "markdown",
   "id": "adopted-resolution",
   "metadata": {},
   "source": [
    "### 递归方法 recurrent\n",
    "#### J(1) = 1\n",
    "#### J(2n) = 2J(n) - 1 , n > 1\n",
    "#### J(2n+1) = 2J(n) + 1 , n > 1"
   ]
  },
  {
   "cell_type": "code",
   "execution_count": 20,
   "id": "quick-image",
   "metadata": {},
   "outputs": [],
   "source": [
    "def Josephus_re(n):\n",
    "    if n == 1:\n",
    "        return 1\n",
    "    if n % 2 == 0:\n",
    "        return 2 * Josephus_re(n/2) - 1\n",
    "    elif n % 2 == 1:\n",
    "        return 2 * Josephus_re(n//2) + 1"
   ]
  },
  {
   "cell_type": "code",
   "execution_count": 21,
   "id": "legendary-attitude",
   "metadata": {},
   "outputs": [
    {
     "name": "stdout",
     "output_type": "stream",
     "text": [
      "Survival is :  5\n"
     ]
    }
   ],
   "source": [
    "print(\"Survival is : \",Josephus_re(10))"
   ]
  },
  {
   "cell_type": "code",
   "execution_count": 22,
   "id": "breathing-amateur",
   "metadata": {},
   "outputs": [
    {
     "name": "stdout",
     "output_type": "stream",
     "text": [
      "Survival is :  9\n"
     ]
    }
   ],
   "source": [
    "print(\"Survival is : \",Josephus_re(20))"
   ]
  },
  {
   "cell_type": "code",
   "execution_count": 25,
   "id": "enhanced-sustainability",
   "metadata": {},
   "outputs": [
    {
     "name": "stdout",
     "output_type": "stream",
     "text": [
      "Survival is :  3617\n"
     ]
    }
   ],
   "source": [
    "print(\"Survival is : \",Josephus_re(10000))"
   ]
  },
  {
   "cell_type": "code",
   "execution_count": 11,
   "id": "44419101",
   "metadata": {},
   "outputs": [
    {
     "data": {
      "text/plain": [
       "2"
      ]
     },
     "execution_count": 11,
     "metadata": {},
     "output_type": "execute_result"
    }
   ],
   "source": [
    "s = 'alolobo'\n",
    "\n",
    "start = s.index('o')\n",
    "start"
   ]
  },
  {
   "cell_type": "code",
   "execution_count": 12,
   "id": "454b1ca4",
   "metadata": {},
   "outputs": [
    {
     "data": {
      "text/plain": [
       "[2, 4, 6]"
      ]
     },
     "execution_count": 12,
     "metadata": {},
     "output_type": "execute_result"
    }
   ],
   "source": [
    "index = []\n",
    "for i in range(len(s)):\n",
    "    if s[i] == 'o':\n",
    "        index.append(i)\n",
    "index"
   ]
  },
  {
   "cell_type": "code",
   "execution_count": 13,
   "id": "1f6acb16",
   "metadata": {},
   "outputs": [],
   "source": [
    "n = len(index)\n",
    "if n % 2 == 0:\n",
    "    print(len(s))"
   ]
  },
  {
   "cell_type": "code",
   "execution_count": 16,
   "id": "a0537b01",
   "metadata": {},
   "outputs": [
    {
     "data": {
      "text/plain": [
       "6"
      ]
     },
     "execution_count": 16,
     "metadata": {},
     "output_type": "execute_result"
    }
   ],
   "source": [
    "res = []\n",
    "for i in range(n):\n",
    "    if n-1-i > i:\n",
    "        res.append(index[n-1-i]-index[i])\n",
    "    else:\n",
    "        res.append(index[n-1-i]-index[i]+len(s)-1)\n",
    "max(res)"
   ]
  },
  {
   "cell_type": "code",
   "execution_count": 19,
   "id": "cc0dc876",
   "metadata": {},
   "outputs": [
    {
     "name": "stdout",
     "output_type": "stream",
     "text": [
      "6\n"
     ]
    }
   ],
   "source": [
    "while True:\n",
    "#     s = input()\n",
    "    s = 'alolobo'\n",
    "    index = []\n",
    "    for i in range(len(s)):\n",
    "        if s[i] == 'o':\n",
    "            index.append(i)\n",
    "\n",
    "    n = len(index)\n",
    "    if n % 2 == 0:\n",
    "        print(len(s))\n",
    "        break\n",
    "\n",
    "    res = []\n",
    "    for i in range(n):\n",
    "        if n-1-i > i:\n",
    "            res.append(index[n-1-i]-index[i])\n",
    "        else:\n",
    "            res.append(index[n-1-i]-index[i]+len(s)-1)\n",
    "    print(max(res))\n",
    "    break"
   ]
  },
  {
   "cell_type": "code",
   "execution_count": 20,
   "id": "4b6c549d",
   "metadata": {},
   "outputs": [],
   "source": [
    "def insertSort2(l):\n",
    "    n = len(l)\n",
    "    if n < 2:\n",
    "        return l\n",
    "    for i in range(1,n):\n",
    "        # 从后向前遍历子列表，依次交换\n",
    "        for j in range(i,0,-1):\n",
    "            if l[j] < l[j-1]:\n",
    "                l[j], l[j-1] = l[j-1], l[j]\n",
    "            else:\n",
    "                break\n",
    "    return l"
   ]
  },
  {
   "cell_type": "code",
   "execution_count": 22,
   "id": "a65bbfcb",
   "metadata": {},
   "outputs": [
    {
     "data": {
      "text/plain": [
       "[1, -21, 11, -101, 2, 22, 42, 32, 5, 55, 7, 8]"
      ]
     },
     "execution_count": 22,
     "metadata": {},
     "output_type": "execute_result"
    }
   ],
   "source": [
    "l = input()\n",
    "str_l = [str(i) for i in l]\n",
    "n = len(str_l)\n",
    "if n < 2:\n",
    "    print(l)\n",
    "for i in range(1,n):\n",
    "    # 从后向前遍历子列表，依次交换\n",
    "    for j in range(i,0,-1):\n",
    "        if int(str_l[j][-1]) < int(str_l[j-1][-1]):\n",
    "            str_l[j], str_l[j-1] = str_l[j-1], str_l[j]\n",
    "        else:\n",
    "            break\n",
    "            \n",
    "res = [int(j) for j in str_l]\n",
    "\n",
    "print(','.join(res))"
   ]
  },
  {
   "cell_type": "code",
   "execution_count": 25,
   "id": "252f95ff",
   "metadata": {},
   "outputs": [],
   "source": [
    "l = [1,2,3,4,5,6,7,7,8,9]\n",
    "l = [str(i) for i in l]"
   ]
  },
  {
   "cell_type": "code",
   "execution_count": 35,
   "id": "eb060dc6",
   "metadata": {},
   "outputs": [
    {
     "data": {
      "text/plain": [
       "True"
      ]
     },
     "execution_count": 35,
     "metadata": {},
     "output_type": "execute_result"
    }
   ],
   "source": [
    "isinstance(eval('1'),int)"
   ]
  },
  {
   "cell_type": "code",
   "execution_count": 37,
   "id": "5107278c",
   "metadata": {},
   "outputs": [
    {
     "data": {
      "text/plain": [
       "True"
      ]
     },
     "execution_count": 37,
     "metadata": {},
     "output_type": "execute_result"
    }
   ],
   "source": [
    "'1'.isdigit()"
   ]
  },
  {
   "cell_type": "code",
   "execution_count": 41,
   "id": "6e85e20f",
   "metadata": {},
   "outputs": [
    {
     "name": "stdout",
     "output_type": "stream",
     "text": [
      "09:18\n",
      "09:19\n"
     ]
    }
   ],
   "source": [
    "time = input().strip()\n",
    "# time = '09:13'\n",
    "l = []\n",
    "for i in time:\n",
    "    if i.isdigit():\n",
    "        l.append(int(i))\n",
    "l.sort()\n",
    "maxNum = l[-1]\n",
    "\n",
    "hour,minite = time.split(':')\n",
    "if int(minite[-1]) != maxNum:\n",
    "    for num in l:\n",
    "        if num > int(minite[-1]):\n",
    "            print(time[:-1] + str(num))\n",
    "            break\n",
    "elif int(minite[0]) != maxNum:\n",
    "    for num in l:\n",
    "        if num > int(minite[0]) and num < 6:\n",
    "            print(hour + ':' + str[num] + minite[-1])\n",
    "            break\n",
    "elif int(hour[0]) <= 1:\n",
    "    if int(hour[-1]) != maxNum:\n",
    "        for num in l:\n",
    "            if num > int(hour[-1]):\n",
    "                print(hour[0] + str(num) + ':' + minute)\n",
    "                break\n",
    "else:\n",
    "    for num in l:\n",
    "        if num > int(hour[1]) and num <= 4:\n",
    "            print(hour[0] + str(num) + ':' + minute)\n",
    "            break"
   ]
  },
  {
   "cell_type": "code",
   "execution_count": null,
   "id": "eb3b7835",
   "metadata": {},
   "outputs": [],
   "source": []
  }
 ],
 "metadata": {
  "kernelspec": {
   "display_name": "Python 3",
   "language": "python",
   "name": "python3"
  },
  "language_info": {
   "codemirror_mode": {
    "name": "ipython",
    "version": 3
   },
   "file_extension": ".py",
   "mimetype": "text/x-python",
   "name": "python",
   "nbconvert_exporter": "python",
   "pygments_lexer": "ipython3",
   "version": "3.9.2"
  }
 },
 "nbformat": 4,
 "nbformat_minor": 5
}
