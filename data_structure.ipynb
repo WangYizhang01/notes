{
 "cells": [
  {
   "cell_type": "markdown",
   "id": "prime-hearts",
   "metadata": {},
   "source": [
    "### 冒泡排序"
   ]
  },
  {
   "cell_type": "code",
   "execution_count": 1,
   "id": "disabled-swimming",
   "metadata": {},
   "outputs": [],
   "source": [
    "def maopao(l):\n",
    "    n = len(l)\n",
    "    if n < 2:\n",
    "        return l\n",
    "    for i in range(n-1):\n",
    "        for j in range(n-1-i):\n",
    "            if l[j] > l[j+1]:\n",
    "                l[j],l[j+1] = l[j+1],l[j]\n",
    "    return l"
   ]
  },
  {
   "cell_type": "code",
   "execution_count": 4,
   "id": "biological-practice",
   "metadata": {},
   "outputs": [
    {
     "data": {
      "text/plain": [
       "[2, 3, 4, 4, 5, 5, 6, 7, 8, 9]"
      ]
     },
     "execution_count": 4,
     "metadata": {},
     "output_type": "execute_result"
    }
   ],
   "source": [
    "maopao([2,5,4,4,8,7,3,5,9,6])"
   ]
  },
  {
   "cell_type": "markdown",
   "id": "available-closer",
   "metadata": {},
   "source": [
    "### 线性数据结构\n",
    "#### 栈"
   ]
  },
  {
   "cell_type": "code",
   "execution_count": 32,
   "id": "agricultural-victory",
   "metadata": {},
   "outputs": [],
   "source": [
    "class Stack():\n",
    "    def __init__(self):\n",
    "        self.s = []\n",
    "        \n",
    "    def isempty(self):\n",
    "        return len(self.s)==0\n",
    "        \n",
    "    def pop(self):\n",
    "        if not self.isempty():\n",
    "            return self.s.pop()\n",
    "        else:\n",
    "            print(\"error1: stack is empty.\")\n",
    "    \n",
    "    def push(self,a):\n",
    "        self.s.append(a)\n",
    "        \n",
    "    def size(self):\n",
    "        return len(self.s)\n",
    "        \n",
    "    def peek(self):\n",
    "        if not self.isempty():\n",
    "            return self.s[-1]\n",
    "        else:\n",
    "            print(\"error2: stack is empty.\")"
   ]
  },
  {
   "cell_type": "code",
   "execution_count": 19,
   "id": "interpreted-penalty",
   "metadata": {},
   "outputs": [],
   "source": [
    "s = Stack()"
   ]
  },
  {
   "cell_type": "code",
   "execution_count": 20,
   "id": "global-conditions",
   "metadata": {},
   "outputs": [],
   "source": [
    "s.push(1); s.push(3); s.pop(); s.push(1); "
   ]
  },
  {
   "cell_type": "code",
   "execution_count": 24,
   "id": "filled-watch",
   "metadata": {},
   "outputs": [
    {
     "name": "stdout",
     "output_type": "stream",
     "text": [
      "error1: stack is empty.\n"
     ]
    }
   ],
   "source": [
    "s.pop()"
   ]
  },
  {
   "cell_type": "markdown",
   "id": "powerful-cylinder",
   "metadata": {},
   "source": [
    "#### 匹配括号"
   ]
  },
  {
   "cell_type": "code",
   "execution_count": 34,
   "id": "dental-grave",
   "metadata": {},
   "outputs": [
    {
     "data": {
      "text/plain": [
       "True"
      ]
     },
     "execution_count": 34,
     "metadata": {},
     "output_type": "execute_result"
    }
   ],
   "source": [
    "# (5+6)*(7+8)/(4+3)\n",
    "st = \"(5+6)*(7+8)/(4+3)\"\n",
    "\n",
    "def match(st):\n",
    "    s1 = Stack()\n",
    "\n",
    "    for s in st:\n",
    "        if s == \"(\":\n",
    "            s1.push(s)\n",
    "        elif s == \")\":\n",
    "            s1.pop()\n",
    "            \n",
    "    return s1.isempty()\n",
    "\n",
    "match(st)"
   ]
  },
  {
   "cell_type": "code",
   "execution_count": 36,
   "id": "fluid-aberdeen",
   "metadata": {},
   "outputs": [
    {
     "data": {
      "text/plain": [
       "True"
      ]
     },
     "execution_count": 36,
     "metadata": {},
     "output_type": "execute_result"
    }
   ],
   "source": [
    "string = \"{[1+(3*8)/6]*(3-5)}\"\n",
    "\n",
    "def match2(st):\n",
    "    s1 = Stack()\n",
    "\n",
    "    for s in st:\n",
    "        if s in [\"(\",\"[\",\"{\"]:\n",
    "            s1.push(s)\n",
    "        elif s == \")\":\n",
    "            if s1.pop() != \"(\":\n",
    "                return False\n",
    "        elif s == \"]\":\n",
    "            if s1.pop() != \"[\":\n",
    "                return False\n",
    "        elif s == \"}\":\n",
    "            if s1.pop() != \"{\":\n",
    "                return False\n",
    "            \n",
    "    return s1.isempty()\n",
    "\n",
    "match2(string)"
   ]
  },
  {
   "cell_type": "code",
   "execution_count": 41,
   "id": "aerial-jerusalem",
   "metadata": {},
   "outputs": [
    {
     "data": {
      "text/plain": [
       "'E9'"
      ]
     },
     "execution_count": 41,
     "metadata": {},
     "output_type": "execute_result"
    }
   ],
   "source": [
    "# 十进制转n进制\n",
    "def divide(num,n):\n",
    "    digits = \"0123456789ABCDEF\"\n",
    "    s = Stack()\n",
    "    while num > 0:\n",
    "        s.push(num % n)\n",
    "        num //= n\n",
    "    \n",
    "    res = \"\"\n",
    "    while not s.isempty():\n",
    "        res += digits[s.pop()]\n",
    "        \n",
    "    return res\n",
    "\n",
    "divide(233,16)"
   ]
  },
  {
   "cell_type": "code",
   "execution_count": 45,
   "id": "reserved-photographer",
   "metadata": {},
   "outputs": [
    {
     "data": {
      "text/plain": [
       "'AB+C*DE-FG+*-'"
      ]
     },
     "execution_count": 45,
     "metadata": {},
     "output_type": "execute_result"
    }
   ],
   "source": [
    "# 中序表达式（完全括号表达式）转后序表达式\n",
    "# (((A+B)*C)-((D-E)*(F+G)))\n",
    "def revert(string):\n",
    "    temp = Stack()\n",
    "    for s in string:\n",
    "        if s != \")\":\n",
    "            temp.push(s)\n",
    "        else:\n",
    "            num2 = temp.pop()\n",
    "            label = temp.pop()\n",
    "            num1 = temp.pop()\n",
    "            temp.pop()\n",
    "            t = num1+num2+label\n",
    "            temp.push(t)\n",
    "    return temp.pop()\n",
    "\n",
    "string = \"(((A+B)*C)-((D-E)*(F+G)))\"\n",
    "revert(string)"
   ]
  },
  {
   "cell_type": "code",
   "execution_count": 51,
   "id": "official-breakdown",
   "metadata": {},
   "outputs": [
    {
     "data": {
      "text/plain": [
       "-5"
      ]
     },
     "execution_count": 51,
     "metadata": {},
     "output_type": "execute_result"
    }
   ],
   "source": [
    "# 计算后序表达式\n",
    "# \"AB+C*DE-FG+*-\"\n",
    "def compute(string):\n",
    "    stack = Stack()\n",
    "    for s in string:\n",
    "        if s not in ['+','-','*','/']:\n",
    "            stack.push(s)\n",
    "        else:\n",
    "            num2 = int(stack.pop())\n",
    "            num1 = int(stack.pop())\n",
    "            if s == '+':\n",
    "                temp = num1 + num2\n",
    "            elif s == '-':\n",
    "                temp = num1 - num2\n",
    "            elif s == '*':\n",
    "                temp = num1 * num2\n",
    "            elif s == '/':\n",
    "                temp = num1 / num2\n",
    "            stack.push(temp)\n",
    "            \n",
    "    return stack.pop()\n",
    "\n",
    "string = '23+1*54-64+*-'\n",
    "compute(string)"
   ]
  },
  {
   "cell_type": "code",
   "execution_count": 52,
   "id": "exotic-minority",
   "metadata": {},
   "outputs": [
    {
     "data": {
      "text/plain": [
       "-5"
      ]
     },
     "execution_count": 52,
     "metadata": {},
     "output_type": "execute_result"
    }
   ],
   "source": [
    "(((2+3)*1)-((5-4)*(6+4)))"
   ]
  },
  {
   "cell_type": "markdown",
   "id": "blocked-performer",
   "metadata": {},
   "source": [
    "### 队列"
   ]
  },
  {
   "cell_type": "code",
   "execution_count": 1,
   "id": "regular-foundation",
   "metadata": {},
   "outputs": [],
   "source": [
    "class Queue():\n",
    "    def __init__(self):\n",
    "        self.q = []\n",
    "        \n",
    "    def isempty(self):\n",
    "        return self.q == []\n",
    "    \n",
    "    def enqueue(self,item):\n",
    "        self.q.insert(0,item)\n",
    "        \n",
    "    def dequeue(self):\n",
    "        return self.q.pop()\n",
    "    \n",
    "    def size(self):\n",
    "        return len(self.q)"
   ]
  },
  {
   "cell_type": "code",
   "execution_count": 2,
   "id": "minimal-appearance",
   "metadata": {},
   "outputs": [],
   "source": [
    "q = Queue()\n",
    "q.enqueue(3); q.enqueue(4); q.dequeue(); q.enqueue(5)"
   ]
  },
  {
   "cell_type": "code",
   "execution_count": 3,
   "id": "tough-superior",
   "metadata": {},
   "outputs": [
    {
     "data": {
      "text/plain": [
       "4"
      ]
     },
     "execution_count": 3,
     "metadata": {},
     "output_type": "execute_result"
    }
   ],
   "source": [
    "q.dequeue()"
   ]
  },
  {
   "cell_type": "code",
   "execution_count": 4,
   "id": "surrounded-caribbean",
   "metadata": {},
   "outputs": [
    {
     "data": {
      "text/plain": [
       "5"
      ]
     },
     "execution_count": 4,
     "metadata": {},
     "output_type": "execute_result"
    }
   ],
   "source": [
    "q.dequeue()"
   ]
  },
  {
   "cell_type": "markdown",
   "id": "sound-afghanistan",
   "metadata": {},
   "source": [
    "#### 约瑟夫问题/传土豆"
   ]
  },
  {
   "cell_type": "code",
   "execution_count": 9,
   "id": "unavailable-ceremony",
   "metadata": {},
   "outputs": [],
   "source": [
    "def yousefu(n,m):\n",
    "    l = list(range(n))\n",
    "    while len(l) > 1:\n",
    "        for i in range(m):\n",
    "            l.append(l.pop(0))\n",
    "        l.pop(0)\n",
    "    return l[0]"
   ]
  },
  {
   "cell_type": "code",
   "execution_count": 10,
   "id": "working-circle",
   "metadata": {},
   "outputs": [
    {
     "data": {
      "text/plain": [
       "2"
      ]
     },
     "execution_count": 10,
     "metadata": {},
     "output_type": "execute_result"
    }
   ],
   "source": [
    "yousefu(6,7)"
   ]
  },
  {
   "cell_type": "markdown",
   "id": "dominant-context",
   "metadata": {},
   "source": [
    "### 双端队列"
   ]
  },
  {
   "cell_type": "code",
   "execution_count": 4,
   "id": "stopped-hunter",
   "metadata": {},
   "outputs": [],
   "source": [
    "class Deque():\n",
    "    def __init__(self):\n",
    "        self.d = []\n",
    "        \n",
    "    def isempty(self):\n",
    "        return self.d == []\n",
    "    \n",
    "    def addRear(self,item):\n",
    "        self.d.append(item)\n",
    "        \n",
    "    def addFront(self,item):\n",
    "        self.d.insert(0,item)\n",
    "        \n",
    "    def removeRear(self):\n",
    "        return self.d.pop()\n",
    "    \n",
    "    def removeFront(self):\n",
    "        return self.d.pop(0)\n",
    "    \n",
    "    def size(self):\n",
    "        return len(self.d)"
   ]
  },
  {
   "cell_type": "markdown",
   "id": "persistent-antibody",
   "metadata": {},
   "source": [
    "#### 回文检测器"
   ]
  },
  {
   "cell_type": "code",
   "execution_count": 7,
   "id": "social-development",
   "metadata": {},
   "outputs": [],
   "source": [
    "# 接受一个字符串并判断其是否为回文串\n",
    "def isRe(string):\n",
    "    d = Deque()\n",
    "    for s in string:\n",
    "        d.addRear(s)\n",
    "        \n",
    "    while d.size() > 1:\n",
    "        if d.removeRear() != d.removeFront():\n",
    "            return False\n",
    "    \n",
    "    return True"
   ]
  },
  {
   "cell_type": "code",
   "execution_count": 10,
   "id": "informed-replacement",
   "metadata": {},
   "outputs": [
    {
     "data": {
      "text/plain": [
       "(True, True, False)"
      ]
     },
     "execution_count": 10,
     "metadata": {},
     "output_type": "execute_result"
    }
   ],
   "source": [
    "isRe('abcdcba'), isRe('abcddcba'), isRe('abddcba')"
   ]
  },
  {
   "cell_type": "markdown",
   "id": "scenic-williams",
   "metadata": {},
   "source": [
    "### 列表"
   ]
  },
  {
   "cell_type": "markdown",
   "id": "grateful-cradle",
   "metadata": {},
   "source": [
    "#### 链表实现有序列表"
   ]
  },
  {
   "cell_type": "code",
   "execution_count": 11,
   "id": "prompt-rough",
   "metadata": {},
   "outputs": [],
   "source": [
    "# 链表 Node节点\n",
    "class Node():\n",
    "    def __init__(self,value):\n",
    "        self.value = value\n",
    "        self.next = None\n",
    "        \n",
    "    def getValue(self):\n",
    "        return self.value\n",
    "    \n",
    "    def getNext(self):\n",
    "        return self.next\n",
    "    \n",
    "    def setValue(self,newValue):\n",
    "        self.value = newValue\n",
    "    \n",
    "    def setValue(self,newNext):\n",
    "        self.next = newNext"
   ]
  },
  {
   "cell_type": "code",
   "execution_count": 44,
   "id": "egyptian-option",
   "metadata": {},
   "outputs": [],
   "source": [
    "# 有序列表\n",
    "class orderedList():\n",
    "    def __init__(self):\n",
    "        self.head = Node(-1)\n",
    "        \n",
    "    def add(self,item):\n",
    "        node = Node(item)\n",
    "#         state = False\n",
    "        \n",
    "        if self.head.next == None:\n",
    "            self.head.next = node\n",
    "#             state = True\n",
    "            return\n",
    "            \n",
    "        pre = self.head; cur = self.head.next\n",
    "        while cur != None:\n",
    "            if cur.value >= item:\n",
    "                pre.next = node\n",
    "                node.next = cur\n",
    "#                 state = True\n",
    "                break\n",
    "            else:\n",
    "                pre = pre.next\n",
    "                cur = cur.next\n",
    "        # 只有当while循环正常结束的情况下，才执行else块中的语句.\n",
    "        # 当while 块遇到break强制跳出的时候，else 块中的语句不被执行\n",
    "        else:\n",
    "#       if state == False:       \n",
    "            pre.next = node\n",
    "                \n",
    "    def remove(self,item):\n",
    "        # 假设 item 已存在\n",
    "        if self.head.next == None:\n",
    "            return False\n",
    "            \n",
    "        pre = self.head; cur = self.head.next\n",
    "        while cur != None:\n",
    "            if cur.value > item:\n",
    "                return False\n",
    "            elif cur.value < item:\n",
    "                pre = pre.next\n",
    "                cur = cur.next\n",
    "            else:\n",
    "                pre.next = cur.next\n",
    "                break\n",
    "                \n",
    "    def search(self,item):\n",
    "        if self.head.next == None:\n",
    "            return False\n",
    "            \n",
    "        cur = self.head.next\n",
    "        while cur != None:\n",
    "            if cur.value == item:\n",
    "                return True\n",
    "            else:\n",
    "                cur = cur.next\n",
    "        return False\n",
    "    \n",
    "    def isEmpty(self):\n",
    "        return self.head.next == None\n",
    "    \n",
    "    def length(self):\n",
    "        if self.head.next == None:\n",
    "            return 0\n",
    "            \n",
    "        cur = self.head.next; count = 0\n",
    "        while cur != None:\n",
    "            count += 1\n",
    "            cur = cur.next\n",
    "            \n",
    "        return count\n",
    "    \n",
    "    def index(self,item):\n",
    "        # 假设 item 已存在\n",
    "        if self.head.next == None:\n",
    "            return False\n",
    "            \n",
    "        cur = self.head.next; index = 0\n",
    "        while cur != None:\n",
    "            if cur.value == item:\n",
    "                return index\n",
    "            else:\n",
    "                index += 1\n",
    "                cur = cur.next\n",
    "            \n",
    "        return False\n",
    "    \n",
    "    def pop(self):\n",
    "        if self.head.next == None:\n",
    "            return False\n",
    "            \n",
    "        pre = self.head; cur = self.head.next\n",
    "        while cur.next != None:\n",
    "            pre = pre.next\n",
    "            cur = cur.next\n",
    "        \n",
    "        pre.next = None\n",
    "        return cur.value\n",
    "    \n",
    "    def printL(self):\n",
    "        if self.head.next == None:\n",
    "            print(\"NULL\")\n",
    "            \n",
    "        cur = self.head.next\n",
    "        while cur != None:\n",
    "            print(cur.value,end=' ')\n",
    "            cur = cur.next"
   ]
  },
  {
   "cell_type": "code",
   "execution_count": 45,
   "id": "handy-chain",
   "metadata": {},
   "outputs": [
    {
     "name": "stdout",
     "output_type": "stream",
     "text": [
      "9 15 17 23 35 "
     ]
    }
   ],
   "source": [
    "ol = orderedList(); ol.add(15); ol.add(23); ol.add(17); ol.add(9); ol.add(35); \n",
    "ol.printL()"
   ]
  },
  {
   "cell_type": "code",
   "execution_count": 46,
   "id": "industrial-headquarters",
   "metadata": {},
   "outputs": [
    {
     "data": {
      "text/plain": [
       "(True, True, False)"
      ]
     },
     "execution_count": 46,
     "metadata": {},
     "output_type": "execute_result"
    }
   ],
   "source": [
    "ol.search(17), ol.search(9), ol.search(19) "
   ]
  },
  {
   "cell_type": "code",
   "execution_count": 47,
   "id": "stunning-cause",
   "metadata": {},
   "outputs": [
    {
     "name": "stdout",
     "output_type": "stream",
     "text": [
      "9 15 23 35 "
     ]
    }
   ],
   "source": [
    "ol.remove(17)\n",
    "ol.printL()"
   ]
  },
  {
   "cell_type": "code",
   "execution_count": 48,
   "id": "intensive-manhattan",
   "metadata": {},
   "outputs": [
    {
     "data": {
      "text/plain": [
       "2"
      ]
     },
     "execution_count": 48,
     "metadata": {},
     "output_type": "execute_result"
    }
   ],
   "source": [
    "ol.index(23)"
   ]
  },
  {
   "cell_type": "code",
   "execution_count": 49,
   "id": "bacterial-twins",
   "metadata": {},
   "outputs": [
    {
     "data": {
      "text/plain": [
       "35"
      ]
     },
     "execution_count": 49,
     "metadata": {},
     "output_type": "execute_result"
    }
   ],
   "source": [
    "ol.pop()"
   ]
  },
  {
   "cell_type": "markdown",
   "id": "serious-engine",
   "metadata": {},
   "source": [
    "### 递归"
   ]
  },
  {
   "cell_type": "markdown",
   "id": "figured-astrology",
   "metadata": {},
   "source": [
    "#### 十进制转换为任一进制（2～16）"
   ]
  },
  {
   "cell_type": "code",
   "execution_count": 50,
   "id": "impossible-volleyball",
   "metadata": {},
   "outputs": [
    {
     "data": {
      "text/plain": [
       "'100'"
      ]
     },
     "execution_count": 50,
     "metadata": {},
     "output_type": "execute_result"
    }
   ],
   "source": [
    "def convert(n,m):\n",
    "    s = '0123456789ABCDEF'\n",
    "    if n < m:\n",
    "        return s[n]\n",
    "    else:\n",
    "        return convert(n//m,m) + s[n%m]\n",
    "    \n",
    "convert(100,10)"
   ]
  },
  {
   "cell_type": "code",
   "execution_count": 52,
   "id": "smart-external",
   "metadata": {},
   "outputs": [
    {
     "data": {
      "text/plain": [
       "('E9', '1010')"
      ]
     },
     "execution_count": 52,
     "metadata": {},
     "output_type": "execute_result"
    }
   ],
   "source": [
    "convert(233,16), convert(10,2)"
   ]
  },
  {
   "cell_type": "markdown",
   "id": "twelve-eugene",
   "metadata": {},
   "source": [
    "#### 汉诺塔问题"
   ]
  },
  {
   "cell_type": "code",
   "execution_count": 58,
   "id": "otherwise-friday",
   "metadata": {},
   "outputs": [],
   "source": [
    "def hanoi(n,A,B,C):\n",
    "    if n == 1:\n",
    "        print('move from ',A,' to ',C)\n",
    "    else:\n",
    "        hanoi(n-1,A,C,B)\n",
    "        print('move from ',A,' to ',C)\n",
    "        hanoi(n-1,B,A,C)"
   ]
  },
  {
   "cell_type": "code",
   "execution_count": 59,
   "id": "ecological-means",
   "metadata": {},
   "outputs": [
    {
     "name": "stdout",
     "output_type": "stream",
     "text": [
      "move from  A  to  C\n",
      "move from  A  to  B\n",
      "move from  C  to  B\n",
      "move from  A  to  C\n",
      "move from  B  to  A\n",
      "move from  B  to  C\n",
      "move from  A  to  C\n"
     ]
    }
   ],
   "source": [
    "hanoi(3,'A','B','C')"
   ]
  },
  {
   "cell_type": "code",
   "execution_count": 60,
   "id": "noble-herald",
   "metadata": {},
   "outputs": [
    {
     "name": "stdout",
     "output_type": "stream",
     "text": [
      "move from  A  to  C\n",
      "move from  A  to  B\n",
      "move from  C  to  B\n",
      "move from  A  to  C\n",
      "move from  B  to  A\n",
      "move from  B  to  C\n",
      "move from  A  to  C\n",
      "move from  A  to  B\n",
      "move from  C  to  B\n",
      "move from  C  to  A\n",
      "move from  B  to  A\n",
      "move from  C  to  B\n",
      "move from  A  to  C\n",
      "move from  A  to  B\n",
      "move from  C  to  B\n",
      "move from  A  to  C\n",
      "move from  B  to  A\n",
      "move from  B  to  C\n",
      "move from  A  to  C\n",
      "move from  B  to  A\n",
      "move from  C  to  B\n",
      "move from  C  to  A\n",
      "move from  B  to  A\n",
      "move from  B  to  C\n",
      "move from  A  to  C\n",
      "move from  A  to  B\n",
      "move from  C  to  B\n",
      "move from  A  to  C\n",
      "move from  B  to  A\n",
      "move from  B  to  C\n",
      "move from  A  to  C\n"
     ]
    }
   ],
   "source": [
    "hanoi(5,'A','B','C')"
   ]
  },
  {
   "cell_type": "markdown",
   "id": "persistent-forty",
   "metadata": {},
   "source": [
    "### 动态规划"
   ]
  },
  {
   "cell_type": "markdown",
   "id": "statewide-heritage",
   "metadata": {},
   "source": [
    "#### 找零钱"
   ]
  },
  {
   "cell_type": "code",
   "execution_count": 67,
   "id": "distant-england",
   "metadata": {},
   "outputs": [],
   "source": [
    "# 一共有 1，5，10，25 四种面值的硬币\n",
    "# 给定需找零钱 n，求至少需要多少枚硬币\n",
    "# 贪婪算法有时会出现问题，如在找零 63，存在硬币面值 1，5，10，21，25 时。\n",
    "def charge(n):\n",
    "    minN = n\n",
    "    if n == 1 or n == 5 or \\\n",
    "    n == 10 or n == 25:\n",
    "        return 1\n",
    "    else:\n",
    "        for i in [c for c in [1,5,10,25] if c <= n]:\n",
    "            temp = 1 + charge(n-i)\n",
    "            if temp < minN:\n",
    "                minN = temp\n",
    "        return minN\n",
    "#         return min(1 + charge(n - 1), 1 + charge(n - 5), \\\n",
    "#                    1 + charge(n - 10), 1 + charge(n - 25))"
   ]
  },
  {
   "cell_type": "code",
   "execution_count": 68,
   "id": "extraordinary-gravity",
   "metadata": {},
   "outputs": [
    {
     "data": {
      "text/plain": [
       "4"
      ]
     },
     "execution_count": 68,
     "metadata": {},
     "output_type": "execute_result"
    }
   ],
   "source": [
    "charge(37)"
   ]
  },
  {
   "cell_type": "code",
   "execution_count": 4,
   "id": "ambient-girlfriend",
   "metadata": {},
   "outputs": [],
   "source": [
    "def charge2(coinValueList,n):\n",
    "    minN = n\n",
    "    if n in coinValueList:\n",
    "        return 1\n",
    "    else:\n",
    "        for i in [c for c in coinValueList if c <= n]:\n",
    "            temp = 1 + charge2(coinValueList,n-i)\n",
    "            if temp < minN:\n",
    "                minN = temp\n",
    "        return minN"
   ]
  },
  {
   "cell_type": "code",
   "execution_count": 5,
   "id": "abandoned-occupation",
   "metadata": {},
   "outputs": [
    {
     "data": {
      "text/plain": [
       "4"
      ]
     },
     "execution_count": 5,
     "metadata": {},
     "output_type": "execute_result"
    }
   ],
   "source": [
    "charge2([1,5,10,25],37)"
   ]
  },
  {
   "cell_type": "code",
   "execution_count": 9,
   "id": "upper-wednesday",
   "metadata": {},
   "outputs": [],
   "source": [
    "# 上述递归中存在大量重复运算，\n",
    "# 解决方法是用字典存储已经计算的值\n",
    "def charge3(coinValueList,n,resDict):\n",
    "    minN = n\n",
    "    if n in coinValueList:\n",
    "        resDict[n] = 1\n",
    "        return 1\n",
    "    elif n in resDict.keys():\n",
    "        return resDict[n]\n",
    "    else:\n",
    "        for i in [c for c in coinValueList if c <= n]:\n",
    "            temp = 1 + charge3(coinValueList,n-i,resDict)\n",
    "            if temp < minN:\n",
    "                minN = temp\n",
    "        return minN"
   ]
  },
  {
   "cell_type": "code",
   "execution_count": 10,
   "id": "numeric-salvation",
   "metadata": {},
   "outputs": [
    {
     "data": {
      "text/plain": [
       "4"
      ]
     },
     "execution_count": 10,
     "metadata": {},
     "output_type": "execute_result"
    }
   ],
   "source": [
    "charge3([1,5,10,25],37,{})"
   ]
  },
  {
   "cell_type": "code",
   "execution_count": 14,
   "id": "superior-brazil",
   "metadata": {},
   "outputs": [],
   "source": [
    "# 动态规划解决找零钱问题\n",
    "def dpCharge(coinValueList,n,minCoinsList):\n",
    "    for i in range(n+1):\n",
    "        coinsCount = i\n",
    "        for j in [c for c in coinValueList if c <= n]:\n",
    "            if 1 + minCoinsList[n-j] < coinsCount:\n",
    "                coinsCount = 1 + minCoinsList[n-j]\n",
    "        minCoinsList[i] = coinsCount\n",
    "        print('i',i,'  ',minCoinsList[i])\n",
    "    return minCoinsList[n]"
   ]
  },
  {
   "cell_type": "code",
   "execution_count": 16,
   "id": "entertaining-solution",
   "metadata": {},
   "outputs": [
    {
     "ename": "IndexError",
     "evalue": "list index out of range",
     "output_type": "error",
     "traceback": [
      "\u001b[0;31m---------------------------------------------------------------------------\u001b[0m",
      "\u001b[0;31mIndexError\u001b[0m                                Traceback (most recent call last)",
      "\u001b[0;32m<ipython-input-16-8c025379baff>\u001b[0m in \u001b[0;36m<module>\u001b[0;34m\u001b[0m\n\u001b[0;32m----> 1\u001b[0;31m \u001b[0mdpCharge\u001b[0m\u001b[0;34m(\u001b[0m\u001b[0;34m[\u001b[0m\u001b[0;36m1\u001b[0m\u001b[0;34m,\u001b[0m\u001b[0;36m5\u001b[0m\u001b[0;34m,\u001b[0m\u001b[0;36m10\u001b[0m\u001b[0;34m,\u001b[0m\u001b[0;36m25\u001b[0m\u001b[0;34m]\u001b[0m\u001b[0;34m,\u001b[0m\u001b[0;36m37\u001b[0m\u001b[0;34m,\u001b[0m\u001b[0;34m[\u001b[0m\u001b[0;36m0\u001b[0m\u001b[0;34m]\u001b[0m\u001b[0;34m)\u001b[0m\u001b[0;34m\u001b[0m\u001b[0;34m\u001b[0m\u001b[0m\n\u001b[0m",
      "\u001b[0;32m<ipython-input-14-46e988dab85a>\u001b[0m in \u001b[0;36mdpCharge\u001b[0;34m(coinValueList, n, minCoinsList)\u001b[0m\n\u001b[1;32m      4\u001b[0m         \u001b[0mcoinsCount\u001b[0m \u001b[0;34m=\u001b[0m \u001b[0mi\u001b[0m\u001b[0;34m\u001b[0m\u001b[0;34m\u001b[0m\u001b[0m\n\u001b[1;32m      5\u001b[0m         \u001b[0;32mfor\u001b[0m \u001b[0mj\u001b[0m \u001b[0;32min\u001b[0m \u001b[0;34m[\u001b[0m\u001b[0mc\u001b[0m \u001b[0;32mfor\u001b[0m \u001b[0mc\u001b[0m \u001b[0;32min\u001b[0m \u001b[0mcoinValueList\u001b[0m \u001b[0;32mif\u001b[0m \u001b[0mc\u001b[0m \u001b[0;34m<=\u001b[0m \u001b[0mn\u001b[0m\u001b[0;34m]\u001b[0m\u001b[0;34m:\u001b[0m\u001b[0;34m\u001b[0m\u001b[0;34m\u001b[0m\u001b[0m\n\u001b[0;32m----> 6\u001b[0;31m             \u001b[0;32mif\u001b[0m \u001b[0;36m1\u001b[0m \u001b[0;34m+\u001b[0m \u001b[0mminCoinsList\u001b[0m\u001b[0;34m[\u001b[0m\u001b[0mn\u001b[0m\u001b[0;34m-\u001b[0m\u001b[0mj\u001b[0m\u001b[0;34m]\u001b[0m \u001b[0;34m<\u001b[0m \u001b[0mcoinsCount\u001b[0m\u001b[0;34m:\u001b[0m\u001b[0;34m\u001b[0m\u001b[0;34m\u001b[0m\u001b[0m\n\u001b[0m\u001b[1;32m      7\u001b[0m                 \u001b[0mcoinsCount\u001b[0m \u001b[0;34m=\u001b[0m \u001b[0;36m1\u001b[0m \u001b[0;34m+\u001b[0m \u001b[0mminCoinsList\u001b[0m\u001b[0;34m[\u001b[0m\u001b[0mn\u001b[0m\u001b[0;34m-\u001b[0m\u001b[0mj\u001b[0m\u001b[0;34m]\u001b[0m\u001b[0;34m\u001b[0m\u001b[0;34m\u001b[0m\u001b[0m\n\u001b[1;32m      8\u001b[0m         \u001b[0mminCoinsList\u001b[0m\u001b[0;34m[\u001b[0m\u001b[0mi\u001b[0m\u001b[0;34m]\u001b[0m \u001b[0;34m=\u001b[0m \u001b[0mcoinsCount\u001b[0m\u001b[0;34m\u001b[0m\u001b[0;34m\u001b[0m\u001b[0m\n",
      "\u001b[0;31mIndexError\u001b[0m: list index out of range"
     ]
    }
   ],
   "source": [
    "dpCharge([1,5,10,25],37,[0])"
   ]
  },
  {
   "cell_type": "code",
   "execution_count": null,
   "id": "protective-conspiracy",
   "metadata": {},
   "outputs": [],
   "source": []
  }
 ],
 "metadata": {
  "kernelspec": {
   "display_name": "Python 3",
   "language": "python",
   "name": "python3"
  },
  "language_info": {
   "codemirror_mode": {
    "name": "ipython",
    "version": 3
   },
   "file_extension": ".py",
   "mimetype": "text/x-python",
   "name": "python",
   "nbconvert_exporter": "python",
   "pygments_lexer": "ipython3",
   "version": "3.9.2"
  }
 },
 "nbformat": 4,
 "nbformat_minor": 5
}
