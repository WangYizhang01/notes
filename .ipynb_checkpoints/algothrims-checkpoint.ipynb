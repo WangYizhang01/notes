{
 "cells": [
  {
   "cell_type": "markdown",
   "id": "0a0be9dc",
   "metadata": {},
   "source": [
    "## 第1章 基础"
   ]
  },
  {
   "cell_type": "markdown",
   "id": "116f387d",
   "metadata": {},
   "source": [
    "### union-find算法 "
   ]
  },
  {
   "cell_type": "markdown",
   "id": "e40945ab",
   "metadata": {},
   "source": [
    "#### 动态连通性  三种不同的实现方法"
   ]
  },
  {
   "cell_type": "markdown",
   "id": "1b7c21ad",
   "metadata": {},
   "source": [
    "#### 1. quick-find"
   ]
  },
  {
   "cell_type": "code",
   "execution_count": 4,
   "id": "c6896ac1",
   "metadata": {},
   "outputs": [],
   "source": [
    "class QuickFindUF:\n",
    "    def __init__(self,N):\n",
    "        self.id = [i for i in range(N)]\n",
    "        self.count = N\n",
    "        \n",
    "    def count(self):\n",
    "        return self.count\n",
    "    \n",
    "    def connected(self,p,q):\n",
    "        return self.find(p) == self.find(q)\n",
    "    \n",
    "    def find(self,p):\n",
    "        return self.id[p]\n",
    "    \n",
    "    def union(self,p,q):\n",
    "        if self.connected(p,q):\n",
    "            return\n",
    "        p,q = p,q if p < q else q,p\n",
    "        for i in range(len(self.id)):\n",
    "            if self.id[i] == self.id[q]:\n",
    "                self.id[i] = self.id[p]\n",
    "        self.count -= 1"
   ]
  },
  {
   "cell_type": "markdown",
   "id": "edd8c52c",
   "metadata": {},
   "source": [
    "#### 2. quick-union"
   ]
  },
  {
   "cell_type": "code",
   "execution_count": 6,
   "id": "c416c884",
   "metadata": {},
   "outputs": [],
   "source": [
    "class QuickUnionUF(QuickFindUF):\n",
    "    def __init__(self,N):\n",
    "        super(QuickUnionUF,self).__init__(self,N)\n",
    "        \n",
    "    def find(self,p):\n",
    "        while p != self.id[p]:\n",
    "            p = self.id[p]\n",
    "        return p\n",
    "    \n",
    "    def union(self,p,q):\n",
    "        idP = self.find(p)\n",
    "        idQ = self.find(q)\n",
    "        if idP == idQ:\n",
    "            return \n",
    "        else:\n",
    "            self.id[idQ] = idP\n",
    "            self.count -= 1"
   ]
  },
  {
   "cell_type": "markdown",
   "id": "e242a8ef",
   "metadata": {},
   "source": [
    "#### 加权quick-union"
   ]
  },
  {
   "cell_type": "code",
   "execution_count": 7,
   "id": "fe4528b6",
   "metadata": {},
   "outputs": [],
   "source": [
    "class WeightedQuickUnionUF(QuickFindUF):\n",
    "    def __init__(self,N):\n",
    "        super(QuickUnionUF,self).__init__(self,N)\n",
    "        self.sz = [1] * self.N\n",
    "        \n",
    "    def union(self,p,q):\n",
    "        idP = self.find(p)\n",
    "        idQ = self.find(q)\n",
    "        if idP == idQ:\n",
    "            return \n",
    "        else:\n",
    "            if self.sz[idP] < self.sz[idQ]:\n",
    "                self.id[idP] = idQ\n",
    "                self.sz[idQ] += self.sz[idP]\n",
    "            else:\n",
    "                self.id[idQ] = idP\n",
    "                self.sz[idP] += self.sz[idQ]\n",
    "            self.count -= 1"
   ]
  },
  {
   "cell_type": "code",
   "execution_count": null,
   "id": "38504d45",
   "metadata": {},
   "outputs": [],
   "source": []
  }
 ],
 "metadata": {
  "kernelspec": {
   "display_name": "Python 3",
   "language": "python",
   "name": "python3"
  },
  "language_info": {
   "codemirror_mode": {
    "name": "ipython",
    "version": 3
   },
   "file_extension": ".py",
   "mimetype": "text/x-python",
   "name": "python",
   "nbconvert_exporter": "python",
   "pygments_lexer": "ipython3",
   "version": "3.9.2"
  }
 },
 "nbformat": 4,
 "nbformat_minor": 5
}
