{
 "cells": [
  {
   "cell_type": "markdown",
   "id": "3840d2ee",
   "metadata": {},
   "source": [
    "## 动态规划"
   ]
  },
  {
   "cell_type": "markdown",
   "id": "2d4ed46e",
   "metadata": {},
   "source": [
    "### 1. 斐波那契数列"
   ]
  },
  {
   "cell_type": "markdown",
   "id": "93e1efb8",
   "metadata": {},
   "source": [
    "#### 递归解法"
   ]
  },
  {
   "cell_type": "code",
   "execution_count": 2,
   "id": "0f7a6d3d",
   "metadata": {},
   "outputs": [],
   "source": [
    "def fib(n):\n",
    "    if n < 2:\n",
    "        return n\n",
    "    else:\n",
    "        return fib(n-1) + fib(n-2)"
   ]
  },
  {
   "cell_type": "code",
   "execution_count": 3,
   "id": "5bc436ee",
   "metadata": {},
   "outputs": [
    {
     "data": {
      "text/plain": [
       "55"
      ]
     },
     "execution_count": 3,
     "metadata": {},
     "output_type": "execute_result"
    }
   ],
   "source": [
    "fib(10)"
   ]
  },
  {
   "cell_type": "code",
   "execution_count": 19,
   "id": "79d9c55f",
   "metadata": {},
   "outputs": [],
   "source": [
    "import time\n",
    "\n",
    "def comTime(func,n):\n",
    "    start = time.time()\n",
    "    func(n)\n",
    "    end = time.time()\n",
    "    return end-start"
   ]
  },
  {
   "cell_type": "code",
   "execution_count": 21,
   "id": "4afb5e9d",
   "metadata": {},
   "outputs": [
    {
     "data": {
      "text/plain": [
       "0.1972668170928955"
      ]
     },
     "execution_count": 21,
     "metadata": {},
     "output_type": "execute_result"
    }
   ],
   "source": [
    "comTime(fib,30)"
   ]
  },
  {
   "cell_type": "markdown",
   "id": "4f2facef",
   "metadata": {},
   "source": [
    "时间复杂度**O(2^n)**,中间存在大量的**重叠子问题**。"
   ]
  },
  {
   "cell_type": "markdown",
   "id": "a8270eb4",
   "metadata": {},
   "source": [
    "#### 带备忘录的递归解法"
   ]
  },
  {
   "cell_type": "code",
   "execution_count": 6,
   "id": "4663ef94",
   "metadata": {},
   "outputs": [],
   "source": [
    "# 错误写法，注意带备忘录的方法中存储中间态的数据结构的位置。\n",
    "def fib2(n):\n",
    "    d = {}\n",
    "    if n < 2:\n",
    "        return n\n",
    "    d[0] = 0; d[1] = 1\n",
    "    if n in d.keys():\n",
    "        return d[n]\n",
    "    else:\n",
    "        temp = fib2(n-1) + fib2(n-2)\n",
    "        d[n] = temp\n",
    "        return temp"
   ]
  },
  {
   "cell_type": "code",
   "execution_count": 7,
   "id": "dcc52e79",
   "metadata": {},
   "outputs": [
    {
     "data": {
      "text/plain": [
       "55"
      ]
     },
     "execution_count": 7,
     "metadata": {},
     "output_type": "execute_result"
    }
   ],
   "source": [
    "fib2(10)"
   ]
  },
  {
   "cell_type": "code",
   "execution_count": 22,
   "id": "9642e7b6",
   "metadata": {},
   "outputs": [
    {
     "data": {
      "text/plain": [
       "0.3563272953033447"
      ]
     },
     "execution_count": 22,
     "metadata": {},
     "output_type": "execute_result"
    }
   ],
   "source": [
    "comTime(fib2,30)"
   ]
  },
  {
   "cell_type": "markdown",
   "id": "ad94d5da",
   "metadata": {},
   "source": [
    "从运行时间可见，函数fib2( )并没有加快速度，原因在于存储中间态的字典定义位置错误，应调整为嵌套函数形式。  \n",
    "修正后1如fib3( )所示。"
   ]
  },
  {
   "cell_type": "code",
   "execution_count": 12,
   "id": "6aa2f417",
   "metadata": {},
   "outputs": [],
   "source": [
    "def digui(n,d):\n",
    "    if n < 2:\n",
    "        return n\n",
    "\n",
    "    if n in d.keys():\n",
    "        return d[n]\n",
    "    else:\n",
    "        temp = digui(n-1,d) + digui(n-2,d)\n",
    "        d[n] = temp\n",
    "        return temp\n",
    "    \n",
    "def fib3(n):\n",
    "    d = {}; d[0] = 0; d[1] = 1\n",
    "    res = digui(n,d)\n",
    "    return res"
   ]
  },
  {
   "cell_type": "code",
   "execution_count": 13,
   "id": "afb55f10",
   "metadata": {
    "scrolled": true
   },
   "outputs": [
    {
     "data": {
      "text/plain": [
       "55"
      ]
     },
     "execution_count": 13,
     "metadata": {},
     "output_type": "execute_result"
    }
   ],
   "source": [
    "fib3(10)"
   ]
  },
  {
   "cell_type": "code",
   "execution_count": 25,
   "id": "87fd5015",
   "metadata": {},
   "outputs": [
    {
     "data": {
      "text/plain": [
       "0.002212047576904297"
      ]
     },
     "execution_count": 25,
     "metadata": {},
     "output_type": "execute_result"
    }
   ],
   "source": [
    "comTime(fib3,1000)"
   ]
  },
  {
   "cell_type": "markdown",
   "id": "10598bbd",
   "metadata": {},
   "source": [
    "时间复杂度**O(n)**。"
   ]
  },
  {
   "cell_type": "markdown",
   "id": "a37cf410",
   "metadata": {},
   "source": [
    "#### 动态规划解法"
   ]
  },
  {
   "cell_type": "code",
   "execution_count": 16,
   "id": "3cf98cef",
   "metadata": {},
   "outputs": [],
   "source": [
    "def dp(n):\n",
    "    res = [''] * (n+1)\n",
    "    res[0] = 0; res[1] = 1\n",
    "    \n",
    "    for i in range(2,n+1):\n",
    "        res[i] = res[i-1] + res[i-2]\n",
    "        \n",
    "    return res[n]"
   ]
  },
  {
   "cell_type": "code",
   "execution_count": 17,
   "id": "5c55a380",
   "metadata": {},
   "outputs": [
    {
     "data": {
      "text/plain": [
       "55"
      ]
     },
     "execution_count": 17,
     "metadata": {},
     "output_type": "execute_result"
    }
   ],
   "source": [
    "dp(10)"
   ]
  },
  {
   "cell_type": "markdown",
   "id": "4e404ce7",
   "metadata": {},
   "source": [
    "#### 改进的动态规划解法"
   ]
  },
  {
   "cell_type": "code",
   "execution_count": 18,
   "id": "873dbc6e",
   "metadata": {},
   "outputs": [],
   "source": [
    "def dp2(n):\n",
    "    if n < 2:\n",
    "        return n\n",
    "    fir = 0; sec = 1\n",
    "    \n",
    "    for i in range(2,n+1):\n",
    "        cur = fir + sec\n",
    "        fir = sec\n",
    "        sec = cur\n",
    "        \n",
    "    return cur"
   ]
  },
  {
   "cell_type": "code",
   "execution_count": 20,
   "id": "c716942c",
   "metadata": {
    "scrolled": true
   },
   "outputs": [
    {
     "data": {
      "text/plain": [
       "55"
      ]
     },
     "execution_count": 20,
     "metadata": {},
     "output_type": "execute_result"
    }
   ],
   "source": [
    "dp2(10)"
   ]
  },
  {
   "cell_type": "markdown",
   "id": "b98b7c5c",
   "metadata": {},
   "source": [
    "递归是**自顶向下**结构，动态规划是**自底向上**。  \n",
    "动态规划三要素为：**重叠子问题、最优子结构、状态转移方程**。  \n",
    "严格来说，斐波那契数列不算动态规划，因为没有**最优子结构**。"
   ]
  },
  {
   "cell_type": "markdown",
   "id": "bdc67c47",
   "metadata": {},
   "source": [
    "### 2. 凑零钱问题"
   ]
  },
  {
   "cell_type": "markdown",
   "id": "2a0d639a",
   "metadata": {},
   "source": [
    "#### 暴力解法（递归）"
   ]
  },
  {
   "cell_type": "code",
   "execution_count": 26,
   "id": "9d9dc477",
   "metadata": {},
   "outputs": [],
   "source": [
    "def change(coins,amout):\n",
    "    if amout == 0:\n",
    "        return 0\n",
    "\n",
    "    res = 1000\n",
    "    for coin in coins:\n",
    "        if amout-coin >= 0:\n",
    "            res = min(res,1+change(coins,amout-coin))\n",
    "        else:\n",
    "            continue # 思考：continue处发生了什么？\n",
    "    return res"
   ]
  },
  {
   "cell_type": "code",
   "execution_count": 32,
   "id": "2c674258",
   "metadata": {},
   "outputs": [
    {
     "data": {
      "text/plain": [
       "3"
      ]
     },
     "execution_count": 32,
     "metadata": {},
     "output_type": "execute_result"
    }
   ],
   "source": [
    "change([1,2,5],11)"
   ]
  },
  {
   "cell_type": "code",
   "execution_count": 34,
   "id": "df37ec6b",
   "metadata": {},
   "outputs": [],
   "source": [
    "def comTime2(func,coins,amout):\n",
    "    start = time.time()\n",
    "    func(coins,amout)\n",
    "    end = time.time()\n",
    "    return end-start"
   ]
  },
  {
   "cell_type": "code",
   "execution_count": 42,
   "id": "3b129083",
   "metadata": {},
   "outputs": [
    {
     "data": {
      "text/plain": [
       "4.344850063323975"
      ]
     },
     "execution_count": 42,
     "metadata": {},
     "output_type": "execute_result"
    }
   ],
   "source": [
    "comTime2(change,[1,2,5],31)"
   ]
  },
  {
   "cell_type": "code",
   "execution_count": 28,
   "id": "d90c46ac",
   "metadata": {},
   "outputs": [],
   "source": [
    "# 书中示例\n",
    "def coinChange(coins,amout):\n",
    "    def dp(n):\n",
    "        if n == 0:\n",
    "            return 0\n",
    "        if n < 0:\n",
    "            return -1\n",
    "        res = 1000\n",
    "        for coin in coins:\n",
    "            subproblem = coinChange(coins,n-coin)\n",
    "            if subproblem == -1: continue\n",
    "            res = min(res,1+subproblem)\n",
    "        return res\n",
    "    return dp(amout)"
   ]
  },
  {
   "cell_type": "code",
   "execution_count": 33,
   "id": "d440cdfd",
   "metadata": {},
   "outputs": [
    {
     "data": {
      "text/plain": [
       "3"
      ]
     },
     "execution_count": 33,
     "metadata": {},
     "output_type": "execute_result"
    }
   ],
   "source": [
    "coinChange([1,2,5],11)"
   ]
  },
  {
   "cell_type": "code",
   "execution_count": 43,
   "id": "acc65004",
   "metadata": {},
   "outputs": [
    {
     "data": {
      "text/plain": [
       "9.435334920883179"
      ]
     },
     "execution_count": 43,
     "metadata": {},
     "output_type": "execute_result"
    }
   ],
   "source": [
    "comTime2(coinChange,[1,2,5],31)"
   ]
  },
  {
   "cell_type": "markdown",
   "id": "7360276a",
   "metadata": {},
   "source": [
    "上述写法都存在问题，无法处理**不能刚好找零**的情况。"
   ]
  },
  {
   "cell_type": "code",
   "execution_count": 59,
   "id": "0b0b7b4e",
   "metadata": {},
   "outputs": [
    {
     "data": {
      "text/plain": [
       "(1000, 1000)"
      ]
     },
     "execution_count": 59,
     "metadata": {},
     "output_type": "execute_result"
    }
   ],
   "source": [
    "change([2,5],3), coinChange([2,5],3)"
   ]
  },
  {
   "cell_type": "markdown",
   "id": "c316bbc1",
   "metadata": {},
   "source": [
    "#### 带备忘录的递归"
   ]
  },
  {
   "cell_type": "code",
   "execution_count": 44,
   "id": "f50b2b8a",
   "metadata": {},
   "outputs": [],
   "source": [
    "def change2(coins,amout):\n",
    "    d = {}\n",
    "    if amout == 0:\n",
    "        return 0\n",
    "    if amout in d.keys():\n",
    "        return d[amout]\n",
    "\n",
    "    res = 1000\n",
    "    for coin in coins:\n",
    "        if amout-coin >= 0:\n",
    "            res = min(res,1+change2(coins,amout-coin))\n",
    "        else:\n",
    "            continue # 思考：continue处发生了什么？\n",
    "    d[amout] = res\n",
    "    return res"
   ]
  },
  {
   "cell_type": "code",
   "execution_count": 45,
   "id": "4fe4e2d3",
   "metadata": {},
   "outputs": [
    {
     "data": {
      "text/plain": [
       "5.427884101867676"
      ]
     },
     "execution_count": 45,
     "metadata": {},
     "output_type": "execute_result"
    }
   ],
   "source": [
    "comTime2(change2,[1,2,5],31)"
   ]
  },
  {
   "cell_type": "markdown",
   "id": "d9a44c47",
   "metadata": {},
   "source": [
    "出现了**斐波那契数列问题**中相同的错误。修正如下："
   ]
  },
  {
   "cell_type": "code",
   "execution_count": 48,
   "id": "4920c8cd",
   "metadata": {},
   "outputs": [],
   "source": [
    "def digui2(coins,amout,d):\n",
    "    if amout == 0:\n",
    "        return 0\n",
    "    if amout in d.keys():\n",
    "        return d[amout]\n",
    "\n",
    "    res = 1000\n",
    "    for coin in coins:\n",
    "        if amout-coin >= 0:\n",
    "            res = min(res,1+digui2(coins,amout-coin,d))\n",
    "        else:\n",
    "            continue\n",
    "    d[amout] = res\n",
    "    return res\n",
    "\n",
    "def change3(coins,amout):\n",
    "    d = {}\n",
    "    return digui2(coins,amout,d)"
   ]
  },
  {
   "cell_type": "code",
   "execution_count": 50,
   "id": "9bdcac74",
   "metadata": {},
   "outputs": [
    {
     "data": {
      "text/plain": [
       "0.0033941268920898438"
      ]
     },
     "execution_count": 50,
     "metadata": {},
     "output_type": "execute_result"
    }
   ],
   "source": [
    "comTime2(change3,[1,2,5],1112)"
   ]
  },
  {
   "cell_type": "markdown",
   "id": "8606ffac",
   "metadata": {},
   "source": [
    "换一种写法，能否写成**一个函数形式**？"
   ]
  },
  {
   "cell_type": "code",
   "execution_count": 60,
   "id": "1de256ae",
   "metadata": {},
   "outputs": [],
   "source": [
    "def change4(coins,amout,d):\n",
    "    if amout == 0:\n",
    "        return 0\n",
    "    if amout in d.keys():\n",
    "        return d[amout]\n",
    "\n",
    "    res = 1000\n",
    "    for coin in coins:\n",
    "        if amout-coin >= 0:\n",
    "            res = min(res,1+change4(coins,amout-coin,d))\n",
    "        else:\n",
    "            continue\n",
    "    d[amout] = res\n",
    "    return res"
   ]
  },
  {
   "cell_type": "markdown",
   "id": "0e1d23cc",
   "metadata": {},
   "source": [
    "计算时间函数是否可写成通用形式？"
   ]
  },
  {
   "cell_type": "code",
   "execution_count": 62,
   "id": "f94ee776",
   "metadata": {},
   "outputs": [],
   "source": [
    "# 用可变参数\n",
    "def comTimeG(func,*n):\n",
    "    import time\n",
    "    start = time.time()\n",
    "    func(*n)\n",
    "    end = time.time()\n",
    "    return end-start"
   ]
  },
  {
   "cell_type": "code",
   "execution_count": 63,
   "id": "9eb604d6",
   "metadata": {},
   "outputs": [
    {
     "data": {
      "text/plain": [
       "(0.3535652160644531, 4.296720266342163)"
      ]
     },
     "execution_count": 63,
     "metadata": {},
     "output_type": "execute_result"
    }
   ],
   "source": [
    "comTimeG(fib2,30), comTimeG(change,[1,2,5],31)"
   ]
  },
  {
   "cell_type": "code",
   "execution_count": 64,
   "id": "f23023e7",
   "metadata": {},
   "outputs": [
    {
     "data": {
      "text/plain": [
       "0.004559755325317383"
      ]
     },
     "execution_count": 64,
     "metadata": {},
     "output_type": "execute_result"
    }
   ],
   "source": [
    "comTimeG(change4,[1,2,5],1112,{})"
   ]
  },
  {
   "cell_type": "markdown",
   "id": "745f19c6",
   "metadata": {},
   "source": [
    "#### 动态规划解法"
   ]
  },
  {
   "cell_type": "code",
   "execution_count": 69,
   "id": "8b6808f0",
   "metadata": {},
   "outputs": [],
   "source": [
    "def dpChange(coins,amout):\n",
    "    if amout in coins:\n",
    "        return 1\n",
    "    l = [0] * (amout + 1)\n",
    "    for i in range(1,amout+1):\n",
    "        res = i\n",
    "        for coin in coins:\n",
    "            if i - coin < 0:\n",
    "                continue\n",
    "            else:\n",
    "                res = min(res,1 + l[i-coin])\n",
    "        l[i] = res\n",
    "    return l[amout]"
   ]
  },
  {
   "cell_type": "code",
   "execution_count": 70,
   "id": "2d9b691c",
   "metadata": {},
   "outputs": [
    {
     "data": {
      "text/plain": [
       "3"
      ]
     },
     "execution_count": 70,
     "metadata": {},
     "output_type": "execute_result"
    }
   ],
   "source": [
    "dpChange([1,2,5],11)"
   ]
  },
  {
   "cell_type": "code",
   "execution_count": null,
   "id": "b5f562df",
   "metadata": {},
   "outputs": [],
   "source": []
  }
 ],
 "metadata": {
  "kernelspec": {
   "display_name": "Python 3",
   "language": "python",
   "name": "python3"
  },
  "language_info": {
   "codemirror_mode": {
    "name": "ipython",
    "version": 3
   },
   "file_extension": ".py",
   "mimetype": "text/x-python",
   "name": "python",
   "nbconvert_exporter": "python",
   "pygments_lexer": "ipython3",
   "version": "3.9.2"
  }
 },
 "nbformat": 4,
 "nbformat_minor": 5
}
