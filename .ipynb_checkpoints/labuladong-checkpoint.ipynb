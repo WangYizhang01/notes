{
 "cells": [
  {
   "cell_type": "markdown",
   "id": "3840d2ee",
   "metadata": {},
   "source": [
    "## 动态规划"
   ]
  },
  {
   "cell_type": "markdown",
   "id": "2d4ed46e",
   "metadata": {},
   "source": [
    "### 1. 斐波那契数列"
   ]
  },
  {
   "cell_type": "markdown",
   "id": "93e1efb8",
   "metadata": {},
   "source": [
    "#### 递归解法"
   ]
  },
  {
   "cell_type": "code",
   "execution_count": 2,
   "id": "0f7a6d3d",
   "metadata": {},
   "outputs": [],
   "source": [
    "def fib(n):\n",
    "    if n < 2:\n",
    "        return n\n",
    "    else:\n",
    "        return fib(n-1) + fib(n-2)"
   ]
  },
  {
   "cell_type": "code",
   "execution_count": 3,
   "id": "5bc436ee",
   "metadata": {},
   "outputs": [
    {
     "data": {
      "text/plain": [
       "55"
      ]
     },
     "execution_count": 3,
     "metadata": {},
     "output_type": "execute_result"
    }
   ],
   "source": [
    "fib(10)"
   ]
  },
  {
   "cell_type": "code",
   "execution_count": 19,
   "id": "79d9c55f",
   "metadata": {},
   "outputs": [],
   "source": [
    "import time\n",
    "\n",
    "def comTime(func,n):\n",
    "    start = time.time()\n",
    "    func(n)\n",
    "    end = time.time()\n",
    "    return end-start"
   ]
  },
  {
   "cell_type": "code",
   "execution_count": 21,
   "id": "4afb5e9d",
   "metadata": {},
   "outputs": [
    {
     "data": {
      "text/plain": [
       "0.1972668170928955"
      ]
     },
     "execution_count": 21,
     "metadata": {},
     "output_type": "execute_result"
    }
   ],
   "source": [
    "comTime(fib,30)"
   ]
  },
  {
   "cell_type": "markdown",
   "id": "4f2facef",
   "metadata": {},
   "source": [
    "时间复杂度**O(2^n)**,中间存在大量的**重叠子问题**。"
   ]
  },
  {
   "cell_type": "markdown",
   "id": "a8270eb4",
   "metadata": {},
   "source": [
    "#### 带备忘录的递归解法"
   ]
  },
  {
   "cell_type": "code",
   "execution_count": 6,
   "id": "4663ef94",
   "metadata": {},
   "outputs": [],
   "source": [
    "# 错误写法，注意带备忘录的方法中存储中间态的数据结构的位置。\n",
    "def fib2(n):\n",
    "    d = {}\n",
    "    if n < 2:\n",
    "        return n\n",
    "    d[0] = 0; d[1] = 1\n",
    "    if n in d.keys():\n",
    "        return d[n]\n",
    "    else:\n",
    "        temp = fib2(n-1) + fib2(n-2)\n",
    "        d[n] = temp\n",
    "        return temp"
   ]
  },
  {
   "cell_type": "code",
   "execution_count": 7,
   "id": "dcc52e79",
   "metadata": {},
   "outputs": [
    {
     "data": {
      "text/plain": [
       "55"
      ]
     },
     "execution_count": 7,
     "metadata": {},
     "output_type": "execute_result"
    }
   ],
   "source": [
    "fib2(10)"
   ]
  },
  {
   "cell_type": "code",
   "execution_count": 22,
   "id": "9642e7b6",
   "metadata": {},
   "outputs": [
    {
     "data": {
      "text/plain": [
       "0.3563272953033447"
      ]
     },
     "execution_count": 22,
     "metadata": {},
     "output_type": "execute_result"
    }
   ],
   "source": [
    "comTime(fib2,30)"
   ]
  },
  {
   "cell_type": "markdown",
   "id": "ad94d5da",
   "metadata": {},
   "source": [
    "从运行时间可见，函数fib2( )并没有加快速度，原因在于存储中间态的字典定义位置错误，应调整为嵌套函数形式。  \n",
    "修正后1如fib3( )所示。"
   ]
  },
  {
   "cell_type": "code",
   "execution_count": 12,
   "id": "6aa2f417",
   "metadata": {},
   "outputs": [],
   "source": [
    "def digui(n,d):\n",
    "    if n < 2:\n",
    "        return n\n",
    "\n",
    "    if n in d.keys():\n",
    "        return d[n]\n",
    "    else:\n",
    "        temp = digui(n-1,d) + digui(n-2,d)\n",
    "        d[n] = temp\n",
    "        return temp\n",
    "    \n",
    "def fib3(n):\n",
    "    d = {}; d[0] = 0; d[1] = 1\n",
    "    res = digui(n,d)\n",
    "    return res"
   ]
  },
  {
   "cell_type": "code",
   "execution_count": 13,
   "id": "afb55f10",
   "metadata": {
    "scrolled": true
   },
   "outputs": [
    {
     "data": {
      "text/plain": [
       "55"
      ]
     },
     "execution_count": 13,
     "metadata": {},
     "output_type": "execute_result"
    }
   ],
   "source": [
    "fib3(10)"
   ]
  },
  {
   "cell_type": "code",
   "execution_count": 25,
   "id": "87fd5015",
   "metadata": {},
   "outputs": [
    {
     "data": {
      "text/plain": [
       "0.002212047576904297"
      ]
     },
     "execution_count": 25,
     "metadata": {},
     "output_type": "execute_result"
    }
   ],
   "source": [
    "comTime(fib3,1000)"
   ]
  },
  {
   "cell_type": "markdown",
   "id": "10598bbd",
   "metadata": {},
   "source": [
    "时间复杂度**O(n)**。"
   ]
  },
  {
   "cell_type": "markdown",
   "id": "a37cf410",
   "metadata": {},
   "source": [
    "#### 动态规划解法"
   ]
  },
  {
   "cell_type": "code",
   "execution_count": 16,
   "id": "3cf98cef",
   "metadata": {},
   "outputs": [],
   "source": [
    "def dp(n):\n",
    "    res = [''] * (n+1)\n",
    "    res[0] = 0; res[1] = 1\n",
    "    \n",
    "    for i in range(2,n+1):\n",
    "        res[i] = res[i-1] + res[i-2]\n",
    "        \n",
    "    return res[n]"
   ]
  },
  {
   "cell_type": "code",
   "execution_count": 17,
   "id": "5c55a380",
   "metadata": {},
   "outputs": [
    {
     "data": {
      "text/plain": [
       "55"
      ]
     },
     "execution_count": 17,
     "metadata": {},
     "output_type": "execute_result"
    }
   ],
   "source": [
    "dp(10)"
   ]
  },
  {
   "cell_type": "markdown",
   "id": "4e404ce7",
   "metadata": {},
   "source": [
    "#### 改进的动态规划解法"
   ]
  },
  {
   "cell_type": "code",
   "execution_count": 18,
   "id": "873dbc6e",
   "metadata": {},
   "outputs": [],
   "source": [
    "def dp2(n):\n",
    "    if n < 2:\n",
    "        return n\n",
    "    fir = 0; sec = 1\n",
    "    \n",
    "    for i in range(2,n+1):\n",
    "        cur = fir + sec\n",
    "        fir = sec\n",
    "        sec = cur\n",
    "        \n",
    "    return cur"
   ]
  },
  {
   "cell_type": "code",
   "execution_count": 20,
   "id": "c716942c",
   "metadata": {
    "scrolled": true
   },
   "outputs": [
    {
     "data": {
      "text/plain": [
       "55"
      ]
     },
     "execution_count": 20,
     "metadata": {},
     "output_type": "execute_result"
    }
   ],
   "source": [
    "dp2(10)"
   ]
  },
  {
   "cell_type": "markdown",
   "id": "b98b7c5c",
   "metadata": {},
   "source": [
    "递归是**自顶向下**结构，动态规划是**自底向上**。  \n",
    "动态规划三要素为：**重叠子问题、最优子结构、状态转移方程**。  \n",
    "严格来说，斐波那契数列不算动态规划，因为没有**最优子结构**。"
   ]
  },
  {
   "cell_type": "markdown",
   "id": "bdc67c47",
   "metadata": {},
   "source": [
    "### 2. 凑零钱问题"
   ]
  },
  {
   "cell_type": "markdown",
   "id": "2a0d639a",
   "metadata": {},
   "source": [
    "#### 暴力解法（递归）"
   ]
  },
  {
   "cell_type": "code",
   "execution_count": 26,
   "id": "9d9dc477",
   "metadata": {},
   "outputs": [],
   "source": [
    "def change(coins,amout):\n",
    "    if amout == 0:\n",
    "        return 0\n",
    "\n",
    "    res = 1000\n",
    "    for coin in coins:\n",
    "        if amout-coin >= 0:\n",
    "            res = min(res,1+change(coins,amout-coin))\n",
    "        else:\n",
    "            continue # 思考：continue处发生了什么？\n",
    "    return res"
   ]
  },
  {
   "cell_type": "code",
   "execution_count": 32,
   "id": "2c674258",
   "metadata": {},
   "outputs": [
    {
     "data": {
      "text/plain": [
       "3"
      ]
     },
     "execution_count": 32,
     "metadata": {},
     "output_type": "execute_result"
    }
   ],
   "source": [
    "change([1,2,5],11)"
   ]
  },
  {
   "cell_type": "code",
   "execution_count": 34,
   "id": "df37ec6b",
   "metadata": {},
   "outputs": [],
   "source": [
    "def comTime2(func,coins,amout):\n",
    "    start = time.time()\n",
    "    func(coins,amout)\n",
    "    end = time.time()\n",
    "    return end-start"
   ]
  },
  {
   "cell_type": "code",
   "execution_count": 42,
   "id": "3b129083",
   "metadata": {},
   "outputs": [
    {
     "data": {
      "text/plain": [
       "4.344850063323975"
      ]
     },
     "execution_count": 42,
     "metadata": {},
     "output_type": "execute_result"
    }
   ],
   "source": [
    "comTime2(change,[1,2,5],31)"
   ]
  },
  {
   "cell_type": "code",
   "execution_count": 28,
   "id": "d90c46ac",
   "metadata": {},
   "outputs": [],
   "source": [
    "# 书中示例\n",
    "def coinChange(coins,amout):\n",
    "    def dp(n):\n",
    "        if n == 0:\n",
    "            return 0\n",
    "        if n < 0:\n",
    "            return -1\n",
    "        res = 1000\n",
    "        for coin in coins:\n",
    "            subproblem = coinChange(coins,n-coin)\n",
    "            if subproblem == -1: continue\n",
    "            res = min(res,1+subproblem)\n",
    "        return res\n",
    "    return dp(amout)"
   ]
  },
  {
   "cell_type": "code",
   "execution_count": 33,
   "id": "d440cdfd",
   "metadata": {},
   "outputs": [
    {
     "data": {
      "text/plain": [
       "3"
      ]
     },
     "execution_count": 33,
     "metadata": {},
     "output_type": "execute_result"
    }
   ],
   "source": [
    "coinChange([1,2,5],11)"
   ]
  },
  {
   "cell_type": "code",
   "execution_count": 43,
   "id": "acc65004",
   "metadata": {},
   "outputs": [
    {
     "data": {
      "text/plain": [
       "9.435334920883179"
      ]
     },
     "execution_count": 43,
     "metadata": {},
     "output_type": "execute_result"
    }
   ],
   "source": [
    "comTime2(coinChange,[1,2,5],31)"
   ]
  },
  {
   "cell_type": "markdown",
   "id": "7360276a",
   "metadata": {},
   "source": [
    "上述写法都存在问题，无法处理**不能刚好找零**的情况。"
   ]
  },
  {
   "cell_type": "code",
   "execution_count": 59,
   "id": "0b0b7b4e",
   "metadata": {},
   "outputs": [
    {
     "data": {
      "text/plain": [
       "(1000, 1000)"
      ]
     },
     "execution_count": 59,
     "metadata": {},
     "output_type": "execute_result"
    }
   ],
   "source": [
    "change([2,5],3), coinChange([2,5],3)"
   ]
  },
  {
   "cell_type": "markdown",
   "id": "c316bbc1",
   "metadata": {},
   "source": [
    "#### 带备忘录的递归"
   ]
  },
  {
   "cell_type": "code",
   "execution_count": 44,
   "id": "f50b2b8a",
   "metadata": {},
   "outputs": [],
   "source": [
    "def change2(coins,amout):\n",
    "    d = {}\n",
    "    if amout == 0:\n",
    "        return 0\n",
    "    if amout in d.keys():\n",
    "        return d[amout]\n",
    "\n",
    "    res = 1000\n",
    "    for coin in coins:\n",
    "        if amout-coin >= 0:\n",
    "            res = min(res,1+change2(coins,amout-coin))\n",
    "        else:\n",
    "            continue # 思考：continue处发生了什么？\n",
    "    d[amout] = res\n",
    "    return res"
   ]
  },
  {
   "cell_type": "code",
   "execution_count": 45,
   "id": "4fe4e2d3",
   "metadata": {},
   "outputs": [
    {
     "data": {
      "text/plain": [
       "5.427884101867676"
      ]
     },
     "execution_count": 45,
     "metadata": {},
     "output_type": "execute_result"
    }
   ],
   "source": [
    "comTime2(change2,[1,2,5],31)"
   ]
  },
  {
   "cell_type": "markdown",
   "id": "d9a44c47",
   "metadata": {},
   "source": [
    "出现了**斐波那契数列问题**中相同的错误。修正如下："
   ]
  },
  {
   "cell_type": "code",
   "execution_count": 48,
   "id": "4920c8cd",
   "metadata": {},
   "outputs": [],
   "source": [
    "def digui2(coins,amout,d):\n",
    "    if amout == 0:\n",
    "        return 0\n",
    "    if amout in d.keys():\n",
    "        return d[amout]\n",
    "\n",
    "    res = 1000\n",
    "    for coin in coins:\n",
    "        if amout-coin >= 0:\n",
    "            res = min(res,1+digui2(coins,amout-coin,d))\n",
    "        else:\n",
    "            continue\n",
    "    d[amout] = res\n",
    "    return res\n",
    "\n",
    "def change3(coins,amout):\n",
    "    d = {}\n",
    "    return digui2(coins,amout,d)"
   ]
  },
  {
   "cell_type": "code",
   "execution_count": 50,
   "id": "9bdcac74",
   "metadata": {},
   "outputs": [
    {
     "data": {
      "text/plain": [
       "0.0033941268920898438"
      ]
     },
     "execution_count": 50,
     "metadata": {},
     "output_type": "execute_result"
    }
   ],
   "source": [
    "comTime2(change3,[1,2,5],1112)"
   ]
  },
  {
   "cell_type": "markdown",
   "id": "8606ffac",
   "metadata": {},
   "source": [
    "换一种写法，能否写成**一个函数形式**？"
   ]
  },
  {
   "cell_type": "code",
   "execution_count": 60,
   "id": "1de256ae",
   "metadata": {},
   "outputs": [],
   "source": [
    "def change4(coins,amout,d):\n",
    "    if amout == 0:\n",
    "        return 0\n",
    "    if amout in d.keys():\n",
    "        return d[amout]\n",
    "\n",
    "    res = 1000\n",
    "    for coin in coins:\n",
    "        if amout-coin >= 0:\n",
    "            res = min(res,1+change4(coins,amout-coin,d))\n",
    "        else:\n",
    "            continue\n",
    "    d[amout] = res\n",
    "    return res"
   ]
  },
  {
   "cell_type": "markdown",
   "id": "0e1d23cc",
   "metadata": {},
   "source": [
    "计算时间函数是否可写成通用形式？"
   ]
  },
  {
   "cell_type": "code",
   "execution_count": 62,
   "id": "f94ee776",
   "metadata": {},
   "outputs": [],
   "source": [
    "# 用可变参数\n",
    "def comTimeG(func,*n):\n",
    "    import time\n",
    "    start = time.time()\n",
    "    func(*n)\n",
    "    end = time.time()\n",
    "    return end-start"
   ]
  },
  {
   "cell_type": "code",
   "execution_count": 63,
   "id": "9eb604d6",
   "metadata": {},
   "outputs": [
    {
     "data": {
      "text/plain": [
       "(0.3535652160644531, 4.296720266342163)"
      ]
     },
     "execution_count": 63,
     "metadata": {},
     "output_type": "execute_result"
    }
   ],
   "source": [
    "comTimeG(fib2,30), comTimeG(change,[1,2,5],31)"
   ]
  },
  {
   "cell_type": "code",
   "execution_count": 64,
   "id": "f23023e7",
   "metadata": {},
   "outputs": [
    {
     "data": {
      "text/plain": [
       "0.004559755325317383"
      ]
     },
     "execution_count": 64,
     "metadata": {},
     "output_type": "execute_result"
    }
   ],
   "source": [
    "comTimeG(change4,[1,2,5],1112,{})"
   ]
  },
  {
   "cell_type": "markdown",
   "id": "745f19c6",
   "metadata": {},
   "source": [
    "#### 动态规划解法"
   ]
  },
  {
   "cell_type": "code",
   "execution_count": 69,
   "id": "8b6808f0",
   "metadata": {},
   "outputs": [],
   "source": [
    "def dpChange(coins,amout):\n",
    "    if amout in coins:\n",
    "        return 1\n",
    "    l = [0] * (amout + 1)\n",
    "    for i in range(1,amout+1):\n",
    "        res = i\n",
    "        for coin in coins:\n",
    "            if i - coin < 0:\n",
    "                continue\n",
    "            else:\n",
    "                res = min(res,1 + l[i-coin])\n",
    "        l[i] = res\n",
    "    return l[amout]"
   ]
  },
  {
   "cell_type": "code",
   "execution_count": 71,
   "id": "2d9b691c",
   "metadata": {},
   "outputs": [
    {
     "data": {
      "text/plain": [
       "3"
      ]
     },
     "execution_count": 71,
     "metadata": {},
     "output_type": "execute_result"
    }
   ],
   "source": [
    "dpChange([1,2,5],11)"
   ]
  },
  {
   "cell_type": "markdown",
   "id": "964a0971",
   "metadata": {},
   "source": [
    "书中：计算机解决问题，唯一的途径就是**穷举**，穷举所有可能性。  \n",
    "算法设计⽆⾮就是先思考“如何穷举”，然后再追求“如何聪明地穷举”。"
   ]
  },
  {
   "cell_type": "markdown",
   "id": "dc728722",
   "metadata": {},
   "source": [
    "思考：可以**通过数学推理来优化算法**，从而“聪明地穷举”，忽略一些不可能的情况。"
   ]
  },
  {
   "cell_type": "markdown",
   "id": "257dcc55",
   "metadata": {},
   "source": [
    "### 拓展"
   ]
  },
  {
   "cell_type": "markdown",
   "id": "2fc0d668",
   "metadata": {},
   "source": [
    "#### 什么是最优子结构？"
   ]
  },
  {
   "cell_type": "markdown",
   "id": "7f4d1d3c",
   "metadata": {},
   "source": [
    "「最优⼦结构」是某些问题的⼀种特定性质，并不是动态规划问题专有的。很多问题其实都具有最优⼦结构，只是其中⼤部分不具有重叠⼦问题，所以我们不把它们归为动态规划系列问题。  \n",
    "**最优⼦结构：可以从⼦问题的最优结果推出更⼤规模问题的最优结果。**  \n",
    "想满⾜最优⼦结构，**⼦问题之间必须互相独⽴**。"
   ]
  },
  {
   "cell_type": "markdown",
   "id": "4dc35e11",
   "metadata": {},
   "source": [
    "### 3. 最长递增子序列"
   ]
  },
  {
   "cell_type": "markdown",
   "id": "2c1a0d80",
   "metadata": {},
   "source": [
    "给定一个无序的整数数组，找出其中最长上升子序列的长度。  \n",
    "如输入 [ 10, 9, 2, 5, 3, 7, 101, 18 ], 其中最长上升子序列是 [ 2, 3, 7, 101 ], 长度是4。  \n",
    "注意「⼦序列」和「⼦串」这两个名词的区别，⼦串⼀定是连续的，⽽⼦序列不⼀定是连续的"
   ]
  },
  {
   "cell_type": "markdown",
   "id": "44f69f6f",
   "metadata": {},
   "source": [
    "#### 动态规划解法"
   ]
  },
  {
   "cell_type": "markdown",
   "id": "ec3ff468",
   "metadata": {},
   "source": [
    "动态规划的核⼼设计思想是**数学归纳法**.  "
   ]
  },
  {
   "cell_type": "markdown",
   "id": "d432ea22",
   "metadata": {},
   "source": [
    "⾸先要定义清楚dp数组的含义，本题可**定义 dp[i] 为以 nums[i] 这个数结尾的最⻓递增⼦序列的⻓度**。"
   ]
  },
  {
   "cell_type": "code",
   "execution_count": 74,
   "id": "9d61d8bd",
   "metadata": {},
   "outputs": [],
   "source": [
    "def dpMaxSeries(l):\n",
    "    n = len(l)\n",
    "    dp = [1] * n\n",
    "    \n",
    "    for i in range(1,n):\n",
    "        for j in range(i):\n",
    "            if l[j] < l[i]:\n",
    "                dp[i] = max(dp[i],1+dp[j])\n",
    "                \n",
    "    return max(dp)"
   ]
  },
  {
   "cell_type": "code",
   "execution_count": 75,
   "id": "66fbf394",
   "metadata": {},
   "outputs": [
    {
     "data": {
      "text/plain": [
       "4"
      ]
     },
     "execution_count": 75,
     "metadata": {},
     "output_type": "execute_result"
    }
   ],
   "source": [
    "l = [10,9,2,5,3,7,101,18]\n",
    "dpMaxSeries(l)"
   ]
  },
  {
   "cell_type": "markdown",
   "id": "7962c3f8",
   "metadata": {},
   "source": [
    "总结⼀下**动态规划的设计流程**：  \n",
    "\n",
    "**⾸先明确 dp 数组所存数据的含义；  \n",
    "然后根据 dp 数组的定义，运⽤数学归纳法的思想，假设 dp[0,...,i-1] 都已知，想办法求出 dp[i];  \n",
    "最后想⼀想问题的base case是什么，以此来初始化 dp 数组，以保证算法正确运⾏.**"
   ]
  },
  {
   "cell_type": "markdown",
   "id": "14d49453",
   "metadata": {},
   "source": [
    "### 4. 编辑距离"
   ]
  },
  {
   "cell_type": "markdown",
   "id": "08f771c1",
   "metadata": {},
   "source": [
    "给定两个字符串 s1、s2，计算将 s1 转换成 s2 的最小操作数。  \n",
    "你可以对一个字符串进行如下操作：  \n",
    "1. 插入一个字符；  \n",
    "2. 删除一个字符；  \n",
    "3. 替换一个字符。"
   ]
  },
  {
   "cell_type": "markdown",
   "id": "99af3b30",
   "metadata": {},
   "source": [
    "#### 递归解法"
   ]
  },
  {
   "cell_type": "code",
   "execution_count": 77,
   "id": "b3869921",
   "metadata": {},
   "outputs": [],
   "source": [
    "def editDistanceRec(s1,s2):\n",
    "    if len(s1) == 0: return len(s2)\n",
    "    if len(s2) == 0: return len(s1)\n",
    "    \n",
    "    if s1[-1] == s2[-1]:\n",
    "        return editDistanceRec(s1[:-1],s2[:-1])\n",
    "    else:\n",
    "        return min(\n",
    "        editDistanceRec(s1,s2[:-1]),\n",
    "        editDistanceRec(s1[:-1],s2),\n",
    "        editDistanceRec(s1[:-1],s2[:-1])) + 1"
   ]
  },
  {
   "cell_type": "code",
   "execution_count": 78,
   "id": "d408cac8",
   "metadata": {},
   "outputs": [
    {
     "data": {
      "text/plain": [
       "3"
      ]
     },
     "execution_count": 78,
     "metadata": {},
     "output_type": "execute_result"
    }
   ],
   "source": [
    "editDistanceRec('horse','ros')"
   ]
  },
  {
   "cell_type": "code",
   "execution_count": 85,
   "id": "0c54085e",
   "metadata": {},
   "outputs": [
    {
     "data": {
      "text/plain": [
       "0.02956700325012207"
      ]
     },
     "execution_count": 85,
     "metadata": {},
     "output_type": "execute_result"
    }
   ],
   "source": [
    "comTimeG(editDistanceRec,'hawyacbdaadj','dajkh')"
   ]
  },
  {
   "cell_type": "code",
   "execution_count": 89,
   "id": "39bb8fb9",
   "metadata": {},
   "outputs": [
    {
     "ename": "KeyboardInterrupt",
     "evalue": "",
     "output_type": "error",
     "traceback": [
      "\u001b[0;31m---------------------------------------------------------------------------\u001b[0m",
      "\u001b[0;31mKeyboardInterrupt\u001b[0m                         Traceback (most recent call last)",
      "\u001b[0;32m<ipython-input-89-ea8428673a27>\u001b[0m in \u001b[0;36m<module>\u001b[0;34m\u001b[0m\n\u001b[0;32m----> 1\u001b[0;31m \u001b[0mcomTimeG\u001b[0m\u001b[0;34m(\u001b[0m\u001b[0meditDistanceRec\u001b[0m\u001b[0;34m,\u001b[0m\u001b[0;34m'kcwcabwjdaadj'\u001b[0m\u001b[0;34m,\u001b[0m\u001b[0;34m'dajkhcenccysgc'\u001b[0m\u001b[0;34m)\u001b[0m\u001b[0;34m\u001b[0m\u001b[0;34m\u001b[0m\u001b[0m\n\u001b[0m",
      "\u001b[0;32m<ipython-input-62-5bb7647ab1cb>\u001b[0m in \u001b[0;36mcomTimeG\u001b[0;34m(func, *n)\u001b[0m\n\u001b[1;32m      3\u001b[0m     \u001b[0;32mimport\u001b[0m \u001b[0mtime\u001b[0m\u001b[0;34m\u001b[0m\u001b[0;34m\u001b[0m\u001b[0m\n\u001b[1;32m      4\u001b[0m     \u001b[0mstart\u001b[0m \u001b[0;34m=\u001b[0m \u001b[0mtime\u001b[0m\u001b[0;34m.\u001b[0m\u001b[0mtime\u001b[0m\u001b[0;34m(\u001b[0m\u001b[0;34m)\u001b[0m\u001b[0;34m\u001b[0m\u001b[0;34m\u001b[0m\u001b[0m\n\u001b[0;32m----> 5\u001b[0;31m     \u001b[0mfunc\u001b[0m\u001b[0;34m(\u001b[0m\u001b[0;34m*\u001b[0m\u001b[0mn\u001b[0m\u001b[0;34m)\u001b[0m\u001b[0;34m\u001b[0m\u001b[0;34m\u001b[0m\u001b[0m\n\u001b[0m\u001b[1;32m      6\u001b[0m     \u001b[0mend\u001b[0m \u001b[0;34m=\u001b[0m \u001b[0mtime\u001b[0m\u001b[0;34m.\u001b[0m\u001b[0mtime\u001b[0m\u001b[0;34m(\u001b[0m\u001b[0;34m)\u001b[0m\u001b[0;34m\u001b[0m\u001b[0;34m\u001b[0m\u001b[0m\n\u001b[1;32m      7\u001b[0m     \u001b[0;32mreturn\u001b[0m \u001b[0mend\u001b[0m\u001b[0;34m-\u001b[0m\u001b[0mstart\u001b[0m\u001b[0;34m\u001b[0m\u001b[0;34m\u001b[0m\u001b[0m\n",
      "\u001b[0;32m<ipython-input-77-9eaa57a0f39b>\u001b[0m in \u001b[0;36meditDistanceRec\u001b[0;34m(s1, s2)\u001b[0m\n\u001b[1;32m      7\u001b[0m     \u001b[0;32melse\u001b[0m\u001b[0;34m:\u001b[0m\u001b[0;34m\u001b[0m\u001b[0;34m\u001b[0m\u001b[0m\n\u001b[1;32m      8\u001b[0m         return min(\n\u001b[0;32m----> 9\u001b[0;31m         \u001b[0meditDistanceRec\u001b[0m\u001b[0;34m(\u001b[0m\u001b[0ms1\u001b[0m\u001b[0;34m,\u001b[0m\u001b[0ms2\u001b[0m\u001b[0;34m[\u001b[0m\u001b[0;34m:\u001b[0m\u001b[0;34m-\u001b[0m\u001b[0;36m1\u001b[0m\u001b[0;34m]\u001b[0m\u001b[0;34m)\u001b[0m\u001b[0;34m,\u001b[0m\u001b[0;34m\u001b[0m\u001b[0;34m\u001b[0m\u001b[0m\n\u001b[0m\u001b[1;32m     10\u001b[0m         \u001b[0meditDistanceRec\u001b[0m\u001b[0;34m(\u001b[0m\u001b[0ms1\u001b[0m\u001b[0;34m[\u001b[0m\u001b[0;34m:\u001b[0m\u001b[0;34m-\u001b[0m\u001b[0;36m1\u001b[0m\u001b[0;34m]\u001b[0m\u001b[0;34m,\u001b[0m\u001b[0ms2\u001b[0m\u001b[0;34m)\u001b[0m\u001b[0;34m,\u001b[0m\u001b[0;34m\u001b[0m\u001b[0;34m\u001b[0m\u001b[0m\n\u001b[1;32m     11\u001b[0m         editDistanceRec(s1[:-1],s2[:-1])) + 1\n",
      "\u001b[0;32m<ipython-input-77-9eaa57a0f39b>\u001b[0m in \u001b[0;36meditDistanceRec\u001b[0;34m(s1, s2)\u001b[0m\n\u001b[1;32m      8\u001b[0m         return min(\n\u001b[1;32m      9\u001b[0m         \u001b[0meditDistanceRec\u001b[0m\u001b[0;34m(\u001b[0m\u001b[0ms1\u001b[0m\u001b[0;34m,\u001b[0m\u001b[0ms2\u001b[0m\u001b[0;34m[\u001b[0m\u001b[0;34m:\u001b[0m\u001b[0;34m-\u001b[0m\u001b[0;36m1\u001b[0m\u001b[0;34m]\u001b[0m\u001b[0;34m)\u001b[0m\u001b[0;34m,\u001b[0m\u001b[0;34m\u001b[0m\u001b[0;34m\u001b[0m\u001b[0m\n\u001b[0;32m---> 10\u001b[0;31m         \u001b[0meditDistanceRec\u001b[0m\u001b[0;34m(\u001b[0m\u001b[0ms1\u001b[0m\u001b[0;34m[\u001b[0m\u001b[0;34m:\u001b[0m\u001b[0;34m-\u001b[0m\u001b[0;36m1\u001b[0m\u001b[0;34m]\u001b[0m\u001b[0;34m,\u001b[0m\u001b[0ms2\u001b[0m\u001b[0;34m)\u001b[0m\u001b[0;34m,\u001b[0m\u001b[0;34m\u001b[0m\u001b[0;34m\u001b[0m\u001b[0m\n\u001b[0m\u001b[1;32m     11\u001b[0m         editDistanceRec(s1[:-1],s2[:-1])) + 1\n",
      "\u001b[0;32m<ipython-input-77-9eaa57a0f39b>\u001b[0m in \u001b[0;36meditDistanceRec\u001b[0;34m(s1, s2)\u001b[0m\n\u001b[1;32m      7\u001b[0m     \u001b[0;32melse\u001b[0m\u001b[0;34m:\u001b[0m\u001b[0;34m\u001b[0m\u001b[0;34m\u001b[0m\u001b[0m\n\u001b[1;32m      8\u001b[0m         return min(\n\u001b[0;32m----> 9\u001b[0;31m         \u001b[0meditDistanceRec\u001b[0m\u001b[0;34m(\u001b[0m\u001b[0ms1\u001b[0m\u001b[0;34m,\u001b[0m\u001b[0ms2\u001b[0m\u001b[0;34m[\u001b[0m\u001b[0;34m:\u001b[0m\u001b[0;34m-\u001b[0m\u001b[0;36m1\u001b[0m\u001b[0;34m]\u001b[0m\u001b[0;34m)\u001b[0m\u001b[0;34m,\u001b[0m\u001b[0;34m\u001b[0m\u001b[0;34m\u001b[0m\u001b[0m\n\u001b[0m\u001b[1;32m     10\u001b[0m         \u001b[0meditDistanceRec\u001b[0m\u001b[0;34m(\u001b[0m\u001b[0ms1\u001b[0m\u001b[0;34m[\u001b[0m\u001b[0;34m:\u001b[0m\u001b[0;34m-\u001b[0m\u001b[0;36m1\u001b[0m\u001b[0;34m]\u001b[0m\u001b[0;34m,\u001b[0m\u001b[0ms2\u001b[0m\u001b[0;34m)\u001b[0m\u001b[0;34m,\u001b[0m\u001b[0;34m\u001b[0m\u001b[0;34m\u001b[0m\u001b[0m\n\u001b[1;32m     11\u001b[0m         editDistanceRec(s1[:-1],s2[:-1])) + 1\n",
      "\u001b[0;32m<ipython-input-77-9eaa57a0f39b>\u001b[0m in \u001b[0;36meditDistanceRec\u001b[0;34m(s1, s2)\u001b[0m\n\u001b[1;32m      7\u001b[0m     \u001b[0;32melse\u001b[0m\u001b[0;34m:\u001b[0m\u001b[0;34m\u001b[0m\u001b[0;34m\u001b[0m\u001b[0m\n\u001b[1;32m      8\u001b[0m         return min(\n\u001b[0;32m----> 9\u001b[0;31m         \u001b[0meditDistanceRec\u001b[0m\u001b[0;34m(\u001b[0m\u001b[0ms1\u001b[0m\u001b[0;34m,\u001b[0m\u001b[0ms2\u001b[0m\u001b[0;34m[\u001b[0m\u001b[0;34m:\u001b[0m\u001b[0;34m-\u001b[0m\u001b[0;36m1\u001b[0m\u001b[0;34m]\u001b[0m\u001b[0;34m)\u001b[0m\u001b[0;34m,\u001b[0m\u001b[0;34m\u001b[0m\u001b[0;34m\u001b[0m\u001b[0m\n\u001b[0m\u001b[1;32m     10\u001b[0m         \u001b[0meditDistanceRec\u001b[0m\u001b[0;34m(\u001b[0m\u001b[0ms1\u001b[0m\u001b[0;34m[\u001b[0m\u001b[0;34m:\u001b[0m\u001b[0;34m-\u001b[0m\u001b[0;36m1\u001b[0m\u001b[0;34m]\u001b[0m\u001b[0;34m,\u001b[0m\u001b[0ms2\u001b[0m\u001b[0;34m)\u001b[0m\u001b[0;34m,\u001b[0m\u001b[0;34m\u001b[0m\u001b[0;34m\u001b[0m\u001b[0m\n\u001b[1;32m     11\u001b[0m         editDistanceRec(s1[:-1],s2[:-1])) + 1\n",
      "\u001b[0;32m<ipython-input-77-9eaa57a0f39b>\u001b[0m in \u001b[0;36meditDistanceRec\u001b[0;34m(s1, s2)\u001b[0m\n\u001b[1;32m      7\u001b[0m     \u001b[0;32melse\u001b[0m\u001b[0;34m:\u001b[0m\u001b[0;34m\u001b[0m\u001b[0;34m\u001b[0m\u001b[0m\n\u001b[1;32m      8\u001b[0m         return min(\n\u001b[0;32m----> 9\u001b[0;31m         \u001b[0meditDistanceRec\u001b[0m\u001b[0;34m(\u001b[0m\u001b[0ms1\u001b[0m\u001b[0;34m,\u001b[0m\u001b[0ms2\u001b[0m\u001b[0;34m[\u001b[0m\u001b[0;34m:\u001b[0m\u001b[0;34m-\u001b[0m\u001b[0;36m1\u001b[0m\u001b[0;34m]\u001b[0m\u001b[0;34m)\u001b[0m\u001b[0;34m,\u001b[0m\u001b[0;34m\u001b[0m\u001b[0;34m\u001b[0m\u001b[0m\n\u001b[0m\u001b[1;32m     10\u001b[0m         \u001b[0meditDistanceRec\u001b[0m\u001b[0;34m(\u001b[0m\u001b[0ms1\u001b[0m\u001b[0;34m[\u001b[0m\u001b[0;34m:\u001b[0m\u001b[0;34m-\u001b[0m\u001b[0;36m1\u001b[0m\u001b[0;34m]\u001b[0m\u001b[0;34m,\u001b[0m\u001b[0ms2\u001b[0m\u001b[0;34m)\u001b[0m\u001b[0;34m,\u001b[0m\u001b[0;34m\u001b[0m\u001b[0;34m\u001b[0m\u001b[0m\n\u001b[1;32m     11\u001b[0m         editDistanceRec(s1[:-1],s2[:-1])) + 1\n",
      "\u001b[0;32m<ipython-input-77-9eaa57a0f39b>\u001b[0m in \u001b[0;36meditDistanceRec\u001b[0;34m(s1, s2)\u001b[0m\n\u001b[1;32m      8\u001b[0m         return min(\n\u001b[1;32m      9\u001b[0m         \u001b[0meditDistanceRec\u001b[0m\u001b[0;34m(\u001b[0m\u001b[0ms1\u001b[0m\u001b[0;34m,\u001b[0m\u001b[0ms2\u001b[0m\u001b[0;34m[\u001b[0m\u001b[0;34m:\u001b[0m\u001b[0;34m-\u001b[0m\u001b[0;36m1\u001b[0m\u001b[0;34m]\u001b[0m\u001b[0;34m)\u001b[0m\u001b[0;34m,\u001b[0m\u001b[0;34m\u001b[0m\u001b[0;34m\u001b[0m\u001b[0m\n\u001b[0;32m---> 10\u001b[0;31m         \u001b[0meditDistanceRec\u001b[0m\u001b[0;34m(\u001b[0m\u001b[0ms1\u001b[0m\u001b[0;34m[\u001b[0m\u001b[0;34m:\u001b[0m\u001b[0;34m-\u001b[0m\u001b[0;36m1\u001b[0m\u001b[0;34m]\u001b[0m\u001b[0;34m,\u001b[0m\u001b[0ms2\u001b[0m\u001b[0;34m)\u001b[0m\u001b[0;34m,\u001b[0m\u001b[0;34m\u001b[0m\u001b[0;34m\u001b[0m\u001b[0m\n\u001b[0m\u001b[1;32m     11\u001b[0m         editDistanceRec(s1[:-1],s2[:-1])) + 1\n",
      "\u001b[0;32m<ipython-input-77-9eaa57a0f39b>\u001b[0m in \u001b[0;36meditDistanceRec\u001b[0;34m(s1, s2)\u001b[0m\n\u001b[1;32m      9\u001b[0m         \u001b[0meditDistanceRec\u001b[0m\u001b[0;34m(\u001b[0m\u001b[0ms1\u001b[0m\u001b[0;34m,\u001b[0m\u001b[0ms2\u001b[0m\u001b[0;34m[\u001b[0m\u001b[0;34m:\u001b[0m\u001b[0;34m-\u001b[0m\u001b[0;36m1\u001b[0m\u001b[0;34m]\u001b[0m\u001b[0;34m)\u001b[0m\u001b[0;34m,\u001b[0m\u001b[0;34m\u001b[0m\u001b[0;34m\u001b[0m\u001b[0m\n\u001b[1;32m     10\u001b[0m         \u001b[0meditDistanceRec\u001b[0m\u001b[0;34m(\u001b[0m\u001b[0ms1\u001b[0m\u001b[0;34m[\u001b[0m\u001b[0;34m:\u001b[0m\u001b[0;34m-\u001b[0m\u001b[0;36m1\u001b[0m\u001b[0;34m]\u001b[0m\u001b[0;34m,\u001b[0m\u001b[0ms2\u001b[0m\u001b[0;34m)\u001b[0m\u001b[0;34m,\u001b[0m\u001b[0;34m\u001b[0m\u001b[0;34m\u001b[0m\u001b[0m\n\u001b[0;32m---> 11\u001b[0;31m         editDistanceRec(s1[:-1],s2[:-1])) + 1\n\u001b[0m",
      "\u001b[0;32m<ipython-input-77-9eaa57a0f39b>\u001b[0m in \u001b[0;36meditDistanceRec\u001b[0;34m(s1, s2)\u001b[0m\n\u001b[1;32m      8\u001b[0m         return min(\n\u001b[1;32m      9\u001b[0m         \u001b[0meditDistanceRec\u001b[0m\u001b[0;34m(\u001b[0m\u001b[0ms1\u001b[0m\u001b[0;34m,\u001b[0m\u001b[0ms2\u001b[0m\u001b[0;34m[\u001b[0m\u001b[0;34m:\u001b[0m\u001b[0;34m-\u001b[0m\u001b[0;36m1\u001b[0m\u001b[0;34m]\u001b[0m\u001b[0;34m)\u001b[0m\u001b[0;34m,\u001b[0m\u001b[0;34m\u001b[0m\u001b[0;34m\u001b[0m\u001b[0m\n\u001b[0;32m---> 10\u001b[0;31m         \u001b[0meditDistanceRec\u001b[0m\u001b[0;34m(\u001b[0m\u001b[0ms1\u001b[0m\u001b[0;34m[\u001b[0m\u001b[0;34m:\u001b[0m\u001b[0;34m-\u001b[0m\u001b[0;36m1\u001b[0m\u001b[0;34m]\u001b[0m\u001b[0;34m,\u001b[0m\u001b[0ms2\u001b[0m\u001b[0;34m)\u001b[0m\u001b[0;34m,\u001b[0m\u001b[0;34m\u001b[0m\u001b[0;34m\u001b[0m\u001b[0m\n\u001b[0m\u001b[1;32m     11\u001b[0m         editDistanceRec(s1[:-1],s2[:-1])) + 1\n",
      "\u001b[0;32m<ipython-input-77-9eaa57a0f39b>\u001b[0m in \u001b[0;36meditDistanceRec\u001b[0;34m(s1, s2)\u001b[0m\n\u001b[1;32m      8\u001b[0m         return min(\n\u001b[1;32m      9\u001b[0m         \u001b[0meditDistanceRec\u001b[0m\u001b[0;34m(\u001b[0m\u001b[0ms1\u001b[0m\u001b[0;34m,\u001b[0m\u001b[0ms2\u001b[0m\u001b[0;34m[\u001b[0m\u001b[0;34m:\u001b[0m\u001b[0;34m-\u001b[0m\u001b[0;36m1\u001b[0m\u001b[0;34m]\u001b[0m\u001b[0;34m)\u001b[0m\u001b[0;34m,\u001b[0m\u001b[0;34m\u001b[0m\u001b[0;34m\u001b[0m\u001b[0m\n\u001b[0;32m---> 10\u001b[0;31m         \u001b[0meditDistanceRec\u001b[0m\u001b[0;34m(\u001b[0m\u001b[0ms1\u001b[0m\u001b[0;34m[\u001b[0m\u001b[0;34m:\u001b[0m\u001b[0;34m-\u001b[0m\u001b[0;36m1\u001b[0m\u001b[0;34m]\u001b[0m\u001b[0;34m,\u001b[0m\u001b[0ms2\u001b[0m\u001b[0;34m)\u001b[0m\u001b[0;34m,\u001b[0m\u001b[0;34m\u001b[0m\u001b[0;34m\u001b[0m\u001b[0m\n\u001b[0m\u001b[1;32m     11\u001b[0m         editDistanceRec(s1[:-1],s2[:-1])) + 1\n",
      "\u001b[0;32m<ipython-input-77-9eaa57a0f39b>\u001b[0m in \u001b[0;36meditDistanceRec\u001b[0;34m(s1, s2)\u001b[0m\n\u001b[1;32m      9\u001b[0m         \u001b[0meditDistanceRec\u001b[0m\u001b[0;34m(\u001b[0m\u001b[0ms1\u001b[0m\u001b[0;34m,\u001b[0m\u001b[0ms2\u001b[0m\u001b[0;34m[\u001b[0m\u001b[0;34m:\u001b[0m\u001b[0;34m-\u001b[0m\u001b[0;36m1\u001b[0m\u001b[0;34m]\u001b[0m\u001b[0;34m)\u001b[0m\u001b[0;34m,\u001b[0m\u001b[0;34m\u001b[0m\u001b[0;34m\u001b[0m\u001b[0m\n\u001b[1;32m     10\u001b[0m         \u001b[0meditDistanceRec\u001b[0m\u001b[0;34m(\u001b[0m\u001b[0ms1\u001b[0m\u001b[0;34m[\u001b[0m\u001b[0;34m:\u001b[0m\u001b[0;34m-\u001b[0m\u001b[0;36m1\u001b[0m\u001b[0;34m]\u001b[0m\u001b[0;34m,\u001b[0m\u001b[0ms2\u001b[0m\u001b[0;34m)\u001b[0m\u001b[0;34m,\u001b[0m\u001b[0;34m\u001b[0m\u001b[0;34m\u001b[0m\u001b[0m\n\u001b[0;32m---> 11\u001b[0;31m         editDistanceRec(s1[:-1],s2[:-1])) + 1\n\u001b[0m",
      "\u001b[0;32m<ipython-input-77-9eaa57a0f39b>\u001b[0m in \u001b[0;36meditDistanceRec\u001b[0;34m(s1, s2)\u001b[0m\n\u001b[1;32m      8\u001b[0m         return min(\n\u001b[1;32m      9\u001b[0m         \u001b[0meditDistanceRec\u001b[0m\u001b[0;34m(\u001b[0m\u001b[0ms1\u001b[0m\u001b[0;34m,\u001b[0m\u001b[0ms2\u001b[0m\u001b[0;34m[\u001b[0m\u001b[0;34m:\u001b[0m\u001b[0;34m-\u001b[0m\u001b[0;36m1\u001b[0m\u001b[0;34m]\u001b[0m\u001b[0;34m)\u001b[0m\u001b[0;34m,\u001b[0m\u001b[0;34m\u001b[0m\u001b[0;34m\u001b[0m\u001b[0m\n\u001b[0;32m---> 10\u001b[0;31m         \u001b[0meditDistanceRec\u001b[0m\u001b[0;34m(\u001b[0m\u001b[0ms1\u001b[0m\u001b[0;34m[\u001b[0m\u001b[0;34m:\u001b[0m\u001b[0;34m-\u001b[0m\u001b[0;36m1\u001b[0m\u001b[0;34m]\u001b[0m\u001b[0;34m,\u001b[0m\u001b[0ms2\u001b[0m\u001b[0;34m)\u001b[0m\u001b[0;34m,\u001b[0m\u001b[0;34m\u001b[0m\u001b[0;34m\u001b[0m\u001b[0m\n\u001b[0m\u001b[1;32m     11\u001b[0m         editDistanceRec(s1[:-1],s2[:-1])) + 1\n",
      "\u001b[0;32m<ipython-input-77-9eaa57a0f39b>\u001b[0m in \u001b[0;36meditDistanceRec\u001b[0;34m(s1, s2)\u001b[0m\n\u001b[1;32m      8\u001b[0m         return min(\n\u001b[1;32m      9\u001b[0m         \u001b[0meditDistanceRec\u001b[0m\u001b[0;34m(\u001b[0m\u001b[0ms1\u001b[0m\u001b[0;34m,\u001b[0m\u001b[0ms2\u001b[0m\u001b[0;34m[\u001b[0m\u001b[0;34m:\u001b[0m\u001b[0;34m-\u001b[0m\u001b[0;36m1\u001b[0m\u001b[0;34m]\u001b[0m\u001b[0;34m)\u001b[0m\u001b[0;34m,\u001b[0m\u001b[0;34m\u001b[0m\u001b[0;34m\u001b[0m\u001b[0m\n\u001b[0;32m---> 10\u001b[0;31m         \u001b[0meditDistanceRec\u001b[0m\u001b[0;34m(\u001b[0m\u001b[0ms1\u001b[0m\u001b[0;34m[\u001b[0m\u001b[0;34m:\u001b[0m\u001b[0;34m-\u001b[0m\u001b[0;36m1\u001b[0m\u001b[0;34m]\u001b[0m\u001b[0;34m,\u001b[0m\u001b[0ms2\u001b[0m\u001b[0;34m)\u001b[0m\u001b[0;34m,\u001b[0m\u001b[0;34m\u001b[0m\u001b[0;34m\u001b[0m\u001b[0m\n\u001b[0m\u001b[1;32m     11\u001b[0m         editDistanceRec(s1[:-1],s2[:-1])) + 1\n",
      "\u001b[0;32m<ipython-input-77-9eaa57a0f39b>\u001b[0m in \u001b[0;36meditDistanceRec\u001b[0;34m(s1, s2)\u001b[0m\n\u001b[1;32m      7\u001b[0m     \u001b[0;32melse\u001b[0m\u001b[0;34m:\u001b[0m\u001b[0;34m\u001b[0m\u001b[0;34m\u001b[0m\u001b[0m\n\u001b[1;32m      8\u001b[0m         return min(\n\u001b[0;32m----> 9\u001b[0;31m         \u001b[0meditDistanceRec\u001b[0m\u001b[0;34m(\u001b[0m\u001b[0ms1\u001b[0m\u001b[0;34m,\u001b[0m\u001b[0ms2\u001b[0m\u001b[0;34m[\u001b[0m\u001b[0;34m:\u001b[0m\u001b[0;34m-\u001b[0m\u001b[0;36m1\u001b[0m\u001b[0;34m]\u001b[0m\u001b[0;34m)\u001b[0m\u001b[0;34m,\u001b[0m\u001b[0;34m\u001b[0m\u001b[0;34m\u001b[0m\u001b[0m\n\u001b[0m\u001b[1;32m     10\u001b[0m         \u001b[0meditDistanceRec\u001b[0m\u001b[0;34m(\u001b[0m\u001b[0ms1\u001b[0m\u001b[0;34m[\u001b[0m\u001b[0;34m:\u001b[0m\u001b[0;34m-\u001b[0m\u001b[0;36m1\u001b[0m\u001b[0;34m]\u001b[0m\u001b[0;34m,\u001b[0m\u001b[0ms2\u001b[0m\u001b[0;34m)\u001b[0m\u001b[0;34m,\u001b[0m\u001b[0;34m\u001b[0m\u001b[0;34m\u001b[0m\u001b[0m\n\u001b[1;32m     11\u001b[0m         editDistanceRec(s1[:-1],s2[:-1])) + 1\n",
      "\u001b[0;32m<ipython-input-77-9eaa57a0f39b>\u001b[0m in \u001b[0;36meditDistanceRec\u001b[0;34m(s1, s2)\u001b[0m\n\u001b[1;32m      8\u001b[0m         return min(\n\u001b[1;32m      9\u001b[0m         \u001b[0meditDistanceRec\u001b[0m\u001b[0;34m(\u001b[0m\u001b[0ms1\u001b[0m\u001b[0;34m,\u001b[0m\u001b[0ms2\u001b[0m\u001b[0;34m[\u001b[0m\u001b[0;34m:\u001b[0m\u001b[0;34m-\u001b[0m\u001b[0;36m1\u001b[0m\u001b[0;34m]\u001b[0m\u001b[0;34m)\u001b[0m\u001b[0;34m,\u001b[0m\u001b[0;34m\u001b[0m\u001b[0;34m\u001b[0m\u001b[0m\n\u001b[0;32m---> 10\u001b[0;31m         \u001b[0meditDistanceRec\u001b[0m\u001b[0;34m(\u001b[0m\u001b[0ms1\u001b[0m\u001b[0;34m[\u001b[0m\u001b[0;34m:\u001b[0m\u001b[0;34m-\u001b[0m\u001b[0;36m1\u001b[0m\u001b[0;34m]\u001b[0m\u001b[0;34m,\u001b[0m\u001b[0ms2\u001b[0m\u001b[0;34m)\u001b[0m\u001b[0;34m,\u001b[0m\u001b[0;34m\u001b[0m\u001b[0;34m\u001b[0m\u001b[0m\n\u001b[0m\u001b[1;32m     11\u001b[0m         editDistanceRec(s1[:-1],s2[:-1])) + 1\n",
      "\u001b[0;32m<ipython-input-77-9eaa57a0f39b>\u001b[0m in \u001b[0;36meditDistanceRec\u001b[0;34m(s1, s2)\u001b[0m\n\u001b[1;32m      7\u001b[0m     \u001b[0;32melse\u001b[0m\u001b[0;34m:\u001b[0m\u001b[0;34m\u001b[0m\u001b[0;34m\u001b[0m\u001b[0m\n\u001b[1;32m      8\u001b[0m         return min(\n\u001b[0;32m----> 9\u001b[0;31m         \u001b[0meditDistanceRec\u001b[0m\u001b[0;34m(\u001b[0m\u001b[0ms1\u001b[0m\u001b[0;34m,\u001b[0m\u001b[0ms2\u001b[0m\u001b[0;34m[\u001b[0m\u001b[0;34m:\u001b[0m\u001b[0;34m-\u001b[0m\u001b[0;36m1\u001b[0m\u001b[0;34m]\u001b[0m\u001b[0;34m)\u001b[0m\u001b[0;34m,\u001b[0m\u001b[0;34m\u001b[0m\u001b[0;34m\u001b[0m\u001b[0m\n\u001b[0m\u001b[1;32m     10\u001b[0m         \u001b[0meditDistanceRec\u001b[0m\u001b[0;34m(\u001b[0m\u001b[0ms1\u001b[0m\u001b[0;34m[\u001b[0m\u001b[0;34m:\u001b[0m\u001b[0;34m-\u001b[0m\u001b[0;36m1\u001b[0m\u001b[0;34m]\u001b[0m\u001b[0;34m,\u001b[0m\u001b[0ms2\u001b[0m\u001b[0;34m)\u001b[0m\u001b[0;34m,\u001b[0m\u001b[0;34m\u001b[0m\u001b[0;34m\u001b[0m\u001b[0m\n\u001b[1;32m     11\u001b[0m         editDistanceRec(s1[:-1],s2[:-1])) + 1\n",
      "\u001b[0;32m<ipython-input-77-9eaa57a0f39b>\u001b[0m in \u001b[0;36meditDistanceRec\u001b[0;34m(s1, s2)\u001b[0m\n\u001b[1;32m      4\u001b[0m \u001b[0;34m\u001b[0m\u001b[0m\n\u001b[1;32m      5\u001b[0m     \u001b[0;32mif\u001b[0m \u001b[0ms1\u001b[0m\u001b[0;34m[\u001b[0m\u001b[0;34m-\u001b[0m\u001b[0;36m1\u001b[0m\u001b[0;34m]\u001b[0m \u001b[0;34m==\u001b[0m \u001b[0ms2\u001b[0m\u001b[0;34m[\u001b[0m\u001b[0;34m-\u001b[0m\u001b[0;36m1\u001b[0m\u001b[0;34m]\u001b[0m\u001b[0;34m:\u001b[0m\u001b[0;34m\u001b[0m\u001b[0;34m\u001b[0m\u001b[0m\n\u001b[0;32m----> 6\u001b[0;31m         \u001b[0;32mreturn\u001b[0m \u001b[0meditDistanceRec\u001b[0m\u001b[0;34m(\u001b[0m\u001b[0ms1\u001b[0m\u001b[0;34m[\u001b[0m\u001b[0;34m:\u001b[0m\u001b[0;34m-\u001b[0m\u001b[0;36m1\u001b[0m\u001b[0;34m]\u001b[0m\u001b[0;34m,\u001b[0m\u001b[0ms2\u001b[0m\u001b[0;34m[\u001b[0m\u001b[0;34m:\u001b[0m\u001b[0;34m-\u001b[0m\u001b[0;36m1\u001b[0m\u001b[0;34m]\u001b[0m\u001b[0;34m)\u001b[0m\u001b[0;34m\u001b[0m\u001b[0;34m\u001b[0m\u001b[0m\n\u001b[0m\u001b[1;32m      7\u001b[0m     \u001b[0;32melse\u001b[0m\u001b[0;34m:\u001b[0m\u001b[0;34m\u001b[0m\u001b[0;34m\u001b[0m\u001b[0m\n\u001b[1;32m      8\u001b[0m         return min(\n",
      "\u001b[0;32m<ipython-input-77-9eaa57a0f39b>\u001b[0m in \u001b[0;36meditDistanceRec\u001b[0;34m(s1, s2)\u001b[0m\n\u001b[1;32m      9\u001b[0m         \u001b[0meditDistanceRec\u001b[0m\u001b[0;34m(\u001b[0m\u001b[0ms1\u001b[0m\u001b[0;34m,\u001b[0m\u001b[0ms2\u001b[0m\u001b[0;34m[\u001b[0m\u001b[0;34m:\u001b[0m\u001b[0;34m-\u001b[0m\u001b[0;36m1\u001b[0m\u001b[0;34m]\u001b[0m\u001b[0;34m)\u001b[0m\u001b[0;34m,\u001b[0m\u001b[0;34m\u001b[0m\u001b[0;34m\u001b[0m\u001b[0m\n\u001b[1;32m     10\u001b[0m         \u001b[0meditDistanceRec\u001b[0m\u001b[0;34m(\u001b[0m\u001b[0ms1\u001b[0m\u001b[0;34m[\u001b[0m\u001b[0;34m:\u001b[0m\u001b[0;34m-\u001b[0m\u001b[0;36m1\u001b[0m\u001b[0;34m]\u001b[0m\u001b[0;34m,\u001b[0m\u001b[0ms2\u001b[0m\u001b[0;34m)\u001b[0m\u001b[0;34m,\u001b[0m\u001b[0;34m\u001b[0m\u001b[0;34m\u001b[0m\u001b[0m\n\u001b[0;32m---> 11\u001b[0;31m         editDistanceRec(s1[:-1],s2[:-1])) + 1\n\u001b[0m",
      "\u001b[0;32m<ipython-input-77-9eaa57a0f39b>\u001b[0m in \u001b[0;36meditDistanceRec\u001b[0;34m(s1, s2)\u001b[0m\n\u001b[1;32m      7\u001b[0m     \u001b[0;32melse\u001b[0m\u001b[0;34m:\u001b[0m\u001b[0;34m\u001b[0m\u001b[0;34m\u001b[0m\u001b[0m\n\u001b[1;32m      8\u001b[0m         return min(\n\u001b[0;32m----> 9\u001b[0;31m         \u001b[0meditDistanceRec\u001b[0m\u001b[0;34m(\u001b[0m\u001b[0ms1\u001b[0m\u001b[0;34m,\u001b[0m\u001b[0ms2\u001b[0m\u001b[0;34m[\u001b[0m\u001b[0;34m:\u001b[0m\u001b[0;34m-\u001b[0m\u001b[0;36m1\u001b[0m\u001b[0;34m]\u001b[0m\u001b[0;34m)\u001b[0m\u001b[0;34m,\u001b[0m\u001b[0;34m\u001b[0m\u001b[0;34m\u001b[0m\u001b[0m\n\u001b[0m\u001b[1;32m     10\u001b[0m         \u001b[0meditDistanceRec\u001b[0m\u001b[0;34m(\u001b[0m\u001b[0ms1\u001b[0m\u001b[0;34m[\u001b[0m\u001b[0;34m:\u001b[0m\u001b[0;34m-\u001b[0m\u001b[0;36m1\u001b[0m\u001b[0;34m]\u001b[0m\u001b[0;34m,\u001b[0m\u001b[0ms2\u001b[0m\u001b[0;34m)\u001b[0m\u001b[0;34m,\u001b[0m\u001b[0;34m\u001b[0m\u001b[0;34m\u001b[0m\u001b[0m\n\u001b[1;32m     11\u001b[0m         editDistanceRec(s1[:-1],s2[:-1])) + 1\n",
      "\u001b[0;32m<ipython-input-77-9eaa57a0f39b>\u001b[0m in \u001b[0;36meditDistanceRec\u001b[0;34m(s1, s2)\u001b[0m\n\u001b[1;32m      7\u001b[0m     \u001b[0;32melse\u001b[0m\u001b[0;34m:\u001b[0m\u001b[0;34m\u001b[0m\u001b[0;34m\u001b[0m\u001b[0m\n\u001b[1;32m      8\u001b[0m         return min(\n\u001b[0;32m----> 9\u001b[0;31m         \u001b[0meditDistanceRec\u001b[0m\u001b[0;34m(\u001b[0m\u001b[0ms1\u001b[0m\u001b[0;34m,\u001b[0m\u001b[0ms2\u001b[0m\u001b[0;34m[\u001b[0m\u001b[0;34m:\u001b[0m\u001b[0;34m-\u001b[0m\u001b[0;36m1\u001b[0m\u001b[0;34m]\u001b[0m\u001b[0;34m)\u001b[0m\u001b[0;34m,\u001b[0m\u001b[0;34m\u001b[0m\u001b[0;34m\u001b[0m\u001b[0m\n\u001b[0m\u001b[1;32m     10\u001b[0m         \u001b[0meditDistanceRec\u001b[0m\u001b[0;34m(\u001b[0m\u001b[0ms1\u001b[0m\u001b[0;34m[\u001b[0m\u001b[0;34m:\u001b[0m\u001b[0;34m-\u001b[0m\u001b[0;36m1\u001b[0m\u001b[0;34m]\u001b[0m\u001b[0;34m,\u001b[0m\u001b[0ms2\u001b[0m\u001b[0;34m)\u001b[0m\u001b[0;34m,\u001b[0m\u001b[0;34m\u001b[0m\u001b[0;34m\u001b[0m\u001b[0m\n\u001b[1;32m     11\u001b[0m         editDistanceRec(s1[:-1],s2[:-1])) + 1\n",
      "\u001b[0;32m<ipython-input-77-9eaa57a0f39b>\u001b[0m in \u001b[0;36meditDistanceRec\u001b[0;34m(s1, s2)\u001b[0m\n\u001b[1;32m      9\u001b[0m         \u001b[0meditDistanceRec\u001b[0m\u001b[0;34m(\u001b[0m\u001b[0ms1\u001b[0m\u001b[0;34m,\u001b[0m\u001b[0ms2\u001b[0m\u001b[0;34m[\u001b[0m\u001b[0;34m:\u001b[0m\u001b[0;34m-\u001b[0m\u001b[0;36m1\u001b[0m\u001b[0;34m]\u001b[0m\u001b[0;34m)\u001b[0m\u001b[0;34m,\u001b[0m\u001b[0;34m\u001b[0m\u001b[0;34m\u001b[0m\u001b[0m\n\u001b[1;32m     10\u001b[0m         \u001b[0meditDistanceRec\u001b[0m\u001b[0;34m(\u001b[0m\u001b[0ms1\u001b[0m\u001b[0;34m[\u001b[0m\u001b[0;34m:\u001b[0m\u001b[0;34m-\u001b[0m\u001b[0;36m1\u001b[0m\u001b[0;34m]\u001b[0m\u001b[0;34m,\u001b[0m\u001b[0ms2\u001b[0m\u001b[0;34m)\u001b[0m\u001b[0;34m,\u001b[0m\u001b[0;34m\u001b[0m\u001b[0;34m\u001b[0m\u001b[0m\n\u001b[0;32m---> 11\u001b[0;31m         editDistanceRec(s1[:-1],s2[:-1])) + 1\n\u001b[0m",
      "\u001b[0;32m<ipython-input-77-9eaa57a0f39b>\u001b[0m in \u001b[0;36meditDistanceRec\u001b[0;34m(s1, s2)\u001b[0m\n\u001b[1;32m      7\u001b[0m     \u001b[0;32melse\u001b[0m\u001b[0;34m:\u001b[0m\u001b[0;34m\u001b[0m\u001b[0;34m\u001b[0m\u001b[0m\n\u001b[1;32m      8\u001b[0m         return min(\n\u001b[0;32m----> 9\u001b[0;31m         \u001b[0meditDistanceRec\u001b[0m\u001b[0;34m(\u001b[0m\u001b[0ms1\u001b[0m\u001b[0;34m,\u001b[0m\u001b[0ms2\u001b[0m\u001b[0;34m[\u001b[0m\u001b[0;34m:\u001b[0m\u001b[0;34m-\u001b[0m\u001b[0;36m1\u001b[0m\u001b[0;34m]\u001b[0m\u001b[0;34m)\u001b[0m\u001b[0;34m,\u001b[0m\u001b[0;34m\u001b[0m\u001b[0;34m\u001b[0m\u001b[0m\n\u001b[0m\u001b[1;32m     10\u001b[0m         \u001b[0meditDistanceRec\u001b[0m\u001b[0;34m(\u001b[0m\u001b[0ms1\u001b[0m\u001b[0;34m[\u001b[0m\u001b[0;34m:\u001b[0m\u001b[0;34m-\u001b[0m\u001b[0;36m1\u001b[0m\u001b[0;34m]\u001b[0m\u001b[0;34m,\u001b[0m\u001b[0ms2\u001b[0m\u001b[0;34m)\u001b[0m\u001b[0;34m,\u001b[0m\u001b[0;34m\u001b[0m\u001b[0;34m\u001b[0m\u001b[0m\n\u001b[1;32m     11\u001b[0m         editDistanceRec(s1[:-1],s2[:-1])) + 1\n",
      "\u001b[0;32m<ipython-input-77-9eaa57a0f39b>\u001b[0m in \u001b[0;36meditDistanceRec\u001b[0;34m(s1, s2)\u001b[0m\n\u001b[0;32m----> 1\u001b[0;31m \u001b[0;32mdef\u001b[0m \u001b[0meditDistanceRec\u001b[0m\u001b[0;34m(\u001b[0m\u001b[0ms1\u001b[0m\u001b[0;34m,\u001b[0m\u001b[0ms2\u001b[0m\u001b[0;34m)\u001b[0m\u001b[0;34m:\u001b[0m\u001b[0;34m\u001b[0m\u001b[0;34m\u001b[0m\u001b[0m\n\u001b[0m\u001b[1;32m      2\u001b[0m     \u001b[0;32mif\u001b[0m \u001b[0mlen\u001b[0m\u001b[0;34m(\u001b[0m\u001b[0ms1\u001b[0m\u001b[0;34m)\u001b[0m \u001b[0;34m==\u001b[0m \u001b[0;36m0\u001b[0m\u001b[0;34m:\u001b[0m \u001b[0;32mreturn\u001b[0m \u001b[0mlen\u001b[0m\u001b[0;34m(\u001b[0m\u001b[0ms2\u001b[0m\u001b[0;34m)\u001b[0m\u001b[0;34m\u001b[0m\u001b[0;34m\u001b[0m\u001b[0m\n\u001b[1;32m      3\u001b[0m     \u001b[0;32mif\u001b[0m \u001b[0mlen\u001b[0m\u001b[0;34m(\u001b[0m\u001b[0ms2\u001b[0m\u001b[0;34m)\u001b[0m \u001b[0;34m==\u001b[0m \u001b[0;36m0\u001b[0m\u001b[0;34m:\u001b[0m \u001b[0;32mreturn\u001b[0m \u001b[0mlen\u001b[0m\u001b[0;34m(\u001b[0m\u001b[0ms1\u001b[0m\u001b[0;34m)\u001b[0m\u001b[0;34m\u001b[0m\u001b[0;34m\u001b[0m\u001b[0m\n\u001b[1;32m      4\u001b[0m \u001b[0;34m\u001b[0m\u001b[0m\n\u001b[1;32m      5\u001b[0m     \u001b[0;32mif\u001b[0m \u001b[0ms1\u001b[0m\u001b[0;34m[\u001b[0m\u001b[0;34m-\u001b[0m\u001b[0;36m1\u001b[0m\u001b[0;34m]\u001b[0m \u001b[0;34m==\u001b[0m \u001b[0ms2\u001b[0m\u001b[0;34m[\u001b[0m\u001b[0;34m-\u001b[0m\u001b[0;36m1\u001b[0m\u001b[0;34m]\u001b[0m\u001b[0;34m:\u001b[0m\u001b[0;34m\u001b[0m\u001b[0;34m\u001b[0m\u001b[0m\n",
      "\u001b[0;31mKeyboardInterrupt\u001b[0m: "
     ]
    }
   ],
   "source": [
    "comTimeG(editDistanceRec,'kcwcabwjdaadj','dajkhcenccysgc')"
   ]
  },
  {
   "cell_type": "markdown",
   "id": "0f7c9fc8",
   "metadata": {},
   "source": [
    "#### 带备忘录的递归解法"
   ]
  },
  {
   "cell_type": "code",
   "execution_count": 95,
   "id": "a4793e38",
   "metadata": {},
   "outputs": [],
   "source": [
    "def editDistance2(s1,s2,d):\n",
    "    if len(s1) == 0: return len(s2)\n",
    "    if len(s2) == 0: return len(s1)\n",
    "    if (s1,s2) in d.keys():\n",
    "        return d[(s1,s2)]\n",
    "    \n",
    "    if s1[-1] == s2[-1]:\n",
    "        d[(s1,s2)] = editDistanceRec(s1[:-1],s2[:-1])\n",
    "        return d[(s1,s2)]\n",
    "    else:\n",
    "        temp = min(\n",
    "        editDistance2(s1,s2[:-1],d),\n",
    "        editDistance2(s1[:-1],s2,d),\n",
    "        editDistance2(s1[:-1],s2[:-1],d)) + 1\n",
    "        d[(s1,s2)] = temp\n",
    "        return temp"
   ]
  },
  {
   "cell_type": "code",
   "execution_count": 96,
   "id": "8165c2f0",
   "metadata": {},
   "outputs": [
    {
     "data": {
      "text/plain": [
       "3"
      ]
     },
     "execution_count": 96,
     "metadata": {},
     "output_type": "execute_result"
    }
   ],
   "source": [
    "editDistance2('horse','ros',{})"
   ]
  },
  {
   "cell_type": "code",
   "execution_count": 97,
   "id": "f8ad7ed4",
   "metadata": {},
   "outputs": [
    {
     "data": {
      "text/plain": [
       "0.00020694732666015625"
      ]
     },
     "execution_count": 97,
     "metadata": {},
     "output_type": "execute_result"
    }
   ],
   "source": [
    "comTimeG(editDistance2,'hawyacbdaadj','dajkh',{})"
   ]
  },
  {
   "cell_type": "code",
   "execution_count": 98,
   "id": "41a1062e",
   "metadata": {},
   "outputs": [
    {
     "ename": "KeyboardInterrupt",
     "evalue": "",
     "output_type": "error",
     "traceback": [
      "\u001b[0;31m---------------------------------------------------------------------------\u001b[0m",
      "\u001b[0;31mKeyboardInterrupt\u001b[0m                         Traceback (most recent call last)",
      "\u001b[0;32m<ipython-input-98-ec722f4a6cd2>\u001b[0m in \u001b[0;36m<module>\u001b[0;34m\u001b[0m\n\u001b[0;32m----> 1\u001b[0;31m \u001b[0mcomTimeG\u001b[0m\u001b[0;34m(\u001b[0m\u001b[0meditDistance2\u001b[0m\u001b[0;34m,\u001b[0m\u001b[0;34m'hawyacbhabcjajkcwcabwjdaadj'\u001b[0m\u001b[0;34m,\u001b[0m\u001b[0;34m'dajkhcenccysgcehcaiuajdahjakhkaj'\u001b[0m\u001b[0;34m,\u001b[0m\u001b[0;34m{\u001b[0m\u001b[0;34m}\u001b[0m\u001b[0;34m)\u001b[0m\u001b[0;34m\u001b[0m\u001b[0;34m\u001b[0m\u001b[0m\n\u001b[0m",
      "\u001b[0;32m<ipython-input-62-5bb7647ab1cb>\u001b[0m in \u001b[0;36mcomTimeG\u001b[0;34m(func, *n)\u001b[0m\n\u001b[1;32m      3\u001b[0m     \u001b[0;32mimport\u001b[0m \u001b[0mtime\u001b[0m\u001b[0;34m\u001b[0m\u001b[0;34m\u001b[0m\u001b[0m\n\u001b[1;32m      4\u001b[0m     \u001b[0mstart\u001b[0m \u001b[0;34m=\u001b[0m \u001b[0mtime\u001b[0m\u001b[0;34m.\u001b[0m\u001b[0mtime\u001b[0m\u001b[0;34m(\u001b[0m\u001b[0;34m)\u001b[0m\u001b[0;34m\u001b[0m\u001b[0;34m\u001b[0m\u001b[0m\n\u001b[0;32m----> 5\u001b[0;31m     \u001b[0mfunc\u001b[0m\u001b[0;34m(\u001b[0m\u001b[0;34m*\u001b[0m\u001b[0mn\u001b[0m\u001b[0;34m)\u001b[0m\u001b[0;34m\u001b[0m\u001b[0;34m\u001b[0m\u001b[0m\n\u001b[0m\u001b[1;32m      6\u001b[0m     \u001b[0mend\u001b[0m \u001b[0;34m=\u001b[0m \u001b[0mtime\u001b[0m\u001b[0;34m.\u001b[0m\u001b[0mtime\u001b[0m\u001b[0;34m(\u001b[0m\u001b[0;34m)\u001b[0m\u001b[0;34m\u001b[0m\u001b[0;34m\u001b[0m\u001b[0m\n\u001b[1;32m      7\u001b[0m     \u001b[0;32mreturn\u001b[0m \u001b[0mend\u001b[0m\u001b[0;34m-\u001b[0m\u001b[0mstart\u001b[0m\u001b[0;34m\u001b[0m\u001b[0;34m\u001b[0m\u001b[0m\n",
      "\u001b[0;32m<ipython-input-95-e354940960f7>\u001b[0m in \u001b[0;36meditDistance2\u001b[0;34m(s1, s2, d)\u001b[0m\n\u001b[1;32m      6\u001b[0m \u001b[0;34m\u001b[0m\u001b[0m\n\u001b[1;32m      7\u001b[0m     \u001b[0;32mif\u001b[0m \u001b[0ms1\u001b[0m\u001b[0;34m[\u001b[0m\u001b[0;34m-\u001b[0m\u001b[0;36m1\u001b[0m\u001b[0;34m]\u001b[0m \u001b[0;34m==\u001b[0m \u001b[0ms2\u001b[0m\u001b[0;34m[\u001b[0m\u001b[0;34m-\u001b[0m\u001b[0;36m1\u001b[0m\u001b[0;34m]\u001b[0m\u001b[0;34m:\u001b[0m\u001b[0;34m\u001b[0m\u001b[0;34m\u001b[0m\u001b[0m\n\u001b[0;32m----> 8\u001b[0;31m         \u001b[0md\u001b[0m\u001b[0;34m[\u001b[0m\u001b[0;34m(\u001b[0m\u001b[0ms1\u001b[0m\u001b[0;34m,\u001b[0m\u001b[0ms2\u001b[0m\u001b[0;34m)\u001b[0m\u001b[0;34m]\u001b[0m \u001b[0;34m=\u001b[0m \u001b[0meditDistanceRec\u001b[0m\u001b[0;34m(\u001b[0m\u001b[0ms1\u001b[0m\u001b[0;34m[\u001b[0m\u001b[0;34m:\u001b[0m\u001b[0;34m-\u001b[0m\u001b[0;36m1\u001b[0m\u001b[0;34m]\u001b[0m\u001b[0;34m,\u001b[0m\u001b[0ms2\u001b[0m\u001b[0;34m[\u001b[0m\u001b[0;34m:\u001b[0m\u001b[0;34m-\u001b[0m\u001b[0;36m1\u001b[0m\u001b[0;34m]\u001b[0m\u001b[0;34m)\u001b[0m\u001b[0;34m\u001b[0m\u001b[0;34m\u001b[0m\u001b[0m\n\u001b[0m\u001b[1;32m      9\u001b[0m         \u001b[0;32mreturn\u001b[0m \u001b[0md\u001b[0m\u001b[0;34m[\u001b[0m\u001b[0;34m(\u001b[0m\u001b[0ms1\u001b[0m\u001b[0;34m,\u001b[0m\u001b[0ms2\u001b[0m\u001b[0;34m)\u001b[0m\u001b[0;34m]\u001b[0m\u001b[0;34m\u001b[0m\u001b[0;34m\u001b[0m\u001b[0m\n\u001b[1;32m     10\u001b[0m     \u001b[0;32melse\u001b[0m\u001b[0;34m:\u001b[0m\u001b[0;34m\u001b[0m\u001b[0;34m\u001b[0m\u001b[0m\n",
      "\u001b[0;32m<ipython-input-77-9eaa57a0f39b>\u001b[0m in \u001b[0;36meditDistanceRec\u001b[0;34m(s1, s2)\u001b[0m\n\u001b[1;32m      7\u001b[0m     \u001b[0;32melse\u001b[0m\u001b[0;34m:\u001b[0m\u001b[0;34m\u001b[0m\u001b[0;34m\u001b[0m\u001b[0m\n\u001b[1;32m      8\u001b[0m         return min(\n\u001b[0;32m----> 9\u001b[0;31m         \u001b[0meditDistanceRec\u001b[0m\u001b[0;34m(\u001b[0m\u001b[0ms1\u001b[0m\u001b[0;34m,\u001b[0m\u001b[0ms2\u001b[0m\u001b[0;34m[\u001b[0m\u001b[0;34m:\u001b[0m\u001b[0;34m-\u001b[0m\u001b[0;36m1\u001b[0m\u001b[0;34m]\u001b[0m\u001b[0;34m)\u001b[0m\u001b[0;34m,\u001b[0m\u001b[0;34m\u001b[0m\u001b[0;34m\u001b[0m\u001b[0m\n\u001b[0m\u001b[1;32m     10\u001b[0m         \u001b[0meditDistanceRec\u001b[0m\u001b[0;34m(\u001b[0m\u001b[0ms1\u001b[0m\u001b[0;34m[\u001b[0m\u001b[0;34m:\u001b[0m\u001b[0;34m-\u001b[0m\u001b[0;36m1\u001b[0m\u001b[0;34m]\u001b[0m\u001b[0;34m,\u001b[0m\u001b[0ms2\u001b[0m\u001b[0;34m)\u001b[0m\u001b[0;34m,\u001b[0m\u001b[0;34m\u001b[0m\u001b[0;34m\u001b[0m\u001b[0m\n\u001b[1;32m     11\u001b[0m         editDistanceRec(s1[:-1],s2[:-1])) + 1\n",
      "\u001b[0;32m<ipython-input-77-9eaa57a0f39b>\u001b[0m in \u001b[0;36meditDistanceRec\u001b[0;34m(s1, s2)\u001b[0m\n\u001b[1;32m      7\u001b[0m     \u001b[0;32melse\u001b[0m\u001b[0;34m:\u001b[0m\u001b[0;34m\u001b[0m\u001b[0;34m\u001b[0m\u001b[0m\n\u001b[1;32m      8\u001b[0m         return min(\n\u001b[0;32m----> 9\u001b[0;31m         \u001b[0meditDistanceRec\u001b[0m\u001b[0;34m(\u001b[0m\u001b[0ms1\u001b[0m\u001b[0;34m,\u001b[0m\u001b[0ms2\u001b[0m\u001b[0;34m[\u001b[0m\u001b[0;34m:\u001b[0m\u001b[0;34m-\u001b[0m\u001b[0;36m1\u001b[0m\u001b[0;34m]\u001b[0m\u001b[0;34m)\u001b[0m\u001b[0;34m,\u001b[0m\u001b[0;34m\u001b[0m\u001b[0;34m\u001b[0m\u001b[0m\n\u001b[0m\u001b[1;32m     10\u001b[0m         \u001b[0meditDistanceRec\u001b[0m\u001b[0;34m(\u001b[0m\u001b[0ms1\u001b[0m\u001b[0;34m[\u001b[0m\u001b[0;34m:\u001b[0m\u001b[0;34m-\u001b[0m\u001b[0;36m1\u001b[0m\u001b[0;34m]\u001b[0m\u001b[0;34m,\u001b[0m\u001b[0ms2\u001b[0m\u001b[0;34m)\u001b[0m\u001b[0;34m,\u001b[0m\u001b[0;34m\u001b[0m\u001b[0;34m\u001b[0m\u001b[0m\n\u001b[1;32m     11\u001b[0m         editDistanceRec(s1[:-1],s2[:-1])) + 1\n",
      "\u001b[0;32m<ipython-input-77-9eaa57a0f39b>\u001b[0m in \u001b[0;36meditDistanceRec\u001b[0;34m(s1, s2)\u001b[0m\n\u001b[1;32m      7\u001b[0m     \u001b[0;32melse\u001b[0m\u001b[0;34m:\u001b[0m\u001b[0;34m\u001b[0m\u001b[0;34m\u001b[0m\u001b[0m\n\u001b[1;32m      8\u001b[0m         return min(\n\u001b[0;32m----> 9\u001b[0;31m         \u001b[0meditDistanceRec\u001b[0m\u001b[0;34m(\u001b[0m\u001b[0ms1\u001b[0m\u001b[0;34m,\u001b[0m\u001b[0ms2\u001b[0m\u001b[0;34m[\u001b[0m\u001b[0;34m:\u001b[0m\u001b[0;34m-\u001b[0m\u001b[0;36m1\u001b[0m\u001b[0;34m]\u001b[0m\u001b[0;34m)\u001b[0m\u001b[0;34m,\u001b[0m\u001b[0;34m\u001b[0m\u001b[0;34m\u001b[0m\u001b[0m\n\u001b[0m\u001b[1;32m     10\u001b[0m         \u001b[0meditDistanceRec\u001b[0m\u001b[0;34m(\u001b[0m\u001b[0ms1\u001b[0m\u001b[0;34m[\u001b[0m\u001b[0;34m:\u001b[0m\u001b[0;34m-\u001b[0m\u001b[0;36m1\u001b[0m\u001b[0;34m]\u001b[0m\u001b[0;34m,\u001b[0m\u001b[0ms2\u001b[0m\u001b[0;34m)\u001b[0m\u001b[0;34m,\u001b[0m\u001b[0;34m\u001b[0m\u001b[0;34m\u001b[0m\u001b[0m\n\u001b[1;32m     11\u001b[0m         editDistanceRec(s1[:-1],s2[:-1])) + 1\n",
      "\u001b[0;32m<ipython-input-77-9eaa57a0f39b>\u001b[0m in \u001b[0;36meditDistanceRec\u001b[0;34m(s1, s2)\u001b[0m\n\u001b[1;32m      7\u001b[0m     \u001b[0;32melse\u001b[0m\u001b[0;34m:\u001b[0m\u001b[0;34m\u001b[0m\u001b[0;34m\u001b[0m\u001b[0m\n\u001b[1;32m      8\u001b[0m         return min(\n\u001b[0;32m----> 9\u001b[0;31m         \u001b[0meditDistanceRec\u001b[0m\u001b[0;34m(\u001b[0m\u001b[0ms1\u001b[0m\u001b[0;34m,\u001b[0m\u001b[0ms2\u001b[0m\u001b[0;34m[\u001b[0m\u001b[0;34m:\u001b[0m\u001b[0;34m-\u001b[0m\u001b[0;36m1\u001b[0m\u001b[0;34m]\u001b[0m\u001b[0;34m)\u001b[0m\u001b[0;34m,\u001b[0m\u001b[0;34m\u001b[0m\u001b[0;34m\u001b[0m\u001b[0m\n\u001b[0m\u001b[1;32m     10\u001b[0m         \u001b[0meditDistanceRec\u001b[0m\u001b[0;34m(\u001b[0m\u001b[0ms1\u001b[0m\u001b[0;34m[\u001b[0m\u001b[0;34m:\u001b[0m\u001b[0;34m-\u001b[0m\u001b[0;36m1\u001b[0m\u001b[0;34m]\u001b[0m\u001b[0;34m,\u001b[0m\u001b[0ms2\u001b[0m\u001b[0;34m)\u001b[0m\u001b[0;34m,\u001b[0m\u001b[0;34m\u001b[0m\u001b[0;34m\u001b[0m\u001b[0m\n\u001b[1;32m     11\u001b[0m         editDistanceRec(s1[:-1],s2[:-1])) + 1\n",
      "\u001b[0;32m<ipython-input-77-9eaa57a0f39b>\u001b[0m in \u001b[0;36meditDistanceRec\u001b[0;34m(s1, s2)\u001b[0m\n\u001b[1;32m      7\u001b[0m     \u001b[0;32melse\u001b[0m\u001b[0;34m:\u001b[0m\u001b[0;34m\u001b[0m\u001b[0;34m\u001b[0m\u001b[0m\n\u001b[1;32m      8\u001b[0m         return min(\n\u001b[0;32m----> 9\u001b[0;31m         \u001b[0meditDistanceRec\u001b[0m\u001b[0;34m(\u001b[0m\u001b[0ms1\u001b[0m\u001b[0;34m,\u001b[0m\u001b[0ms2\u001b[0m\u001b[0;34m[\u001b[0m\u001b[0;34m:\u001b[0m\u001b[0;34m-\u001b[0m\u001b[0;36m1\u001b[0m\u001b[0;34m]\u001b[0m\u001b[0;34m)\u001b[0m\u001b[0;34m,\u001b[0m\u001b[0;34m\u001b[0m\u001b[0;34m\u001b[0m\u001b[0m\n\u001b[0m\u001b[1;32m     10\u001b[0m         \u001b[0meditDistanceRec\u001b[0m\u001b[0;34m(\u001b[0m\u001b[0ms1\u001b[0m\u001b[0;34m[\u001b[0m\u001b[0;34m:\u001b[0m\u001b[0;34m-\u001b[0m\u001b[0;36m1\u001b[0m\u001b[0;34m]\u001b[0m\u001b[0;34m,\u001b[0m\u001b[0ms2\u001b[0m\u001b[0;34m)\u001b[0m\u001b[0;34m,\u001b[0m\u001b[0;34m\u001b[0m\u001b[0;34m\u001b[0m\u001b[0m\n\u001b[1;32m     11\u001b[0m         editDistanceRec(s1[:-1],s2[:-1])) + 1\n",
      "\u001b[0;32m<ipython-input-77-9eaa57a0f39b>\u001b[0m in \u001b[0;36meditDistanceRec\u001b[0;34m(s1, s2)\u001b[0m\n\u001b[1;32m      7\u001b[0m     \u001b[0;32melse\u001b[0m\u001b[0;34m:\u001b[0m\u001b[0;34m\u001b[0m\u001b[0;34m\u001b[0m\u001b[0m\n\u001b[1;32m      8\u001b[0m         return min(\n\u001b[0;32m----> 9\u001b[0;31m         \u001b[0meditDistanceRec\u001b[0m\u001b[0;34m(\u001b[0m\u001b[0ms1\u001b[0m\u001b[0;34m,\u001b[0m\u001b[0ms2\u001b[0m\u001b[0;34m[\u001b[0m\u001b[0;34m:\u001b[0m\u001b[0;34m-\u001b[0m\u001b[0;36m1\u001b[0m\u001b[0;34m]\u001b[0m\u001b[0;34m)\u001b[0m\u001b[0;34m,\u001b[0m\u001b[0;34m\u001b[0m\u001b[0;34m\u001b[0m\u001b[0m\n\u001b[0m\u001b[1;32m     10\u001b[0m         \u001b[0meditDistanceRec\u001b[0m\u001b[0;34m(\u001b[0m\u001b[0ms1\u001b[0m\u001b[0;34m[\u001b[0m\u001b[0;34m:\u001b[0m\u001b[0;34m-\u001b[0m\u001b[0;36m1\u001b[0m\u001b[0;34m]\u001b[0m\u001b[0;34m,\u001b[0m\u001b[0ms2\u001b[0m\u001b[0;34m)\u001b[0m\u001b[0;34m,\u001b[0m\u001b[0;34m\u001b[0m\u001b[0;34m\u001b[0m\u001b[0m\n\u001b[1;32m     11\u001b[0m         editDistanceRec(s1[:-1],s2[:-1])) + 1\n",
      "\u001b[0;32m<ipython-input-77-9eaa57a0f39b>\u001b[0m in \u001b[0;36meditDistanceRec\u001b[0;34m(s1, s2)\u001b[0m\n\u001b[1;32m      7\u001b[0m     \u001b[0;32melse\u001b[0m\u001b[0;34m:\u001b[0m\u001b[0;34m\u001b[0m\u001b[0;34m\u001b[0m\u001b[0m\n\u001b[1;32m      8\u001b[0m         return min(\n\u001b[0;32m----> 9\u001b[0;31m         \u001b[0meditDistanceRec\u001b[0m\u001b[0;34m(\u001b[0m\u001b[0ms1\u001b[0m\u001b[0;34m,\u001b[0m\u001b[0ms2\u001b[0m\u001b[0;34m[\u001b[0m\u001b[0;34m:\u001b[0m\u001b[0;34m-\u001b[0m\u001b[0;36m1\u001b[0m\u001b[0;34m]\u001b[0m\u001b[0;34m)\u001b[0m\u001b[0;34m,\u001b[0m\u001b[0;34m\u001b[0m\u001b[0;34m\u001b[0m\u001b[0m\n\u001b[0m\u001b[1;32m     10\u001b[0m         \u001b[0meditDistanceRec\u001b[0m\u001b[0;34m(\u001b[0m\u001b[0ms1\u001b[0m\u001b[0;34m[\u001b[0m\u001b[0;34m:\u001b[0m\u001b[0;34m-\u001b[0m\u001b[0;36m1\u001b[0m\u001b[0;34m]\u001b[0m\u001b[0;34m,\u001b[0m\u001b[0ms2\u001b[0m\u001b[0;34m)\u001b[0m\u001b[0;34m,\u001b[0m\u001b[0;34m\u001b[0m\u001b[0;34m\u001b[0m\u001b[0m\n\u001b[1;32m     11\u001b[0m         editDistanceRec(s1[:-1],s2[:-1])) + 1\n",
      "\u001b[0;32m<ipython-input-77-9eaa57a0f39b>\u001b[0m in \u001b[0;36meditDistanceRec\u001b[0;34m(s1, s2)\u001b[0m\n\u001b[1;32m      7\u001b[0m     \u001b[0;32melse\u001b[0m\u001b[0;34m:\u001b[0m\u001b[0;34m\u001b[0m\u001b[0;34m\u001b[0m\u001b[0m\n\u001b[1;32m      8\u001b[0m         return min(\n\u001b[0;32m----> 9\u001b[0;31m         \u001b[0meditDistanceRec\u001b[0m\u001b[0;34m(\u001b[0m\u001b[0ms1\u001b[0m\u001b[0;34m,\u001b[0m\u001b[0ms2\u001b[0m\u001b[0;34m[\u001b[0m\u001b[0;34m:\u001b[0m\u001b[0;34m-\u001b[0m\u001b[0;36m1\u001b[0m\u001b[0;34m]\u001b[0m\u001b[0;34m)\u001b[0m\u001b[0;34m,\u001b[0m\u001b[0;34m\u001b[0m\u001b[0;34m\u001b[0m\u001b[0m\n\u001b[0m\u001b[1;32m     10\u001b[0m         \u001b[0meditDistanceRec\u001b[0m\u001b[0;34m(\u001b[0m\u001b[0ms1\u001b[0m\u001b[0;34m[\u001b[0m\u001b[0;34m:\u001b[0m\u001b[0;34m-\u001b[0m\u001b[0;36m1\u001b[0m\u001b[0;34m]\u001b[0m\u001b[0;34m,\u001b[0m\u001b[0ms2\u001b[0m\u001b[0;34m)\u001b[0m\u001b[0;34m,\u001b[0m\u001b[0;34m\u001b[0m\u001b[0;34m\u001b[0m\u001b[0m\n\u001b[1;32m     11\u001b[0m         editDistanceRec(s1[:-1],s2[:-1])) + 1\n",
      "\u001b[0;32m<ipython-input-77-9eaa57a0f39b>\u001b[0m in \u001b[0;36meditDistanceRec\u001b[0;34m(s1, s2)\u001b[0m\n\u001b[1;32m      4\u001b[0m \u001b[0;34m\u001b[0m\u001b[0m\n\u001b[1;32m      5\u001b[0m     \u001b[0;32mif\u001b[0m \u001b[0ms1\u001b[0m\u001b[0;34m[\u001b[0m\u001b[0;34m-\u001b[0m\u001b[0;36m1\u001b[0m\u001b[0;34m]\u001b[0m \u001b[0;34m==\u001b[0m \u001b[0ms2\u001b[0m\u001b[0;34m[\u001b[0m\u001b[0;34m-\u001b[0m\u001b[0;36m1\u001b[0m\u001b[0;34m]\u001b[0m\u001b[0;34m:\u001b[0m\u001b[0;34m\u001b[0m\u001b[0;34m\u001b[0m\u001b[0m\n\u001b[0;32m----> 6\u001b[0;31m         \u001b[0;32mreturn\u001b[0m \u001b[0meditDistanceRec\u001b[0m\u001b[0;34m(\u001b[0m\u001b[0ms1\u001b[0m\u001b[0;34m[\u001b[0m\u001b[0;34m:\u001b[0m\u001b[0;34m-\u001b[0m\u001b[0;36m1\u001b[0m\u001b[0;34m]\u001b[0m\u001b[0;34m,\u001b[0m\u001b[0ms2\u001b[0m\u001b[0;34m[\u001b[0m\u001b[0;34m:\u001b[0m\u001b[0;34m-\u001b[0m\u001b[0;36m1\u001b[0m\u001b[0;34m]\u001b[0m\u001b[0;34m)\u001b[0m\u001b[0;34m\u001b[0m\u001b[0;34m\u001b[0m\u001b[0m\n\u001b[0m\u001b[1;32m      7\u001b[0m     \u001b[0;32melse\u001b[0m\u001b[0;34m:\u001b[0m\u001b[0;34m\u001b[0m\u001b[0;34m\u001b[0m\u001b[0m\n\u001b[1;32m      8\u001b[0m         return min(\n",
      "\u001b[0;32m<ipython-input-77-9eaa57a0f39b>\u001b[0m in \u001b[0;36meditDistanceRec\u001b[0;34m(s1, s2)\u001b[0m\n\u001b[1;32m      7\u001b[0m     \u001b[0;32melse\u001b[0m\u001b[0;34m:\u001b[0m\u001b[0;34m\u001b[0m\u001b[0;34m\u001b[0m\u001b[0m\n\u001b[1;32m      8\u001b[0m         return min(\n\u001b[0;32m----> 9\u001b[0;31m         \u001b[0meditDistanceRec\u001b[0m\u001b[0;34m(\u001b[0m\u001b[0ms1\u001b[0m\u001b[0;34m,\u001b[0m\u001b[0ms2\u001b[0m\u001b[0;34m[\u001b[0m\u001b[0;34m:\u001b[0m\u001b[0;34m-\u001b[0m\u001b[0;36m1\u001b[0m\u001b[0;34m]\u001b[0m\u001b[0;34m)\u001b[0m\u001b[0;34m,\u001b[0m\u001b[0;34m\u001b[0m\u001b[0;34m\u001b[0m\u001b[0m\n\u001b[0m\u001b[1;32m     10\u001b[0m         \u001b[0meditDistanceRec\u001b[0m\u001b[0;34m(\u001b[0m\u001b[0ms1\u001b[0m\u001b[0;34m[\u001b[0m\u001b[0;34m:\u001b[0m\u001b[0;34m-\u001b[0m\u001b[0;36m1\u001b[0m\u001b[0;34m]\u001b[0m\u001b[0;34m,\u001b[0m\u001b[0ms2\u001b[0m\u001b[0;34m)\u001b[0m\u001b[0;34m,\u001b[0m\u001b[0;34m\u001b[0m\u001b[0;34m\u001b[0m\u001b[0m\n\u001b[1;32m     11\u001b[0m         editDistanceRec(s1[:-1],s2[:-1])) + 1\n",
      "\u001b[0;32m<ipython-input-77-9eaa57a0f39b>\u001b[0m in \u001b[0;36meditDistanceRec\u001b[0;34m(s1, s2)\u001b[0m\n\u001b[1;32m      4\u001b[0m \u001b[0;34m\u001b[0m\u001b[0m\n\u001b[1;32m      5\u001b[0m     \u001b[0;32mif\u001b[0m \u001b[0ms1\u001b[0m\u001b[0;34m[\u001b[0m\u001b[0;34m-\u001b[0m\u001b[0;36m1\u001b[0m\u001b[0;34m]\u001b[0m \u001b[0;34m==\u001b[0m \u001b[0ms2\u001b[0m\u001b[0;34m[\u001b[0m\u001b[0;34m-\u001b[0m\u001b[0;36m1\u001b[0m\u001b[0;34m]\u001b[0m\u001b[0;34m:\u001b[0m\u001b[0;34m\u001b[0m\u001b[0;34m\u001b[0m\u001b[0m\n\u001b[0;32m----> 6\u001b[0;31m         \u001b[0;32mreturn\u001b[0m \u001b[0meditDistanceRec\u001b[0m\u001b[0;34m(\u001b[0m\u001b[0ms1\u001b[0m\u001b[0;34m[\u001b[0m\u001b[0;34m:\u001b[0m\u001b[0;34m-\u001b[0m\u001b[0;36m1\u001b[0m\u001b[0;34m]\u001b[0m\u001b[0;34m,\u001b[0m\u001b[0ms2\u001b[0m\u001b[0;34m[\u001b[0m\u001b[0;34m:\u001b[0m\u001b[0;34m-\u001b[0m\u001b[0;36m1\u001b[0m\u001b[0;34m]\u001b[0m\u001b[0;34m)\u001b[0m\u001b[0;34m\u001b[0m\u001b[0;34m\u001b[0m\u001b[0m\n\u001b[0m\u001b[1;32m      7\u001b[0m     \u001b[0;32melse\u001b[0m\u001b[0;34m:\u001b[0m\u001b[0;34m\u001b[0m\u001b[0;34m\u001b[0m\u001b[0m\n\u001b[1;32m      8\u001b[0m         return min(\n",
      "\u001b[0;32m<ipython-input-77-9eaa57a0f39b>\u001b[0m in \u001b[0;36meditDistanceRec\u001b[0;34m(s1, s2)\u001b[0m\n\u001b[1;32m      7\u001b[0m     \u001b[0;32melse\u001b[0m\u001b[0;34m:\u001b[0m\u001b[0;34m\u001b[0m\u001b[0;34m\u001b[0m\u001b[0m\n\u001b[1;32m      8\u001b[0m         return min(\n\u001b[0;32m----> 9\u001b[0;31m         \u001b[0meditDistanceRec\u001b[0m\u001b[0;34m(\u001b[0m\u001b[0ms1\u001b[0m\u001b[0;34m,\u001b[0m\u001b[0ms2\u001b[0m\u001b[0;34m[\u001b[0m\u001b[0;34m:\u001b[0m\u001b[0;34m-\u001b[0m\u001b[0;36m1\u001b[0m\u001b[0;34m]\u001b[0m\u001b[0;34m)\u001b[0m\u001b[0;34m,\u001b[0m\u001b[0;34m\u001b[0m\u001b[0;34m\u001b[0m\u001b[0m\n\u001b[0m\u001b[1;32m     10\u001b[0m         \u001b[0meditDistanceRec\u001b[0m\u001b[0;34m(\u001b[0m\u001b[0ms1\u001b[0m\u001b[0;34m[\u001b[0m\u001b[0;34m:\u001b[0m\u001b[0;34m-\u001b[0m\u001b[0;36m1\u001b[0m\u001b[0;34m]\u001b[0m\u001b[0;34m,\u001b[0m\u001b[0ms2\u001b[0m\u001b[0;34m)\u001b[0m\u001b[0;34m,\u001b[0m\u001b[0;34m\u001b[0m\u001b[0;34m\u001b[0m\u001b[0m\n\u001b[1;32m     11\u001b[0m         editDistanceRec(s1[:-1],s2[:-1])) + 1\n",
      "\u001b[0;32m<ipython-input-77-9eaa57a0f39b>\u001b[0m in \u001b[0;36meditDistanceRec\u001b[0;34m(s1, s2)\u001b[0m\n\u001b[1;32m      7\u001b[0m     \u001b[0;32melse\u001b[0m\u001b[0;34m:\u001b[0m\u001b[0;34m\u001b[0m\u001b[0;34m\u001b[0m\u001b[0m\n\u001b[1;32m      8\u001b[0m         return min(\n\u001b[0;32m----> 9\u001b[0;31m         \u001b[0meditDistanceRec\u001b[0m\u001b[0;34m(\u001b[0m\u001b[0ms1\u001b[0m\u001b[0;34m,\u001b[0m\u001b[0ms2\u001b[0m\u001b[0;34m[\u001b[0m\u001b[0;34m:\u001b[0m\u001b[0;34m-\u001b[0m\u001b[0;36m1\u001b[0m\u001b[0;34m]\u001b[0m\u001b[0;34m)\u001b[0m\u001b[0;34m,\u001b[0m\u001b[0;34m\u001b[0m\u001b[0;34m\u001b[0m\u001b[0m\n\u001b[0m\u001b[1;32m     10\u001b[0m         \u001b[0meditDistanceRec\u001b[0m\u001b[0;34m(\u001b[0m\u001b[0ms1\u001b[0m\u001b[0;34m[\u001b[0m\u001b[0;34m:\u001b[0m\u001b[0;34m-\u001b[0m\u001b[0;36m1\u001b[0m\u001b[0;34m]\u001b[0m\u001b[0;34m,\u001b[0m\u001b[0ms2\u001b[0m\u001b[0;34m)\u001b[0m\u001b[0;34m,\u001b[0m\u001b[0;34m\u001b[0m\u001b[0;34m\u001b[0m\u001b[0m\n\u001b[1;32m     11\u001b[0m         editDistanceRec(s1[:-1],s2[:-1])) + 1\n",
      "\u001b[0;32m<ipython-input-77-9eaa57a0f39b>\u001b[0m in \u001b[0;36meditDistanceRec\u001b[0;34m(s1, s2)\u001b[0m\n\u001b[1;32m      4\u001b[0m \u001b[0;34m\u001b[0m\u001b[0m\n\u001b[1;32m      5\u001b[0m     \u001b[0;32mif\u001b[0m \u001b[0ms1\u001b[0m\u001b[0;34m[\u001b[0m\u001b[0;34m-\u001b[0m\u001b[0;36m1\u001b[0m\u001b[0;34m]\u001b[0m \u001b[0;34m==\u001b[0m \u001b[0ms2\u001b[0m\u001b[0;34m[\u001b[0m\u001b[0;34m-\u001b[0m\u001b[0;36m1\u001b[0m\u001b[0;34m]\u001b[0m\u001b[0;34m:\u001b[0m\u001b[0;34m\u001b[0m\u001b[0;34m\u001b[0m\u001b[0m\n\u001b[0;32m----> 6\u001b[0;31m         \u001b[0;32mreturn\u001b[0m \u001b[0meditDistanceRec\u001b[0m\u001b[0;34m(\u001b[0m\u001b[0ms1\u001b[0m\u001b[0;34m[\u001b[0m\u001b[0;34m:\u001b[0m\u001b[0;34m-\u001b[0m\u001b[0;36m1\u001b[0m\u001b[0;34m]\u001b[0m\u001b[0;34m,\u001b[0m\u001b[0ms2\u001b[0m\u001b[0;34m[\u001b[0m\u001b[0;34m:\u001b[0m\u001b[0;34m-\u001b[0m\u001b[0;36m1\u001b[0m\u001b[0;34m]\u001b[0m\u001b[0;34m)\u001b[0m\u001b[0;34m\u001b[0m\u001b[0;34m\u001b[0m\u001b[0m\n\u001b[0m\u001b[1;32m      7\u001b[0m     \u001b[0;32melse\u001b[0m\u001b[0;34m:\u001b[0m\u001b[0;34m\u001b[0m\u001b[0;34m\u001b[0m\u001b[0m\n\u001b[1;32m      8\u001b[0m         return min(\n",
      "\u001b[0;32m<ipython-input-77-9eaa57a0f39b>\u001b[0m in \u001b[0;36meditDistanceRec\u001b[0;34m(s1, s2)\u001b[0m\n\u001b[1;32m      7\u001b[0m     \u001b[0;32melse\u001b[0m\u001b[0;34m:\u001b[0m\u001b[0;34m\u001b[0m\u001b[0;34m\u001b[0m\u001b[0m\n\u001b[1;32m      8\u001b[0m         return min(\n\u001b[0;32m----> 9\u001b[0;31m         \u001b[0meditDistanceRec\u001b[0m\u001b[0;34m(\u001b[0m\u001b[0ms1\u001b[0m\u001b[0;34m,\u001b[0m\u001b[0ms2\u001b[0m\u001b[0;34m[\u001b[0m\u001b[0;34m:\u001b[0m\u001b[0;34m-\u001b[0m\u001b[0;36m1\u001b[0m\u001b[0;34m]\u001b[0m\u001b[0;34m)\u001b[0m\u001b[0;34m,\u001b[0m\u001b[0;34m\u001b[0m\u001b[0;34m\u001b[0m\u001b[0m\n\u001b[0m\u001b[1;32m     10\u001b[0m         \u001b[0meditDistanceRec\u001b[0m\u001b[0;34m(\u001b[0m\u001b[0ms1\u001b[0m\u001b[0;34m[\u001b[0m\u001b[0;34m:\u001b[0m\u001b[0;34m-\u001b[0m\u001b[0;36m1\u001b[0m\u001b[0;34m]\u001b[0m\u001b[0;34m,\u001b[0m\u001b[0ms2\u001b[0m\u001b[0;34m)\u001b[0m\u001b[0;34m,\u001b[0m\u001b[0;34m\u001b[0m\u001b[0;34m\u001b[0m\u001b[0m\n\u001b[1;32m     11\u001b[0m         editDistanceRec(s1[:-1],s2[:-1])) + 1\n",
      "\u001b[0;32m<ipython-input-77-9eaa57a0f39b>\u001b[0m in \u001b[0;36meditDistanceRec\u001b[0;34m(s1, s2)\u001b[0m\n\u001b[1;32m      7\u001b[0m     \u001b[0;32melse\u001b[0m\u001b[0;34m:\u001b[0m\u001b[0;34m\u001b[0m\u001b[0;34m\u001b[0m\u001b[0m\n\u001b[1;32m      8\u001b[0m         return min(\n\u001b[0;32m----> 9\u001b[0;31m         \u001b[0meditDistanceRec\u001b[0m\u001b[0;34m(\u001b[0m\u001b[0ms1\u001b[0m\u001b[0;34m,\u001b[0m\u001b[0ms2\u001b[0m\u001b[0;34m[\u001b[0m\u001b[0;34m:\u001b[0m\u001b[0;34m-\u001b[0m\u001b[0;36m1\u001b[0m\u001b[0;34m]\u001b[0m\u001b[0;34m)\u001b[0m\u001b[0;34m,\u001b[0m\u001b[0;34m\u001b[0m\u001b[0;34m\u001b[0m\u001b[0m\n\u001b[0m\u001b[1;32m     10\u001b[0m         \u001b[0meditDistanceRec\u001b[0m\u001b[0;34m(\u001b[0m\u001b[0ms1\u001b[0m\u001b[0;34m[\u001b[0m\u001b[0;34m:\u001b[0m\u001b[0;34m-\u001b[0m\u001b[0;36m1\u001b[0m\u001b[0;34m]\u001b[0m\u001b[0;34m,\u001b[0m\u001b[0ms2\u001b[0m\u001b[0;34m)\u001b[0m\u001b[0;34m,\u001b[0m\u001b[0;34m\u001b[0m\u001b[0;34m\u001b[0m\u001b[0m\n\u001b[1;32m     11\u001b[0m         editDistanceRec(s1[:-1],s2[:-1])) + 1\n",
      "\u001b[0;32m<ipython-input-77-9eaa57a0f39b>\u001b[0m in \u001b[0;36meditDistanceRec\u001b[0;34m(s1, s2)\u001b[0m\n\u001b[1;32m      7\u001b[0m     \u001b[0;32melse\u001b[0m\u001b[0;34m:\u001b[0m\u001b[0;34m\u001b[0m\u001b[0;34m\u001b[0m\u001b[0m\n\u001b[1;32m      8\u001b[0m         return min(\n\u001b[0;32m----> 9\u001b[0;31m         \u001b[0meditDistanceRec\u001b[0m\u001b[0;34m(\u001b[0m\u001b[0ms1\u001b[0m\u001b[0;34m,\u001b[0m\u001b[0ms2\u001b[0m\u001b[0;34m[\u001b[0m\u001b[0;34m:\u001b[0m\u001b[0;34m-\u001b[0m\u001b[0;36m1\u001b[0m\u001b[0;34m]\u001b[0m\u001b[0;34m)\u001b[0m\u001b[0;34m,\u001b[0m\u001b[0;34m\u001b[0m\u001b[0;34m\u001b[0m\u001b[0m\n\u001b[0m\u001b[1;32m     10\u001b[0m         \u001b[0meditDistanceRec\u001b[0m\u001b[0;34m(\u001b[0m\u001b[0ms1\u001b[0m\u001b[0;34m[\u001b[0m\u001b[0;34m:\u001b[0m\u001b[0;34m-\u001b[0m\u001b[0;36m1\u001b[0m\u001b[0;34m]\u001b[0m\u001b[0;34m,\u001b[0m\u001b[0ms2\u001b[0m\u001b[0;34m)\u001b[0m\u001b[0;34m,\u001b[0m\u001b[0;34m\u001b[0m\u001b[0;34m\u001b[0m\u001b[0m\n\u001b[1;32m     11\u001b[0m         editDistanceRec(s1[:-1],s2[:-1])) + 1\n",
      "\u001b[0;32m<ipython-input-77-9eaa57a0f39b>\u001b[0m in \u001b[0;36meditDistanceRec\u001b[0;34m(s1, s2)\u001b[0m\n\u001b[1;32m      7\u001b[0m     \u001b[0;32melse\u001b[0m\u001b[0;34m:\u001b[0m\u001b[0;34m\u001b[0m\u001b[0;34m\u001b[0m\u001b[0m\n\u001b[1;32m      8\u001b[0m         return min(\n\u001b[0;32m----> 9\u001b[0;31m         \u001b[0meditDistanceRec\u001b[0m\u001b[0;34m(\u001b[0m\u001b[0ms1\u001b[0m\u001b[0;34m,\u001b[0m\u001b[0ms2\u001b[0m\u001b[0;34m[\u001b[0m\u001b[0;34m:\u001b[0m\u001b[0;34m-\u001b[0m\u001b[0;36m1\u001b[0m\u001b[0;34m]\u001b[0m\u001b[0;34m)\u001b[0m\u001b[0;34m,\u001b[0m\u001b[0;34m\u001b[0m\u001b[0;34m\u001b[0m\u001b[0m\n\u001b[0m\u001b[1;32m     10\u001b[0m         \u001b[0meditDistanceRec\u001b[0m\u001b[0;34m(\u001b[0m\u001b[0ms1\u001b[0m\u001b[0;34m[\u001b[0m\u001b[0;34m:\u001b[0m\u001b[0;34m-\u001b[0m\u001b[0;36m1\u001b[0m\u001b[0;34m]\u001b[0m\u001b[0;34m,\u001b[0m\u001b[0ms2\u001b[0m\u001b[0;34m)\u001b[0m\u001b[0;34m,\u001b[0m\u001b[0;34m\u001b[0m\u001b[0;34m\u001b[0m\u001b[0m\n\u001b[1;32m     11\u001b[0m         editDistanceRec(s1[:-1],s2[:-1])) + 1\n",
      "\u001b[0;32m<ipython-input-77-9eaa57a0f39b>\u001b[0m in \u001b[0;36meditDistanceRec\u001b[0;34m(s1, s2)\u001b[0m\n\u001b[1;32m      7\u001b[0m     \u001b[0;32melse\u001b[0m\u001b[0;34m:\u001b[0m\u001b[0;34m\u001b[0m\u001b[0;34m\u001b[0m\u001b[0m\n\u001b[1;32m      8\u001b[0m         return min(\n\u001b[0;32m----> 9\u001b[0;31m         \u001b[0meditDistanceRec\u001b[0m\u001b[0;34m(\u001b[0m\u001b[0ms1\u001b[0m\u001b[0;34m,\u001b[0m\u001b[0ms2\u001b[0m\u001b[0;34m[\u001b[0m\u001b[0;34m:\u001b[0m\u001b[0;34m-\u001b[0m\u001b[0;36m1\u001b[0m\u001b[0;34m]\u001b[0m\u001b[0;34m)\u001b[0m\u001b[0;34m,\u001b[0m\u001b[0;34m\u001b[0m\u001b[0;34m\u001b[0m\u001b[0m\n\u001b[0m\u001b[1;32m     10\u001b[0m         \u001b[0meditDistanceRec\u001b[0m\u001b[0;34m(\u001b[0m\u001b[0ms1\u001b[0m\u001b[0;34m[\u001b[0m\u001b[0;34m:\u001b[0m\u001b[0;34m-\u001b[0m\u001b[0;36m1\u001b[0m\u001b[0;34m]\u001b[0m\u001b[0;34m,\u001b[0m\u001b[0ms2\u001b[0m\u001b[0;34m)\u001b[0m\u001b[0;34m,\u001b[0m\u001b[0;34m\u001b[0m\u001b[0;34m\u001b[0m\u001b[0m\n\u001b[1;32m     11\u001b[0m         editDistanceRec(s1[:-1],s2[:-1])) + 1\n",
      "\u001b[0;32m<ipython-input-77-9eaa57a0f39b>\u001b[0m in \u001b[0;36meditDistanceRec\u001b[0;34m(s1, s2)\u001b[0m\n\u001b[1;32m      7\u001b[0m     \u001b[0;32melse\u001b[0m\u001b[0;34m:\u001b[0m\u001b[0;34m\u001b[0m\u001b[0;34m\u001b[0m\u001b[0m\n\u001b[1;32m      8\u001b[0m         return min(\n\u001b[0;32m----> 9\u001b[0;31m         \u001b[0meditDistanceRec\u001b[0m\u001b[0;34m(\u001b[0m\u001b[0ms1\u001b[0m\u001b[0;34m,\u001b[0m\u001b[0ms2\u001b[0m\u001b[0;34m[\u001b[0m\u001b[0;34m:\u001b[0m\u001b[0;34m-\u001b[0m\u001b[0;36m1\u001b[0m\u001b[0;34m]\u001b[0m\u001b[0;34m)\u001b[0m\u001b[0;34m,\u001b[0m\u001b[0;34m\u001b[0m\u001b[0;34m\u001b[0m\u001b[0m\n\u001b[0m\u001b[1;32m     10\u001b[0m         \u001b[0meditDistanceRec\u001b[0m\u001b[0;34m(\u001b[0m\u001b[0ms1\u001b[0m\u001b[0;34m[\u001b[0m\u001b[0;34m:\u001b[0m\u001b[0;34m-\u001b[0m\u001b[0;36m1\u001b[0m\u001b[0;34m]\u001b[0m\u001b[0;34m,\u001b[0m\u001b[0ms2\u001b[0m\u001b[0;34m)\u001b[0m\u001b[0;34m,\u001b[0m\u001b[0;34m\u001b[0m\u001b[0;34m\u001b[0m\u001b[0m\n\u001b[1;32m     11\u001b[0m         editDistanceRec(s1[:-1],s2[:-1])) + 1\n",
      "\u001b[0;32m<ipython-input-77-9eaa57a0f39b>\u001b[0m in \u001b[0;36meditDistanceRec\u001b[0;34m(s1, s2)\u001b[0m\n\u001b[1;32m      7\u001b[0m     \u001b[0;32melse\u001b[0m\u001b[0;34m:\u001b[0m\u001b[0;34m\u001b[0m\u001b[0;34m\u001b[0m\u001b[0m\n\u001b[1;32m      8\u001b[0m         return min(\n\u001b[0;32m----> 9\u001b[0;31m         \u001b[0meditDistanceRec\u001b[0m\u001b[0;34m(\u001b[0m\u001b[0ms1\u001b[0m\u001b[0;34m,\u001b[0m\u001b[0ms2\u001b[0m\u001b[0;34m[\u001b[0m\u001b[0;34m:\u001b[0m\u001b[0;34m-\u001b[0m\u001b[0;36m1\u001b[0m\u001b[0;34m]\u001b[0m\u001b[0;34m)\u001b[0m\u001b[0;34m,\u001b[0m\u001b[0;34m\u001b[0m\u001b[0;34m\u001b[0m\u001b[0m\n\u001b[0m\u001b[1;32m     10\u001b[0m         \u001b[0meditDistanceRec\u001b[0m\u001b[0;34m(\u001b[0m\u001b[0ms1\u001b[0m\u001b[0;34m[\u001b[0m\u001b[0;34m:\u001b[0m\u001b[0;34m-\u001b[0m\u001b[0;36m1\u001b[0m\u001b[0;34m]\u001b[0m\u001b[0;34m,\u001b[0m\u001b[0ms2\u001b[0m\u001b[0;34m)\u001b[0m\u001b[0;34m,\u001b[0m\u001b[0;34m\u001b[0m\u001b[0;34m\u001b[0m\u001b[0m\n\u001b[1;32m     11\u001b[0m         editDistanceRec(s1[:-1],s2[:-1])) + 1\n",
      "\u001b[0;32m<ipython-input-77-9eaa57a0f39b>\u001b[0m in \u001b[0;36meditDistanceRec\u001b[0;34m(s1, s2)\u001b[0m\n\u001b[1;32m      8\u001b[0m         return min(\n\u001b[1;32m      9\u001b[0m         \u001b[0meditDistanceRec\u001b[0m\u001b[0;34m(\u001b[0m\u001b[0ms1\u001b[0m\u001b[0;34m,\u001b[0m\u001b[0ms2\u001b[0m\u001b[0;34m[\u001b[0m\u001b[0;34m:\u001b[0m\u001b[0;34m-\u001b[0m\u001b[0;36m1\u001b[0m\u001b[0;34m]\u001b[0m\u001b[0;34m)\u001b[0m\u001b[0;34m,\u001b[0m\u001b[0;34m\u001b[0m\u001b[0;34m\u001b[0m\u001b[0m\n\u001b[0;32m---> 10\u001b[0;31m         \u001b[0meditDistanceRec\u001b[0m\u001b[0;34m(\u001b[0m\u001b[0ms1\u001b[0m\u001b[0;34m[\u001b[0m\u001b[0;34m:\u001b[0m\u001b[0;34m-\u001b[0m\u001b[0;36m1\u001b[0m\u001b[0;34m]\u001b[0m\u001b[0;34m,\u001b[0m\u001b[0ms2\u001b[0m\u001b[0;34m)\u001b[0m\u001b[0;34m,\u001b[0m\u001b[0;34m\u001b[0m\u001b[0;34m\u001b[0m\u001b[0m\n\u001b[0m\u001b[1;32m     11\u001b[0m         editDistanceRec(s1[:-1],s2[:-1])) + 1\n",
      "\u001b[0;32m<ipython-input-77-9eaa57a0f39b>\u001b[0m in \u001b[0;36meditDistanceRec\u001b[0;34m(s1, s2)\u001b[0m\n\u001b[1;32m      8\u001b[0m         return min(\n\u001b[1;32m      9\u001b[0m         \u001b[0meditDistanceRec\u001b[0m\u001b[0;34m(\u001b[0m\u001b[0ms1\u001b[0m\u001b[0;34m,\u001b[0m\u001b[0ms2\u001b[0m\u001b[0;34m[\u001b[0m\u001b[0;34m:\u001b[0m\u001b[0;34m-\u001b[0m\u001b[0;36m1\u001b[0m\u001b[0;34m]\u001b[0m\u001b[0;34m)\u001b[0m\u001b[0;34m,\u001b[0m\u001b[0;34m\u001b[0m\u001b[0;34m\u001b[0m\u001b[0m\n\u001b[0;32m---> 10\u001b[0;31m         \u001b[0meditDistanceRec\u001b[0m\u001b[0;34m(\u001b[0m\u001b[0ms1\u001b[0m\u001b[0;34m[\u001b[0m\u001b[0;34m:\u001b[0m\u001b[0;34m-\u001b[0m\u001b[0;36m1\u001b[0m\u001b[0;34m]\u001b[0m\u001b[0;34m,\u001b[0m\u001b[0ms2\u001b[0m\u001b[0;34m)\u001b[0m\u001b[0;34m,\u001b[0m\u001b[0;34m\u001b[0m\u001b[0;34m\u001b[0m\u001b[0m\n\u001b[0m\u001b[1;32m     11\u001b[0m         editDistanceRec(s1[:-1],s2[:-1])) + 1\n",
      "\u001b[0;32m<ipython-input-77-9eaa57a0f39b>\u001b[0m in \u001b[0;36meditDistanceRec\u001b[0;34m(s1, s2)\u001b[0m\n\u001b[1;32m      8\u001b[0m         return min(\n\u001b[1;32m      9\u001b[0m         \u001b[0meditDistanceRec\u001b[0m\u001b[0;34m(\u001b[0m\u001b[0ms1\u001b[0m\u001b[0;34m,\u001b[0m\u001b[0ms2\u001b[0m\u001b[0;34m[\u001b[0m\u001b[0;34m:\u001b[0m\u001b[0;34m-\u001b[0m\u001b[0;36m1\u001b[0m\u001b[0;34m]\u001b[0m\u001b[0;34m)\u001b[0m\u001b[0;34m,\u001b[0m\u001b[0;34m\u001b[0m\u001b[0;34m\u001b[0m\u001b[0m\n\u001b[0;32m---> 10\u001b[0;31m         \u001b[0meditDistanceRec\u001b[0m\u001b[0;34m(\u001b[0m\u001b[0ms1\u001b[0m\u001b[0;34m[\u001b[0m\u001b[0;34m:\u001b[0m\u001b[0;34m-\u001b[0m\u001b[0;36m1\u001b[0m\u001b[0;34m]\u001b[0m\u001b[0;34m,\u001b[0m\u001b[0ms2\u001b[0m\u001b[0;34m)\u001b[0m\u001b[0;34m,\u001b[0m\u001b[0;34m\u001b[0m\u001b[0;34m\u001b[0m\u001b[0m\n\u001b[0m\u001b[1;32m     11\u001b[0m         editDistanceRec(s1[:-1],s2[:-1])) + 1\n",
      "\u001b[0;32m<ipython-input-77-9eaa57a0f39b>\u001b[0m in \u001b[0;36meditDistanceRec\u001b[0;34m(s1, s2)\u001b[0m\n\u001b[1;32m      8\u001b[0m         return min(\n\u001b[1;32m      9\u001b[0m         \u001b[0meditDistanceRec\u001b[0m\u001b[0;34m(\u001b[0m\u001b[0ms1\u001b[0m\u001b[0;34m,\u001b[0m\u001b[0ms2\u001b[0m\u001b[0;34m[\u001b[0m\u001b[0;34m:\u001b[0m\u001b[0;34m-\u001b[0m\u001b[0;36m1\u001b[0m\u001b[0;34m]\u001b[0m\u001b[0;34m)\u001b[0m\u001b[0;34m,\u001b[0m\u001b[0;34m\u001b[0m\u001b[0;34m\u001b[0m\u001b[0m\n\u001b[0;32m---> 10\u001b[0;31m         \u001b[0meditDistanceRec\u001b[0m\u001b[0;34m(\u001b[0m\u001b[0ms1\u001b[0m\u001b[0;34m[\u001b[0m\u001b[0;34m:\u001b[0m\u001b[0;34m-\u001b[0m\u001b[0;36m1\u001b[0m\u001b[0;34m]\u001b[0m\u001b[0;34m,\u001b[0m\u001b[0ms2\u001b[0m\u001b[0;34m)\u001b[0m\u001b[0;34m,\u001b[0m\u001b[0;34m\u001b[0m\u001b[0;34m\u001b[0m\u001b[0m\n\u001b[0m\u001b[1;32m     11\u001b[0m         editDistanceRec(s1[:-1],s2[:-1])) + 1\n",
      "\u001b[0;32m<ipython-input-77-9eaa57a0f39b>\u001b[0m in \u001b[0;36meditDistanceRec\u001b[0;34m(s1, s2)\u001b[0m\n\u001b[1;32m      9\u001b[0m         \u001b[0meditDistanceRec\u001b[0m\u001b[0;34m(\u001b[0m\u001b[0ms1\u001b[0m\u001b[0;34m,\u001b[0m\u001b[0ms2\u001b[0m\u001b[0;34m[\u001b[0m\u001b[0;34m:\u001b[0m\u001b[0;34m-\u001b[0m\u001b[0;36m1\u001b[0m\u001b[0;34m]\u001b[0m\u001b[0;34m)\u001b[0m\u001b[0;34m,\u001b[0m\u001b[0;34m\u001b[0m\u001b[0;34m\u001b[0m\u001b[0m\n\u001b[1;32m     10\u001b[0m         \u001b[0meditDistanceRec\u001b[0m\u001b[0;34m(\u001b[0m\u001b[0ms1\u001b[0m\u001b[0;34m[\u001b[0m\u001b[0;34m:\u001b[0m\u001b[0;34m-\u001b[0m\u001b[0;36m1\u001b[0m\u001b[0;34m]\u001b[0m\u001b[0;34m,\u001b[0m\u001b[0ms2\u001b[0m\u001b[0;34m)\u001b[0m\u001b[0;34m,\u001b[0m\u001b[0;34m\u001b[0m\u001b[0;34m\u001b[0m\u001b[0m\n\u001b[0;32m---> 11\u001b[0;31m         editDistanceRec(s1[:-1],s2[:-1])) + 1\n\u001b[0m",
      "\u001b[0;32m<ipython-input-77-9eaa57a0f39b>\u001b[0m in \u001b[0;36meditDistanceRec\u001b[0;34m(s1, s2)\u001b[0m\n\u001b[1;32m      4\u001b[0m \u001b[0;34m\u001b[0m\u001b[0m\n\u001b[1;32m      5\u001b[0m     \u001b[0;32mif\u001b[0m \u001b[0ms1\u001b[0m\u001b[0;34m[\u001b[0m\u001b[0;34m-\u001b[0m\u001b[0;36m1\u001b[0m\u001b[0;34m]\u001b[0m \u001b[0;34m==\u001b[0m \u001b[0ms2\u001b[0m\u001b[0;34m[\u001b[0m\u001b[0;34m-\u001b[0m\u001b[0;36m1\u001b[0m\u001b[0;34m]\u001b[0m\u001b[0;34m:\u001b[0m\u001b[0;34m\u001b[0m\u001b[0;34m\u001b[0m\u001b[0m\n\u001b[0;32m----> 6\u001b[0;31m         \u001b[0;32mreturn\u001b[0m \u001b[0meditDistanceRec\u001b[0m\u001b[0;34m(\u001b[0m\u001b[0ms1\u001b[0m\u001b[0;34m[\u001b[0m\u001b[0;34m:\u001b[0m\u001b[0;34m-\u001b[0m\u001b[0;36m1\u001b[0m\u001b[0;34m]\u001b[0m\u001b[0;34m,\u001b[0m\u001b[0ms2\u001b[0m\u001b[0;34m[\u001b[0m\u001b[0;34m:\u001b[0m\u001b[0;34m-\u001b[0m\u001b[0;36m1\u001b[0m\u001b[0;34m]\u001b[0m\u001b[0;34m)\u001b[0m\u001b[0;34m\u001b[0m\u001b[0;34m\u001b[0m\u001b[0m\n\u001b[0m\u001b[1;32m      7\u001b[0m     \u001b[0;32melse\u001b[0m\u001b[0;34m:\u001b[0m\u001b[0;34m\u001b[0m\u001b[0;34m\u001b[0m\u001b[0m\n\u001b[1;32m      8\u001b[0m         return min(\n",
      "\u001b[0;32m<ipython-input-77-9eaa57a0f39b>\u001b[0m in \u001b[0;36meditDistanceRec\u001b[0;34m(s1, s2)\u001b[0m\n\u001b[1;32m      9\u001b[0m         \u001b[0meditDistanceRec\u001b[0m\u001b[0;34m(\u001b[0m\u001b[0ms1\u001b[0m\u001b[0;34m,\u001b[0m\u001b[0ms2\u001b[0m\u001b[0;34m[\u001b[0m\u001b[0;34m:\u001b[0m\u001b[0;34m-\u001b[0m\u001b[0;36m1\u001b[0m\u001b[0;34m]\u001b[0m\u001b[0;34m)\u001b[0m\u001b[0;34m,\u001b[0m\u001b[0;34m\u001b[0m\u001b[0;34m\u001b[0m\u001b[0m\n\u001b[1;32m     10\u001b[0m         \u001b[0meditDistanceRec\u001b[0m\u001b[0;34m(\u001b[0m\u001b[0ms1\u001b[0m\u001b[0;34m[\u001b[0m\u001b[0;34m:\u001b[0m\u001b[0;34m-\u001b[0m\u001b[0;36m1\u001b[0m\u001b[0;34m]\u001b[0m\u001b[0;34m,\u001b[0m\u001b[0ms2\u001b[0m\u001b[0;34m)\u001b[0m\u001b[0;34m,\u001b[0m\u001b[0;34m\u001b[0m\u001b[0;34m\u001b[0m\u001b[0m\n\u001b[0;32m---> 11\u001b[0;31m         editDistanceRec(s1[:-1],s2[:-1])) + 1\n\u001b[0m",
      "\u001b[0;32m<ipython-input-77-9eaa57a0f39b>\u001b[0m in \u001b[0;36meditDistanceRec\u001b[0;34m(s1, s2)\u001b[0m\n\u001b[1;32m      8\u001b[0m         return min(\n\u001b[1;32m      9\u001b[0m         \u001b[0meditDistanceRec\u001b[0m\u001b[0;34m(\u001b[0m\u001b[0ms1\u001b[0m\u001b[0;34m,\u001b[0m\u001b[0ms2\u001b[0m\u001b[0;34m[\u001b[0m\u001b[0;34m:\u001b[0m\u001b[0;34m-\u001b[0m\u001b[0;36m1\u001b[0m\u001b[0;34m]\u001b[0m\u001b[0;34m)\u001b[0m\u001b[0;34m,\u001b[0m\u001b[0;34m\u001b[0m\u001b[0;34m\u001b[0m\u001b[0m\n\u001b[0;32m---> 10\u001b[0;31m         \u001b[0meditDistanceRec\u001b[0m\u001b[0;34m(\u001b[0m\u001b[0ms1\u001b[0m\u001b[0;34m[\u001b[0m\u001b[0;34m:\u001b[0m\u001b[0;34m-\u001b[0m\u001b[0;36m1\u001b[0m\u001b[0;34m]\u001b[0m\u001b[0;34m,\u001b[0m\u001b[0ms2\u001b[0m\u001b[0;34m)\u001b[0m\u001b[0;34m,\u001b[0m\u001b[0;34m\u001b[0m\u001b[0;34m\u001b[0m\u001b[0m\n\u001b[0m\u001b[1;32m     11\u001b[0m         editDistanceRec(s1[:-1],s2[:-1])) + 1\n",
      "\u001b[0;32m<ipython-input-77-9eaa57a0f39b>\u001b[0m in \u001b[0;36meditDistanceRec\u001b[0;34m(s1, s2)\u001b[0m\n\u001b[1;32m      7\u001b[0m     \u001b[0;32melse\u001b[0m\u001b[0;34m:\u001b[0m\u001b[0;34m\u001b[0m\u001b[0;34m\u001b[0m\u001b[0m\n\u001b[1;32m      8\u001b[0m         return min(\n\u001b[0;32m----> 9\u001b[0;31m         \u001b[0meditDistanceRec\u001b[0m\u001b[0;34m(\u001b[0m\u001b[0ms1\u001b[0m\u001b[0;34m,\u001b[0m\u001b[0ms2\u001b[0m\u001b[0;34m[\u001b[0m\u001b[0;34m:\u001b[0m\u001b[0;34m-\u001b[0m\u001b[0;36m1\u001b[0m\u001b[0;34m]\u001b[0m\u001b[0;34m)\u001b[0m\u001b[0;34m,\u001b[0m\u001b[0;34m\u001b[0m\u001b[0;34m\u001b[0m\u001b[0m\n\u001b[0m\u001b[1;32m     10\u001b[0m         \u001b[0meditDistanceRec\u001b[0m\u001b[0;34m(\u001b[0m\u001b[0ms1\u001b[0m\u001b[0;34m[\u001b[0m\u001b[0;34m:\u001b[0m\u001b[0;34m-\u001b[0m\u001b[0;36m1\u001b[0m\u001b[0;34m]\u001b[0m\u001b[0;34m,\u001b[0m\u001b[0ms2\u001b[0m\u001b[0;34m)\u001b[0m\u001b[0;34m,\u001b[0m\u001b[0;34m\u001b[0m\u001b[0;34m\u001b[0m\u001b[0m\n\u001b[1;32m     11\u001b[0m         editDistanceRec(s1[:-1],s2[:-1])) + 1\n",
      "\u001b[0;32m<ipython-input-77-9eaa57a0f39b>\u001b[0m in \u001b[0;36meditDistanceRec\u001b[0;34m(s1, s2)\u001b[0m\n\u001b[1;32m      8\u001b[0m         return min(\n\u001b[1;32m      9\u001b[0m         \u001b[0meditDistanceRec\u001b[0m\u001b[0;34m(\u001b[0m\u001b[0ms1\u001b[0m\u001b[0;34m,\u001b[0m\u001b[0ms2\u001b[0m\u001b[0;34m[\u001b[0m\u001b[0;34m:\u001b[0m\u001b[0;34m-\u001b[0m\u001b[0;36m1\u001b[0m\u001b[0;34m]\u001b[0m\u001b[0;34m)\u001b[0m\u001b[0;34m,\u001b[0m\u001b[0;34m\u001b[0m\u001b[0;34m\u001b[0m\u001b[0m\n\u001b[0;32m---> 10\u001b[0;31m         \u001b[0meditDistanceRec\u001b[0m\u001b[0;34m(\u001b[0m\u001b[0ms1\u001b[0m\u001b[0;34m[\u001b[0m\u001b[0;34m:\u001b[0m\u001b[0;34m-\u001b[0m\u001b[0;36m1\u001b[0m\u001b[0;34m]\u001b[0m\u001b[0;34m,\u001b[0m\u001b[0ms2\u001b[0m\u001b[0;34m)\u001b[0m\u001b[0;34m,\u001b[0m\u001b[0;34m\u001b[0m\u001b[0;34m\u001b[0m\u001b[0m\n\u001b[0m\u001b[1;32m     11\u001b[0m         editDistanceRec(s1[:-1],s2[:-1])) + 1\n",
      "\u001b[0;32m<ipython-input-77-9eaa57a0f39b>\u001b[0m in \u001b[0;36meditDistanceRec\u001b[0;34m(s1, s2)\u001b[0m\n\u001b[1;32m      7\u001b[0m     \u001b[0;32melse\u001b[0m\u001b[0;34m:\u001b[0m\u001b[0;34m\u001b[0m\u001b[0;34m\u001b[0m\u001b[0m\n\u001b[1;32m      8\u001b[0m         return min(\n\u001b[0;32m----> 9\u001b[0;31m         \u001b[0meditDistanceRec\u001b[0m\u001b[0;34m(\u001b[0m\u001b[0ms1\u001b[0m\u001b[0;34m,\u001b[0m\u001b[0ms2\u001b[0m\u001b[0;34m[\u001b[0m\u001b[0;34m:\u001b[0m\u001b[0;34m-\u001b[0m\u001b[0;36m1\u001b[0m\u001b[0;34m]\u001b[0m\u001b[0;34m)\u001b[0m\u001b[0;34m,\u001b[0m\u001b[0;34m\u001b[0m\u001b[0;34m\u001b[0m\u001b[0m\n\u001b[0m\u001b[1;32m     10\u001b[0m         \u001b[0meditDistanceRec\u001b[0m\u001b[0;34m(\u001b[0m\u001b[0ms1\u001b[0m\u001b[0;34m[\u001b[0m\u001b[0;34m:\u001b[0m\u001b[0;34m-\u001b[0m\u001b[0;36m1\u001b[0m\u001b[0;34m]\u001b[0m\u001b[0;34m,\u001b[0m\u001b[0ms2\u001b[0m\u001b[0;34m)\u001b[0m\u001b[0;34m,\u001b[0m\u001b[0;34m\u001b[0m\u001b[0;34m\u001b[0m\u001b[0m\n\u001b[1;32m     11\u001b[0m         editDistanceRec(s1[:-1],s2[:-1])) + 1\n",
      "\u001b[0;32m<ipython-input-77-9eaa57a0f39b>\u001b[0m in \u001b[0;36meditDistanceRec\u001b[0;34m(s1, s2)\u001b[0m\n\u001b[1;32m      8\u001b[0m         return min(\n\u001b[1;32m      9\u001b[0m         \u001b[0meditDistanceRec\u001b[0m\u001b[0;34m(\u001b[0m\u001b[0ms1\u001b[0m\u001b[0;34m,\u001b[0m\u001b[0ms2\u001b[0m\u001b[0;34m[\u001b[0m\u001b[0;34m:\u001b[0m\u001b[0;34m-\u001b[0m\u001b[0;36m1\u001b[0m\u001b[0;34m]\u001b[0m\u001b[0;34m)\u001b[0m\u001b[0;34m,\u001b[0m\u001b[0;34m\u001b[0m\u001b[0;34m\u001b[0m\u001b[0m\n\u001b[0;32m---> 10\u001b[0;31m         \u001b[0meditDistanceRec\u001b[0m\u001b[0;34m(\u001b[0m\u001b[0ms1\u001b[0m\u001b[0;34m[\u001b[0m\u001b[0;34m:\u001b[0m\u001b[0;34m-\u001b[0m\u001b[0;36m1\u001b[0m\u001b[0;34m]\u001b[0m\u001b[0;34m,\u001b[0m\u001b[0ms2\u001b[0m\u001b[0;34m)\u001b[0m\u001b[0;34m,\u001b[0m\u001b[0;34m\u001b[0m\u001b[0;34m\u001b[0m\u001b[0m\n\u001b[0m\u001b[1;32m     11\u001b[0m         editDistanceRec(s1[:-1],s2[:-1])) + 1\n",
      "\u001b[0;32m<ipython-input-77-9eaa57a0f39b>\u001b[0m in \u001b[0;36meditDistanceRec\u001b[0;34m(s1, s2)\u001b[0m\n\u001b[1;32m      8\u001b[0m         return min(\n\u001b[1;32m      9\u001b[0m         \u001b[0meditDistanceRec\u001b[0m\u001b[0;34m(\u001b[0m\u001b[0ms1\u001b[0m\u001b[0;34m,\u001b[0m\u001b[0ms2\u001b[0m\u001b[0;34m[\u001b[0m\u001b[0;34m:\u001b[0m\u001b[0;34m-\u001b[0m\u001b[0;36m1\u001b[0m\u001b[0;34m]\u001b[0m\u001b[0;34m)\u001b[0m\u001b[0;34m,\u001b[0m\u001b[0;34m\u001b[0m\u001b[0;34m\u001b[0m\u001b[0m\n\u001b[0;32m---> 10\u001b[0;31m         \u001b[0meditDistanceRec\u001b[0m\u001b[0;34m(\u001b[0m\u001b[0ms1\u001b[0m\u001b[0;34m[\u001b[0m\u001b[0;34m:\u001b[0m\u001b[0;34m-\u001b[0m\u001b[0;36m1\u001b[0m\u001b[0;34m]\u001b[0m\u001b[0;34m,\u001b[0m\u001b[0ms2\u001b[0m\u001b[0;34m)\u001b[0m\u001b[0;34m,\u001b[0m\u001b[0;34m\u001b[0m\u001b[0;34m\u001b[0m\u001b[0m\n\u001b[0m\u001b[1;32m     11\u001b[0m         editDistanceRec(s1[:-1],s2[:-1])) + 1\n",
      "\u001b[0;32m<ipython-input-77-9eaa57a0f39b>\u001b[0m in \u001b[0;36meditDistanceRec\u001b[0;34m(s1, s2)\u001b[0m\n\u001b[1;32m      8\u001b[0m         return min(\n\u001b[1;32m      9\u001b[0m         \u001b[0meditDistanceRec\u001b[0m\u001b[0;34m(\u001b[0m\u001b[0ms1\u001b[0m\u001b[0;34m,\u001b[0m\u001b[0ms2\u001b[0m\u001b[0;34m[\u001b[0m\u001b[0;34m:\u001b[0m\u001b[0;34m-\u001b[0m\u001b[0;36m1\u001b[0m\u001b[0;34m]\u001b[0m\u001b[0;34m)\u001b[0m\u001b[0;34m,\u001b[0m\u001b[0;34m\u001b[0m\u001b[0;34m\u001b[0m\u001b[0m\n\u001b[0;32m---> 10\u001b[0;31m         \u001b[0meditDistanceRec\u001b[0m\u001b[0;34m(\u001b[0m\u001b[0ms1\u001b[0m\u001b[0;34m[\u001b[0m\u001b[0;34m:\u001b[0m\u001b[0;34m-\u001b[0m\u001b[0;36m1\u001b[0m\u001b[0;34m]\u001b[0m\u001b[0;34m,\u001b[0m\u001b[0ms2\u001b[0m\u001b[0;34m)\u001b[0m\u001b[0;34m,\u001b[0m\u001b[0;34m\u001b[0m\u001b[0;34m\u001b[0m\u001b[0m\n\u001b[0m\u001b[1;32m     11\u001b[0m         editDistanceRec(s1[:-1],s2[:-1])) + 1\n",
      "\u001b[0;32m<ipython-input-77-9eaa57a0f39b>\u001b[0m in \u001b[0;36meditDistanceRec\u001b[0;34m(s1, s2)\u001b[0m\n\u001b[1;32m      8\u001b[0m         return min(\n\u001b[1;32m      9\u001b[0m         \u001b[0meditDistanceRec\u001b[0m\u001b[0;34m(\u001b[0m\u001b[0ms1\u001b[0m\u001b[0;34m,\u001b[0m\u001b[0ms2\u001b[0m\u001b[0;34m[\u001b[0m\u001b[0;34m:\u001b[0m\u001b[0;34m-\u001b[0m\u001b[0;36m1\u001b[0m\u001b[0;34m]\u001b[0m\u001b[0;34m)\u001b[0m\u001b[0;34m,\u001b[0m\u001b[0;34m\u001b[0m\u001b[0;34m\u001b[0m\u001b[0m\n\u001b[0;32m---> 10\u001b[0;31m         \u001b[0meditDistanceRec\u001b[0m\u001b[0;34m(\u001b[0m\u001b[0ms1\u001b[0m\u001b[0;34m[\u001b[0m\u001b[0;34m:\u001b[0m\u001b[0;34m-\u001b[0m\u001b[0;36m1\u001b[0m\u001b[0;34m]\u001b[0m\u001b[0;34m,\u001b[0m\u001b[0ms2\u001b[0m\u001b[0;34m)\u001b[0m\u001b[0;34m,\u001b[0m\u001b[0;34m\u001b[0m\u001b[0;34m\u001b[0m\u001b[0m\n\u001b[0m\u001b[1;32m     11\u001b[0m         editDistanceRec(s1[:-1],s2[:-1])) + 1\n",
      "\u001b[0;32m<ipython-input-77-9eaa57a0f39b>\u001b[0m in \u001b[0;36meditDistanceRec\u001b[0;34m(s1, s2)\u001b[0m\n\u001b[1;32m      9\u001b[0m         \u001b[0meditDistanceRec\u001b[0m\u001b[0;34m(\u001b[0m\u001b[0ms1\u001b[0m\u001b[0;34m,\u001b[0m\u001b[0ms2\u001b[0m\u001b[0;34m[\u001b[0m\u001b[0;34m:\u001b[0m\u001b[0;34m-\u001b[0m\u001b[0;36m1\u001b[0m\u001b[0;34m]\u001b[0m\u001b[0;34m)\u001b[0m\u001b[0;34m,\u001b[0m\u001b[0;34m\u001b[0m\u001b[0;34m\u001b[0m\u001b[0m\n\u001b[1;32m     10\u001b[0m         \u001b[0meditDistanceRec\u001b[0m\u001b[0;34m(\u001b[0m\u001b[0ms1\u001b[0m\u001b[0;34m[\u001b[0m\u001b[0;34m:\u001b[0m\u001b[0;34m-\u001b[0m\u001b[0;36m1\u001b[0m\u001b[0;34m]\u001b[0m\u001b[0;34m,\u001b[0m\u001b[0ms2\u001b[0m\u001b[0;34m)\u001b[0m\u001b[0;34m,\u001b[0m\u001b[0;34m\u001b[0m\u001b[0;34m\u001b[0m\u001b[0m\n\u001b[0;32m---> 11\u001b[0;31m         editDistanceRec(s1[:-1],s2[:-1])) + 1\n\u001b[0m",
      "\u001b[0;32m<ipython-input-77-9eaa57a0f39b>\u001b[0m in \u001b[0;36meditDistanceRec\u001b[0;34m(s1, s2)\u001b[0m\n\u001b[1;32m      8\u001b[0m         return min(\n\u001b[1;32m      9\u001b[0m         \u001b[0meditDistanceRec\u001b[0m\u001b[0;34m(\u001b[0m\u001b[0ms1\u001b[0m\u001b[0;34m,\u001b[0m\u001b[0ms2\u001b[0m\u001b[0;34m[\u001b[0m\u001b[0;34m:\u001b[0m\u001b[0;34m-\u001b[0m\u001b[0;36m1\u001b[0m\u001b[0;34m]\u001b[0m\u001b[0;34m)\u001b[0m\u001b[0;34m,\u001b[0m\u001b[0;34m\u001b[0m\u001b[0;34m\u001b[0m\u001b[0m\n\u001b[0;32m---> 10\u001b[0;31m         \u001b[0meditDistanceRec\u001b[0m\u001b[0;34m(\u001b[0m\u001b[0ms1\u001b[0m\u001b[0;34m[\u001b[0m\u001b[0;34m:\u001b[0m\u001b[0;34m-\u001b[0m\u001b[0;36m1\u001b[0m\u001b[0;34m]\u001b[0m\u001b[0;34m,\u001b[0m\u001b[0ms2\u001b[0m\u001b[0;34m)\u001b[0m\u001b[0;34m,\u001b[0m\u001b[0;34m\u001b[0m\u001b[0;34m\u001b[0m\u001b[0m\n\u001b[0m\u001b[1;32m     11\u001b[0m         editDistanceRec(s1[:-1],s2[:-1])) + 1\n",
      "\u001b[0;32m<ipython-input-77-9eaa57a0f39b>\u001b[0m in \u001b[0;36meditDistanceRec\u001b[0;34m(s1, s2)\u001b[0m\n\u001b[1;32m      8\u001b[0m         return min(\n\u001b[1;32m      9\u001b[0m         \u001b[0meditDistanceRec\u001b[0m\u001b[0;34m(\u001b[0m\u001b[0ms1\u001b[0m\u001b[0;34m,\u001b[0m\u001b[0ms2\u001b[0m\u001b[0;34m[\u001b[0m\u001b[0;34m:\u001b[0m\u001b[0;34m-\u001b[0m\u001b[0;36m1\u001b[0m\u001b[0;34m]\u001b[0m\u001b[0;34m)\u001b[0m\u001b[0;34m,\u001b[0m\u001b[0;34m\u001b[0m\u001b[0;34m\u001b[0m\u001b[0m\n\u001b[0;32m---> 10\u001b[0;31m         \u001b[0meditDistanceRec\u001b[0m\u001b[0;34m(\u001b[0m\u001b[0ms1\u001b[0m\u001b[0;34m[\u001b[0m\u001b[0;34m:\u001b[0m\u001b[0;34m-\u001b[0m\u001b[0;36m1\u001b[0m\u001b[0;34m]\u001b[0m\u001b[0;34m,\u001b[0m\u001b[0ms2\u001b[0m\u001b[0;34m)\u001b[0m\u001b[0;34m,\u001b[0m\u001b[0;34m\u001b[0m\u001b[0;34m\u001b[0m\u001b[0m\n\u001b[0m\u001b[1;32m     11\u001b[0m         editDistanceRec(s1[:-1],s2[:-1])) + 1\n",
      "\u001b[0;32m<ipython-input-77-9eaa57a0f39b>\u001b[0m in \u001b[0;36meditDistanceRec\u001b[0;34m(s1, s2)\u001b[0m\n\u001b[1;32m      8\u001b[0m         return min(\n\u001b[1;32m      9\u001b[0m         \u001b[0meditDistanceRec\u001b[0m\u001b[0;34m(\u001b[0m\u001b[0ms1\u001b[0m\u001b[0;34m,\u001b[0m\u001b[0ms2\u001b[0m\u001b[0;34m[\u001b[0m\u001b[0;34m:\u001b[0m\u001b[0;34m-\u001b[0m\u001b[0;36m1\u001b[0m\u001b[0;34m]\u001b[0m\u001b[0;34m)\u001b[0m\u001b[0;34m,\u001b[0m\u001b[0;34m\u001b[0m\u001b[0;34m\u001b[0m\u001b[0m\n\u001b[0;32m---> 10\u001b[0;31m         \u001b[0meditDistanceRec\u001b[0m\u001b[0;34m(\u001b[0m\u001b[0ms1\u001b[0m\u001b[0;34m[\u001b[0m\u001b[0;34m:\u001b[0m\u001b[0;34m-\u001b[0m\u001b[0;36m1\u001b[0m\u001b[0;34m]\u001b[0m\u001b[0;34m,\u001b[0m\u001b[0ms2\u001b[0m\u001b[0;34m)\u001b[0m\u001b[0;34m,\u001b[0m\u001b[0;34m\u001b[0m\u001b[0;34m\u001b[0m\u001b[0m\n\u001b[0m\u001b[1;32m     11\u001b[0m         editDistanceRec(s1[:-1],s2[:-1])) + 1\n",
      "\u001b[0;32m<ipython-input-77-9eaa57a0f39b>\u001b[0m in \u001b[0;36meditDistanceRec\u001b[0;34m(s1, s2)\u001b[0m\n\u001b[1;32m      9\u001b[0m         \u001b[0meditDistanceRec\u001b[0m\u001b[0;34m(\u001b[0m\u001b[0ms1\u001b[0m\u001b[0;34m,\u001b[0m\u001b[0ms2\u001b[0m\u001b[0;34m[\u001b[0m\u001b[0;34m:\u001b[0m\u001b[0;34m-\u001b[0m\u001b[0;36m1\u001b[0m\u001b[0;34m]\u001b[0m\u001b[0;34m)\u001b[0m\u001b[0;34m,\u001b[0m\u001b[0;34m\u001b[0m\u001b[0;34m\u001b[0m\u001b[0m\n\u001b[1;32m     10\u001b[0m         \u001b[0meditDistanceRec\u001b[0m\u001b[0;34m(\u001b[0m\u001b[0ms1\u001b[0m\u001b[0;34m[\u001b[0m\u001b[0;34m:\u001b[0m\u001b[0;34m-\u001b[0m\u001b[0;36m1\u001b[0m\u001b[0;34m]\u001b[0m\u001b[0;34m,\u001b[0m\u001b[0ms2\u001b[0m\u001b[0;34m)\u001b[0m\u001b[0;34m,\u001b[0m\u001b[0;34m\u001b[0m\u001b[0;34m\u001b[0m\u001b[0m\n\u001b[0;32m---> 11\u001b[0;31m         editDistanceRec(s1[:-1],s2[:-1])) + 1\n\u001b[0m",
      "\u001b[0;32m<ipython-input-77-9eaa57a0f39b>\u001b[0m in \u001b[0;36meditDistanceRec\u001b[0;34m(s1, s2)\u001b[0m\n\u001b[1;32m      8\u001b[0m         return min(\n\u001b[1;32m      9\u001b[0m         \u001b[0meditDistanceRec\u001b[0m\u001b[0;34m(\u001b[0m\u001b[0ms1\u001b[0m\u001b[0;34m,\u001b[0m\u001b[0ms2\u001b[0m\u001b[0;34m[\u001b[0m\u001b[0;34m:\u001b[0m\u001b[0;34m-\u001b[0m\u001b[0;36m1\u001b[0m\u001b[0;34m]\u001b[0m\u001b[0;34m)\u001b[0m\u001b[0;34m,\u001b[0m\u001b[0;34m\u001b[0m\u001b[0;34m\u001b[0m\u001b[0m\n\u001b[0;32m---> 10\u001b[0;31m         \u001b[0meditDistanceRec\u001b[0m\u001b[0;34m(\u001b[0m\u001b[0ms1\u001b[0m\u001b[0;34m[\u001b[0m\u001b[0;34m:\u001b[0m\u001b[0;34m-\u001b[0m\u001b[0;36m1\u001b[0m\u001b[0;34m]\u001b[0m\u001b[0;34m,\u001b[0m\u001b[0ms2\u001b[0m\u001b[0;34m)\u001b[0m\u001b[0;34m,\u001b[0m\u001b[0;34m\u001b[0m\u001b[0;34m\u001b[0m\u001b[0m\n\u001b[0m\u001b[1;32m     11\u001b[0m         editDistanceRec(s1[:-1],s2[:-1])) + 1\n",
      "\u001b[0;32m<ipython-input-77-9eaa57a0f39b>\u001b[0m in \u001b[0;36meditDistanceRec\u001b[0;34m(s1, s2)\u001b[0m\n\u001b[1;32m      9\u001b[0m         \u001b[0meditDistanceRec\u001b[0m\u001b[0;34m(\u001b[0m\u001b[0ms1\u001b[0m\u001b[0;34m,\u001b[0m\u001b[0ms2\u001b[0m\u001b[0;34m[\u001b[0m\u001b[0;34m:\u001b[0m\u001b[0;34m-\u001b[0m\u001b[0;36m1\u001b[0m\u001b[0;34m]\u001b[0m\u001b[0;34m)\u001b[0m\u001b[0;34m,\u001b[0m\u001b[0;34m\u001b[0m\u001b[0;34m\u001b[0m\u001b[0m\n\u001b[1;32m     10\u001b[0m         \u001b[0meditDistanceRec\u001b[0m\u001b[0;34m(\u001b[0m\u001b[0ms1\u001b[0m\u001b[0;34m[\u001b[0m\u001b[0;34m:\u001b[0m\u001b[0;34m-\u001b[0m\u001b[0;36m1\u001b[0m\u001b[0;34m]\u001b[0m\u001b[0;34m,\u001b[0m\u001b[0ms2\u001b[0m\u001b[0;34m)\u001b[0m\u001b[0;34m,\u001b[0m\u001b[0;34m\u001b[0m\u001b[0;34m\u001b[0m\u001b[0m\n\u001b[0;32m---> 11\u001b[0;31m         editDistanceRec(s1[:-1],s2[:-1])) + 1\n\u001b[0m",
      "\u001b[0;32m<ipython-input-77-9eaa57a0f39b>\u001b[0m in \u001b[0;36meditDistanceRec\u001b[0;34m(s1, s2)\u001b[0m\n\u001b[1;32m      8\u001b[0m         return min(\n\u001b[1;32m      9\u001b[0m         \u001b[0meditDistanceRec\u001b[0m\u001b[0;34m(\u001b[0m\u001b[0ms1\u001b[0m\u001b[0;34m,\u001b[0m\u001b[0ms2\u001b[0m\u001b[0;34m[\u001b[0m\u001b[0;34m:\u001b[0m\u001b[0;34m-\u001b[0m\u001b[0;36m1\u001b[0m\u001b[0;34m]\u001b[0m\u001b[0;34m)\u001b[0m\u001b[0;34m,\u001b[0m\u001b[0;34m\u001b[0m\u001b[0;34m\u001b[0m\u001b[0m\n\u001b[0;32m---> 10\u001b[0;31m         \u001b[0meditDistanceRec\u001b[0m\u001b[0;34m(\u001b[0m\u001b[0ms1\u001b[0m\u001b[0;34m[\u001b[0m\u001b[0;34m:\u001b[0m\u001b[0;34m-\u001b[0m\u001b[0;36m1\u001b[0m\u001b[0;34m]\u001b[0m\u001b[0;34m,\u001b[0m\u001b[0ms2\u001b[0m\u001b[0;34m)\u001b[0m\u001b[0;34m,\u001b[0m\u001b[0;34m\u001b[0m\u001b[0;34m\u001b[0m\u001b[0m\n\u001b[0m\u001b[1;32m     11\u001b[0m         editDistanceRec(s1[:-1],s2[:-1])) + 1\n",
      "\u001b[0;32m<ipython-input-77-9eaa57a0f39b>\u001b[0m in \u001b[0;36meditDistanceRec\u001b[0;34m(s1, s2)\u001b[0m\n\u001b[1;32m      4\u001b[0m \u001b[0;34m\u001b[0m\u001b[0m\n\u001b[1;32m      5\u001b[0m     \u001b[0;32mif\u001b[0m \u001b[0ms1\u001b[0m\u001b[0;34m[\u001b[0m\u001b[0;34m-\u001b[0m\u001b[0;36m1\u001b[0m\u001b[0;34m]\u001b[0m \u001b[0;34m==\u001b[0m \u001b[0ms2\u001b[0m\u001b[0;34m[\u001b[0m\u001b[0;34m-\u001b[0m\u001b[0;36m1\u001b[0m\u001b[0;34m]\u001b[0m\u001b[0;34m:\u001b[0m\u001b[0;34m\u001b[0m\u001b[0;34m\u001b[0m\u001b[0m\n\u001b[0;32m----> 6\u001b[0;31m         \u001b[0;32mreturn\u001b[0m \u001b[0meditDistanceRec\u001b[0m\u001b[0;34m(\u001b[0m\u001b[0ms1\u001b[0m\u001b[0;34m[\u001b[0m\u001b[0;34m:\u001b[0m\u001b[0;34m-\u001b[0m\u001b[0;36m1\u001b[0m\u001b[0;34m]\u001b[0m\u001b[0;34m,\u001b[0m\u001b[0ms2\u001b[0m\u001b[0;34m[\u001b[0m\u001b[0;34m:\u001b[0m\u001b[0;34m-\u001b[0m\u001b[0;36m1\u001b[0m\u001b[0;34m]\u001b[0m\u001b[0;34m)\u001b[0m\u001b[0;34m\u001b[0m\u001b[0;34m\u001b[0m\u001b[0m\n\u001b[0m\u001b[1;32m      7\u001b[0m     \u001b[0;32melse\u001b[0m\u001b[0;34m:\u001b[0m\u001b[0;34m\u001b[0m\u001b[0;34m\u001b[0m\u001b[0m\n\u001b[1;32m      8\u001b[0m         return min(\n",
      "\u001b[0;32m<ipython-input-77-9eaa57a0f39b>\u001b[0m in \u001b[0;36meditDistanceRec\u001b[0;34m(s1, s2)\u001b[0m\n\u001b[1;32m      9\u001b[0m         \u001b[0meditDistanceRec\u001b[0m\u001b[0;34m(\u001b[0m\u001b[0ms1\u001b[0m\u001b[0;34m,\u001b[0m\u001b[0ms2\u001b[0m\u001b[0;34m[\u001b[0m\u001b[0;34m:\u001b[0m\u001b[0;34m-\u001b[0m\u001b[0;36m1\u001b[0m\u001b[0;34m]\u001b[0m\u001b[0;34m)\u001b[0m\u001b[0;34m,\u001b[0m\u001b[0;34m\u001b[0m\u001b[0;34m\u001b[0m\u001b[0m\n\u001b[1;32m     10\u001b[0m         \u001b[0meditDistanceRec\u001b[0m\u001b[0;34m(\u001b[0m\u001b[0ms1\u001b[0m\u001b[0;34m[\u001b[0m\u001b[0;34m:\u001b[0m\u001b[0;34m-\u001b[0m\u001b[0;36m1\u001b[0m\u001b[0;34m]\u001b[0m\u001b[0;34m,\u001b[0m\u001b[0ms2\u001b[0m\u001b[0;34m)\u001b[0m\u001b[0;34m,\u001b[0m\u001b[0;34m\u001b[0m\u001b[0;34m\u001b[0m\u001b[0m\n\u001b[0;32m---> 11\u001b[0;31m         editDistanceRec(s1[:-1],s2[:-1])) + 1\n\u001b[0m",
      "\u001b[0;31mKeyboardInterrupt\u001b[0m: "
     ]
    }
   ],
   "source": [
    "comTimeG(editDistance2,'hawyacbhabcjajkcwcabwjdaadj','dajkhcenccysgcehcaiuajdahjakhkaj',{})"
   ]
  },
  {
   "cell_type": "markdown",
   "id": "257e68d8",
   "metadata": {},
   "source": [
    "#### 动态规划优化"
   ]
  },
  {
   "cell_type": "code",
   "execution_count": 103,
   "id": "170d559b",
   "metadata": {},
   "outputs": [],
   "source": [
    "def editDistanceDP(s1,s2):\n",
    "    m = len(s1); n = len(s2)\n",
    "    dp = [[-1]*(n+1)]*(m+1)\n",
    "    \n",
    "    # 注意边界条件\n",
    "    for i in range(m):\n",
    "        dp[i][0] = i\n",
    "    for j in range(n):\n",
    "        dp[0][j] = j\n",
    "        \n",
    "    for i in range(1,m+1):\n",
    "        for j in range(1,n+1):\n",
    "            if s1[i-1] == s2[j-1]:\n",
    "                dp[i][j] = dp[i-1][j-1]\n",
    "            else:\n",
    "                dp[i][j] = min(\n",
    "                dp[i-1][j],\n",
    "                dp[i][j-1],\n",
    "                dp[i-1][j-1]) + 1\n",
    "    return dp[m][n]"
   ]
  },
  {
   "cell_type": "code",
   "execution_count": 104,
   "id": "5eab3748",
   "metadata": {},
   "outputs": [
    {
     "data": {
      "text/plain": [
       "3"
      ]
     },
     "execution_count": 104,
     "metadata": {},
     "output_type": "execute_result"
    }
   ],
   "source": [
    "editDistanceDP('horse','ros')"
   ]
  },
  {
   "cell_type": "code",
   "execution_count": 105,
   "id": "36b9fd23",
   "metadata": {},
   "outputs": [
    {
     "data": {
      "text/plain": [
       "0.0007071495056152344"
      ]
     },
     "execution_count": 105,
     "metadata": {},
     "output_type": "execute_result"
    }
   ],
   "source": [
    "comTimeG(editDistanceDP,'hawyacbhabcjajkcwcabwjdaadj','dajkhcenccysgcehcaiuajdahjakhkaj')"
   ]
  },
  {
   "cell_type": "markdown",
   "id": "56a48195",
   "metadata": {},
   "source": [
    "### 5. 高楼扔鸡蛋"
   ]
  },
  {
   "cell_type": "markdown",
   "id": "1332f482",
   "metadata": {},
   "source": [
    "N层楼，K个鸡蛋，假设存在一层楼F，将鸡蛋从这层丢下刚好没碎（高于F的楼层都会碎，低于F的楼层都不会碎）。  \n",
    "求在最坏情况下，最少需要扔几次鸡蛋，才能确定楼层F？"
   ]
  },
  {
   "cell_type": "code",
   "execution_count": 3,
   "id": "6a15459b",
   "metadata": {},
   "outputs": [],
   "source": [
    "def superEggDrop(K,N):\n",
    "    memo = {}\n",
    "    def dp(K,N):\n",
    "        if K == 1: return N\n",
    "        if N == 0: return 0\n",
    "        if (K,N) in memo.keys():\n",
    "            return memo[(K,N)]\n",
    "        res = N\n",
    "        for i in range(1,N+1):\n",
    "            res = min(res,\n",
    "                     max(\n",
    "                     dp(K,N-i),\n",
    "                     dp(K-1,i-1)) + 1)\n",
    "        memo[(K,N)] = res\n",
    "        return res\n",
    "    return dp(K,N)"
   ]
  },
  {
   "cell_type": "code",
   "execution_count": 4,
   "id": "fcb02362",
   "metadata": {},
   "outputs": [
    {
     "data": {
      "text/plain": [
       "10"
      ]
     },
     "execution_count": 4,
     "metadata": {},
     "output_type": "execute_result"
    }
   ],
   "source": [
    "superEggDrop(1,10)"
   ]
  },
  {
   "cell_type": "code",
   "execution_count": 5,
   "id": "cbc514a8",
   "metadata": {},
   "outputs": [
    {
     "data": {
      "text/plain": [
       "4"
      ]
     },
     "execution_count": 5,
     "metadata": {},
     "output_type": "execute_result"
    }
   ],
   "source": [
    "superEggDrop(3,10)"
   ]
  },
  {
   "cell_type": "markdown",
   "id": "defbc306",
   "metadata": {},
   "source": [
    "经分析（见原书），for循环部分，dp关于i是单调的，所以可以用二分查找优化。"
   ]
  },
  {
   "cell_type": "code",
   "execution_count": 6,
   "id": "a3f0a79a",
   "metadata": {},
   "outputs": [],
   "source": [
    "def superEggDropB(K,N):\n",
    "    memo = {}\n",
    "    def dp(K,N):\n",
    "        if K == 1: return N\n",
    "        if N == 0: return 0\n",
    "        if (K,N) in memo.keys():\n",
    "            return memo[(K,N)]\n",
    "        \n",
    "        res = N\n",
    "        # 用二分查找替代线性搜索\n",
    "        lo, hi = 1, N\n",
    "        while lo <= hi:\n",
    "            mid = (lo + hi) // 2\n",
    "            broken = dp(K - 1, mid - 1)\n",
    "            notBroken = dp(K, N - mid)\n",
    "            if broken > notBroken:\n",
    "                hi = mid - 1\n",
    "                res = min(res,broken + 1)\n",
    "            else:\n",
    "                lo = mid + 1\n",
    "                res = min(res,notBroken + 1)\n",
    "\n",
    "        memo[(K,N)] = res\n",
    "        return res\n",
    "    \n",
    "    return dp(K,N)"
   ]
  },
  {
   "cell_type": "code",
   "execution_count": 7,
   "id": "0b098cfa",
   "metadata": {},
   "outputs": [
    {
     "data": {
      "text/plain": [
       "10"
      ]
     },
     "execution_count": 7,
     "metadata": {},
     "output_type": "execute_result"
    }
   ],
   "source": [
    "superEggDropB(1,10)"
   ]
  },
  {
   "cell_type": "code",
   "execution_count": 8,
   "id": "5d819112",
   "metadata": {},
   "outputs": [
    {
     "data": {
      "text/plain": [
       "4"
      ]
     },
     "execution_count": 8,
     "metadata": {},
     "output_type": "execute_result"
    }
   ],
   "source": [
    "superEggDropB(2,10)"
   ]
  },
  {
   "cell_type": "code",
   "execution_count": null,
   "id": "acc1094a",
   "metadata": {},
   "outputs": [],
   "source": []
  }
 ],
 "metadata": {
  "kernelspec": {
   "display_name": "Python 3",
   "language": "python",
   "name": "python3"
  },
  "language_info": {
   "codemirror_mode": {
    "name": "ipython",
    "version": 3
   },
   "file_extension": ".py",
   "mimetype": "text/x-python",
   "name": "python",
   "nbconvert_exporter": "python",
   "pygments_lexer": "ipython3",
   "version": "3.9.2"
  }
 },
 "nbformat": 4,
 "nbformat_minor": 5
}
