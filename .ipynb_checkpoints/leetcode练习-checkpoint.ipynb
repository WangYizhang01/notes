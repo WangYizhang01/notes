{
 "cells": [
  {
   "cell_type": "markdown",
   "id": "fatal-challenge",
   "metadata": {},
   "source": [
    "## 贪心算法\n",
    "### lc80"
   ]
  },
  {
   "cell_type": "code",
   "execution_count": 1,
   "id": "boring-slovakia",
   "metadata": {},
   "outputs": [],
   "source": [
    "def removeDuplicates(nums):\n",
    "    if len(nums) <= 2:\n",
    "        return len(nums)\n",
    "    l = len(nums)\n",
    "    n = len(nums) - 1\n",
    "    while n > 0:\n",
    "        count = 1; m = n\n",
    "        while nums[m] == nums[m-1]:\n",
    "            count += 1\n",
    "            m -= 1\n",
    "        if count > 2:\n",
    "            nums[m+2:] = nums[n+1:l]\n",
    "            l = l - (n - m - 1)\n",
    "\n",
    "        n = m-1\n",
    "    return l"
   ]
  },
  {
   "cell_type": "code",
   "execution_count": 2,
   "id": "activated-handle",
   "metadata": {},
   "outputs": [
    {
     "data": {
      "text/plain": [
       "5"
      ]
     },
     "execution_count": 2,
     "metadata": {},
     "output_type": "execute_result"
    }
   ],
   "source": [
    "nums = [1,1,1,2,2,3]\n",
    "removeDuplicates(nums)"
   ]
  },
  {
   "cell_type": "markdown",
   "id": "dynamic-wayne",
   "metadata": {},
   "source": [
    "### lc435"
   ]
  },
  {
   "cell_type": "code",
   "execution_count": 3,
   "id": "republican-glasgow",
   "metadata": {},
   "outputs": [],
   "source": [
    "def eraseOverlapIntervals(intervals):\n",
    "    intervals = sorted(intervals); prev = intervals[0][1]; count = 0\n",
    "    for i in range(1,len(intervals)):\n",
    "        if intervals[i][0] < prev:\n",
    "            count += 1\n",
    "        else:\n",
    "            prev = intervals[i][1]\n",
    "    return count"
   ]
  },
  {
   "cell_type": "code",
   "execution_count": 4,
   "id": "corporate-shirt",
   "metadata": {},
   "outputs": [
    {
     "data": {
      "text/plain": [
       "1"
      ]
     },
     "execution_count": 4,
     "metadata": {},
     "output_type": "execute_result"
    }
   ],
   "source": [
    "l = [[1,2], [2,3], [3,4], [1,3]]\n",
    "eraseOverlapIntervals(l)"
   ]
  },
  {
   "cell_type": "markdown",
   "id": "substantial-canadian",
   "metadata": {},
   "source": [
    "### 最长连续子串"
   ]
  },
  {
   "cell_type": "code",
   "execution_count": 1,
   "id": "brutal-leave",
   "metadata": {},
   "outputs": [
    {
     "name": "stdout",
     "output_type": "stream",
     "text": [
      "7\n"
     ]
    }
   ],
   "source": [
    "# n,m = [int(i) for i in input().strip().split()]\n",
    "# s = [int(i) for i in input().strip().split()]\n",
    "n = 8;m = 3\n",
    "s = [2,5,6,3,4,4,4,4]\n",
    "length = []\n",
    "\n",
    "for i in range(n-1):\n",
    "    for j in range(i+1,n+1):\n",
    "        if (max(s[i:j])-min(s[i:j])) <= m:\n",
    "            length.append(j-i)\n",
    "            continue\n",
    "        else:\n",
    "            break    \n",
    "print(max(length))"
   ]
  },
  {
   "cell_type": "markdown",
   "id": "civil-mexican",
   "metadata": {},
   "source": [
    "### 青蛙跳河"
   ]
  },
  {
   "cell_type": "code",
   "execution_count": null,
   "id": "loose-egyptian",
   "metadata": {},
   "outputs": [],
   "source": [
    "import time\n",
    "start = time.time()\n",
    "def f(N):\n",
    "    if N <= 2:\n",
    "        return 1\n",
    "    if N == 3:\n",
    "        return 2\n",
    "    if N >= 4:\n",
    "        return f(N-1)+f(N-2)+f(N-3)\n",
    "    \n",
    "print(f(40))\n",
    "end = time.time()\n",
    "print(\"time is \",end-start)"
   ]
  },
  {
   "cell_type": "markdown",
   "id": "diagnostic-notification",
   "metadata": {},
   "source": [
    "### 约瑟夫问题"
   ]
  },
  {
   "cell_type": "code",
   "execution_count": 11,
   "id": "classified-miracle",
   "metadata": {},
   "outputs": [],
   "source": [
    "def Josephus(n):\n",
    "    l = list(range(1,n+1))\n",
    "    p = -1\n",
    "\n",
    "    while len(l) > 1:\n",
    "        if (p+2) >= len(l):\n",
    "            p -= len(l)\n",
    "\n",
    "        l.pop((p+2)%len(l))\n",
    "        p += 1\n",
    "\n",
    "    print(\"Survival is : \",l[0])"
   ]
  },
  {
   "cell_type": "code",
   "execution_count": 12,
   "id": "institutional-myanmar",
   "metadata": {},
   "outputs": [
    {
     "name": "stdout",
     "output_type": "stream",
     "text": [
      "Survival is :  5\n"
     ]
    }
   ],
   "source": [
    "Josephus(10)"
   ]
  },
  {
   "cell_type": "code",
   "execution_count": 13,
   "id": "abandoned-official",
   "metadata": {},
   "outputs": [
    {
     "name": "stdout",
     "output_type": "stream",
     "text": [
      "Survival is :  9\n"
     ]
    }
   ],
   "source": [
    "Josephus(20)"
   ]
  },
  {
   "cell_type": "code",
   "execution_count": 26,
   "id": "reported-caution",
   "metadata": {},
   "outputs": [
    {
     "name": "stdout",
     "output_type": "stream",
     "text": [
      "Survival is :  3617\n"
     ]
    }
   ],
   "source": [
    "Josephus(10000)"
   ]
  },
  {
   "cell_type": "markdown",
   "id": "adopted-resolution",
   "metadata": {},
   "source": [
    "### 递归方法 recurrent\n",
    "#### J(1) = 1\n",
    "#### J(2n) = 2J(n) - 1 , n > 1\n",
    "#### J(2n+1) = 2J(n) + 1 , n > 1"
   ]
  },
  {
   "cell_type": "code",
   "execution_count": 20,
   "id": "quick-image",
   "metadata": {},
   "outputs": [],
   "source": [
    "def Josephus_re(n):\n",
    "    if n == 1:\n",
    "        return 1\n",
    "    if n % 2 == 0:\n",
    "        return 2 * Josephus_re(n/2) - 1\n",
    "    elif n % 2 == 1:\n",
    "        return 2 * Josephus_re(n//2) + 1"
   ]
  },
  {
   "cell_type": "code",
   "execution_count": 21,
   "id": "legendary-attitude",
   "metadata": {},
   "outputs": [
    {
     "name": "stdout",
     "output_type": "stream",
     "text": [
      "Survival is :  5\n"
     ]
    }
   ],
   "source": [
    "print(\"Survival is : \",Josephus_re(10))"
   ]
  },
  {
   "cell_type": "code",
   "execution_count": 22,
   "id": "breathing-amateur",
   "metadata": {},
   "outputs": [
    {
     "name": "stdout",
     "output_type": "stream",
     "text": [
      "Survival is :  9\n"
     ]
    }
   ],
   "source": [
    "print(\"Survival is : \",Josephus_re(20))"
   ]
  },
  {
   "cell_type": "code",
   "execution_count": 25,
   "id": "enhanced-sustainability",
   "metadata": {},
   "outputs": [
    {
     "name": "stdout",
     "output_type": "stream",
     "text": [
      "Survival is :  3617\n"
     ]
    }
   ],
   "source": [
    "print(\"Survival is : \",Josephus_re(10000))"
   ]
  },
  {
   "cell_type": "code",
   "execution_count": null,
   "id": "44419101",
   "metadata": {},
   "outputs": [],
   "source": []
  }
 ],
 "metadata": {
  "kernelspec": {
   "display_name": "Python 3",
   "language": "python",
   "name": "python3"
  },
  "language_info": {
   "codemirror_mode": {
    "name": "ipython",
    "version": 3
   },
   "file_extension": ".py",
   "mimetype": "text/x-python",
   "name": "python",
   "nbconvert_exporter": "python",
   "pygments_lexer": "ipython3",
   "version": "3.9.2"
  }
 },
 "nbformat": 4,
 "nbformat_minor": 5
}
