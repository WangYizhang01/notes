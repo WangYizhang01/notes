{
 "cells": [
  {
   "cell_type": "markdown",
   "id": "documentary-click",
   "metadata": {},
   "source": [
    "# 《python数据结构与算法分析》笔记"
   ]
  },
  {
   "cell_type": "markdown",
   "id": "compound-wrestling",
   "metadata": {},
   "source": [
    "## 第3章 基本数据结构"
   ]
  },
  {
   "cell_type": "markdown",
   "id": "prime-hearts",
   "metadata": {},
   "source": [
    "### 冒泡排序"
   ]
  },
  {
   "cell_type": "code",
   "execution_count": 1,
   "id": "disabled-swimming",
   "metadata": {},
   "outputs": [],
   "source": [
    "def maopao(l):\n",
    "    n = len(l)\n",
    "    if n < 2:\n",
    "        return l\n",
    "    for i in range(n-1):\n",
    "        for j in range(n-1-i):\n",
    "            if l[j] > l[j+1]:\n",
    "                l[j],l[j+1] = l[j+1],l[j]\n",
    "    return l"
   ]
  },
  {
   "cell_type": "code",
   "execution_count": 4,
   "id": "biological-practice",
   "metadata": {},
   "outputs": [
    {
     "data": {
      "text/plain": [
       "[2, 3, 4, 4, 5, 5, 6, 7, 8, 9]"
      ]
     },
     "execution_count": 4,
     "metadata": {},
     "output_type": "execute_result"
    }
   ],
   "source": [
    "maopao([2,5,4,4,8,7,3,5,9,6])"
   ]
  },
  {
   "cell_type": "markdown",
   "id": "available-closer",
   "metadata": {},
   "source": [
    "### 线性数据结构\n",
    "#### 栈"
   ]
  },
  {
   "cell_type": "code",
   "execution_count": 32,
   "id": "agricultural-victory",
   "metadata": {},
   "outputs": [],
   "source": [
    "class Stack():\n",
    "    def __init__(self):\n",
    "        self.s = []\n",
    "        \n",
    "    def isempty(self):\n",
    "        return len(self.s)==0\n",
    "        \n",
    "    def pop(self):\n",
    "        if not self.isempty():\n",
    "            return self.s.pop()\n",
    "        else:\n",
    "            print(\"error1: stack is empty.\")\n",
    "    \n",
    "    def push(self,a):\n",
    "        self.s.append(a)\n",
    "        \n",
    "    def size(self):\n",
    "        return len(self.s)\n",
    "        \n",
    "    def peek(self):\n",
    "        if not self.isempty():\n",
    "            return self.s[-1]\n",
    "        else:\n",
    "            print(\"error2: stack is empty.\")"
   ]
  },
  {
   "cell_type": "code",
   "execution_count": 19,
   "id": "interpreted-penalty",
   "metadata": {},
   "outputs": [],
   "source": [
    "s = Stack()"
   ]
  },
  {
   "cell_type": "code",
   "execution_count": 20,
   "id": "global-conditions",
   "metadata": {},
   "outputs": [],
   "source": [
    "s.push(1); s.push(3); s.pop(); s.push(1); "
   ]
  },
  {
   "cell_type": "code",
   "execution_count": 24,
   "id": "filled-watch",
   "metadata": {},
   "outputs": [
    {
     "name": "stdout",
     "output_type": "stream",
     "text": [
      "error1: stack is empty.\n"
     ]
    }
   ],
   "source": [
    "s.pop()"
   ]
  },
  {
   "cell_type": "markdown",
   "id": "powerful-cylinder",
   "metadata": {},
   "source": [
    "#### 匹配括号"
   ]
  },
  {
   "cell_type": "code",
   "execution_count": 34,
   "id": "dental-grave",
   "metadata": {},
   "outputs": [
    {
     "data": {
      "text/plain": [
       "True"
      ]
     },
     "execution_count": 34,
     "metadata": {},
     "output_type": "execute_result"
    }
   ],
   "source": [
    "# (5+6)*(7+8)/(4+3)\n",
    "st = \"(5+6)*(7+8)/(4+3)\"\n",
    "\n",
    "def match(st):\n",
    "    s1 = Stack()\n",
    "\n",
    "    for s in st:\n",
    "        if s == \"(\":\n",
    "            s1.push(s)\n",
    "        elif s == \")\":\n",
    "            s1.pop()\n",
    "            \n",
    "    return s1.isempty()\n",
    "\n",
    "match(st)"
   ]
  },
  {
   "cell_type": "code",
   "execution_count": 36,
   "id": "fluid-aberdeen",
   "metadata": {},
   "outputs": [
    {
     "data": {
      "text/plain": [
       "True"
      ]
     },
     "execution_count": 36,
     "metadata": {},
     "output_type": "execute_result"
    }
   ],
   "source": [
    "string = \"{[1+(3*8)/6]*(3-5)}\"\n",
    "\n",
    "def match2(st):\n",
    "    s1 = Stack()\n",
    "\n",
    "    for s in st:\n",
    "        if s in [\"(\",\"[\",\"{\"]:\n",
    "            s1.push(s)\n",
    "        elif s == \")\":\n",
    "            if s1.pop() != \"(\":\n",
    "                return False\n",
    "        elif s == \"]\":\n",
    "            if s1.pop() != \"[\":\n",
    "                return False\n",
    "        elif s == \"}\":\n",
    "            if s1.pop() != \"{\":\n",
    "                return False\n",
    "            \n",
    "    return s1.isempty()\n",
    "\n",
    "match2(string)"
   ]
  },
  {
   "cell_type": "code",
   "execution_count": 41,
   "id": "aerial-jerusalem",
   "metadata": {},
   "outputs": [
    {
     "data": {
      "text/plain": [
       "'E9'"
      ]
     },
     "execution_count": 41,
     "metadata": {},
     "output_type": "execute_result"
    }
   ],
   "source": [
    "# 十进制转n进制\n",
    "def divide(num,n):\n",
    "    digits = \"0123456789ABCDEF\"\n",
    "    s = Stack()\n",
    "    while num > 0:\n",
    "        s.push(num % n)\n",
    "        num //= n\n",
    "    \n",
    "    res = \"\"\n",
    "    while not s.isempty():\n",
    "        res += digits[s.pop()]\n",
    "        \n",
    "    return res\n",
    "\n",
    "divide(233,16)"
   ]
  },
  {
   "cell_type": "code",
   "execution_count": 45,
   "id": "reserved-photographer",
   "metadata": {},
   "outputs": [
    {
     "data": {
      "text/plain": [
       "'AB+C*DE-FG+*-'"
      ]
     },
     "execution_count": 45,
     "metadata": {},
     "output_type": "execute_result"
    }
   ],
   "source": [
    "# 中序表达式（完全括号表达式）转后序表达式\n",
    "# (((A+B)*C)-((D-E)*(F+G)))\n",
    "def revert(string):\n",
    "    temp = Stack()\n",
    "    for s in string:\n",
    "        if s != \")\":\n",
    "            temp.push(s)\n",
    "        else:\n",
    "            num2 = temp.pop()\n",
    "            label = temp.pop()\n",
    "            num1 = temp.pop()\n",
    "            temp.pop()\n",
    "            t = num1+num2+label\n",
    "            temp.push(t)\n",
    "    return temp.pop()\n",
    "\n",
    "string = \"(((A+B)*C)-((D-E)*(F+G)))\"\n",
    "revert(string)"
   ]
  },
  {
   "cell_type": "code",
   "execution_count": 51,
   "id": "official-breakdown",
   "metadata": {},
   "outputs": [
    {
     "data": {
      "text/plain": [
       "-5"
      ]
     },
     "execution_count": 51,
     "metadata": {},
     "output_type": "execute_result"
    }
   ],
   "source": [
    "# 计算后序表达式\n",
    "# \"AB+C*DE-FG+*-\"\n",
    "def compute(string):\n",
    "    stack = Stack()\n",
    "    for s in string:\n",
    "        if s not in ['+','-','*','/']:\n",
    "            stack.push(s)\n",
    "        else:\n",
    "            num2 = int(stack.pop())\n",
    "            num1 = int(stack.pop())\n",
    "            if s == '+':\n",
    "                temp = num1 + num2\n",
    "            elif s == '-':\n",
    "                temp = num1 - num2\n",
    "            elif s == '*':\n",
    "                temp = num1 * num2\n",
    "            elif s == '/':\n",
    "                temp = num1 / num2\n",
    "            stack.push(temp)\n",
    "            \n",
    "    return stack.pop()\n",
    "\n",
    "string = '23+1*54-64+*-'\n",
    "compute(string)"
   ]
  },
  {
   "cell_type": "code",
   "execution_count": 52,
   "id": "exotic-minority",
   "metadata": {},
   "outputs": [
    {
     "data": {
      "text/plain": [
       "-5"
      ]
     },
     "execution_count": 52,
     "metadata": {},
     "output_type": "execute_result"
    }
   ],
   "source": [
    "(((2+3)*1)-((5-4)*(6+4)))"
   ]
  },
  {
   "cell_type": "markdown",
   "id": "blocked-performer",
   "metadata": {},
   "source": [
    "### 队列"
   ]
  },
  {
   "cell_type": "code",
   "execution_count": 1,
   "id": "regular-foundation",
   "metadata": {},
   "outputs": [],
   "source": [
    "class Queue():\n",
    "    def __init__(self):\n",
    "        self.q = []\n",
    "        \n",
    "    def isempty(self):\n",
    "        return self.q == []\n",
    "    \n",
    "    def enqueue(self,item):\n",
    "        self.q.insert(0,item)\n",
    "        \n",
    "    def dequeue(self):\n",
    "        return self.q.pop()\n",
    "    \n",
    "    def size(self):\n",
    "        return len(self.q)"
   ]
  },
  {
   "cell_type": "code",
   "execution_count": 2,
   "id": "minimal-appearance",
   "metadata": {},
   "outputs": [],
   "source": [
    "q = Queue()\n",
    "q.enqueue(3); q.enqueue(4); q.dequeue(); q.enqueue(5)"
   ]
  },
  {
   "cell_type": "code",
   "execution_count": 3,
   "id": "tough-superior",
   "metadata": {},
   "outputs": [
    {
     "data": {
      "text/plain": [
       "4"
      ]
     },
     "execution_count": 3,
     "metadata": {},
     "output_type": "execute_result"
    }
   ],
   "source": [
    "q.dequeue()"
   ]
  },
  {
   "cell_type": "code",
   "execution_count": 4,
   "id": "surrounded-caribbean",
   "metadata": {},
   "outputs": [
    {
     "data": {
      "text/plain": [
       "5"
      ]
     },
     "execution_count": 4,
     "metadata": {},
     "output_type": "execute_result"
    }
   ],
   "source": [
    "q.dequeue()"
   ]
  },
  {
   "cell_type": "markdown",
   "id": "sound-afghanistan",
   "metadata": {},
   "source": [
    "#### 约瑟夫问题/传土豆"
   ]
  },
  {
   "cell_type": "code",
   "execution_count": 9,
   "id": "unavailable-ceremony",
   "metadata": {},
   "outputs": [],
   "source": [
    "def yousefu(n,m):\n",
    "    l = list(range(n))\n",
    "    while len(l) > 1:\n",
    "        for i in range(m):\n",
    "            l.append(l.pop(0))\n",
    "        l.pop(0)\n",
    "    return l[0]"
   ]
  },
  {
   "cell_type": "code",
   "execution_count": 10,
   "id": "working-circle",
   "metadata": {},
   "outputs": [
    {
     "data": {
      "text/plain": [
       "2"
      ]
     },
     "execution_count": 10,
     "metadata": {},
     "output_type": "execute_result"
    }
   ],
   "source": [
    "yousefu(6,7)"
   ]
  },
  {
   "cell_type": "markdown",
   "id": "dominant-context",
   "metadata": {},
   "source": [
    "### 双端队列"
   ]
  },
  {
   "cell_type": "code",
   "execution_count": 4,
   "id": "stopped-hunter",
   "metadata": {},
   "outputs": [],
   "source": [
    "class Deque():\n",
    "    def __init__(self):\n",
    "        self.d = []\n",
    "        \n",
    "    def isempty(self):\n",
    "        return self.d == []\n",
    "    \n",
    "    def addRear(self,item):\n",
    "        self.d.append(item)\n",
    "        \n",
    "    def addFront(self,item):\n",
    "        self.d.insert(0,item)\n",
    "        \n",
    "    def removeRear(self):\n",
    "        return self.d.pop()\n",
    "    \n",
    "    def removeFront(self):\n",
    "        return self.d.pop(0)\n",
    "    \n",
    "    def size(self):\n",
    "        return len(self.d)"
   ]
  },
  {
   "cell_type": "markdown",
   "id": "persistent-antibody",
   "metadata": {},
   "source": [
    "#### 回文检测器"
   ]
  },
  {
   "cell_type": "code",
   "execution_count": 7,
   "id": "social-development",
   "metadata": {},
   "outputs": [],
   "source": [
    "# 接受一个字符串并判断其是否为回文串\n",
    "def isRe(string):\n",
    "    d = Deque()\n",
    "    for s in string:\n",
    "        d.addRear(s)\n",
    "        \n",
    "    while d.size() > 1:\n",
    "        if d.removeRear() != d.removeFront():\n",
    "            return False\n",
    "    \n",
    "    return True"
   ]
  },
  {
   "cell_type": "code",
   "execution_count": 10,
   "id": "informed-replacement",
   "metadata": {},
   "outputs": [
    {
     "data": {
      "text/plain": [
       "(True, True, False)"
      ]
     },
     "execution_count": 10,
     "metadata": {},
     "output_type": "execute_result"
    }
   ],
   "source": [
    "isRe('abcdcba'), isRe('abcddcba'), isRe('abddcba')"
   ]
  },
  {
   "cell_type": "markdown",
   "id": "scenic-williams",
   "metadata": {},
   "source": [
    "### 列表"
   ]
  },
  {
   "cell_type": "markdown",
   "id": "grateful-cradle",
   "metadata": {},
   "source": [
    "#### 链表实现有序列表"
   ]
  },
  {
   "cell_type": "code",
   "execution_count": 11,
   "id": "prompt-rough",
   "metadata": {},
   "outputs": [],
   "source": [
    "# 链表 Node节点\n",
    "class Node():\n",
    "    def __init__(self,value):\n",
    "        self.value = value\n",
    "        self.next = None\n",
    "        \n",
    "    def getValue(self):\n",
    "        return self.value\n",
    "    \n",
    "    def getNext(self):\n",
    "        return self.next\n",
    "    \n",
    "    def setValue(self,newValue):\n",
    "        self.value = newValue\n",
    "    \n",
    "    def setValue(self,newNext):\n",
    "        self.next = newNext"
   ]
  },
  {
   "cell_type": "code",
   "execution_count": 44,
   "id": "egyptian-option",
   "metadata": {},
   "outputs": [],
   "source": [
    "# 有序列表\n",
    "class orderedList():\n",
    "    def __init__(self):\n",
    "        self.head = Node(-1)\n",
    "        \n",
    "    def add(self,item):\n",
    "        node = Node(item)\n",
    "#         state = False\n",
    "        \n",
    "        if self.head.next == None:\n",
    "            self.head.next = node\n",
    "#             state = True\n",
    "            return\n",
    "            \n",
    "        pre = self.head; cur = self.head.next\n",
    "        while cur != None:\n",
    "            if cur.value >= item:\n",
    "                pre.next = node\n",
    "                node.next = cur\n",
    "#                 state = True\n",
    "                break\n",
    "            else:\n",
    "                pre = pre.next\n",
    "                cur = cur.next\n",
    "        # 只有当while循环正常结束的情况下，才执行else块中的语句.\n",
    "        # 当while 块遇到break强制跳出的时候，else 块中的语句不被执行\n",
    "        else:\n",
    "#       if state == False:       \n",
    "            pre.next = node\n",
    "                \n",
    "    def remove(self,item):\n",
    "        # 假设 item 已存在\n",
    "        if self.head.next == None:\n",
    "            return False\n",
    "            \n",
    "        pre = self.head; cur = self.head.next\n",
    "        while cur != None:\n",
    "            if cur.value > item:\n",
    "                return False\n",
    "            elif cur.value < item:\n",
    "                pre = pre.next\n",
    "                cur = cur.next\n",
    "            else:\n",
    "                pre.next = cur.next\n",
    "                break\n",
    "                \n",
    "    def search(self,item):\n",
    "        if self.head.next == None:\n",
    "            return False\n",
    "            \n",
    "        cur = self.head.next\n",
    "        while cur != None:\n",
    "            if cur.value == item:\n",
    "                return True\n",
    "            else:\n",
    "                cur = cur.next\n",
    "        return False\n",
    "    \n",
    "    def isEmpty(self):\n",
    "        return self.head.next == None\n",
    "    \n",
    "    def length(self):\n",
    "        if self.head.next == None:\n",
    "            return 0\n",
    "            \n",
    "        cur = self.head.next; count = 0\n",
    "        while cur != None:\n",
    "            count += 1\n",
    "            cur = cur.next\n",
    "            \n",
    "        return count\n",
    "    \n",
    "    def index(self,item):\n",
    "        # 假设 item 已存在\n",
    "        if self.head.next == None:\n",
    "            return False\n",
    "            \n",
    "        cur = self.head.next; index = 0\n",
    "        while cur != None:\n",
    "            if cur.value == item:\n",
    "                return index\n",
    "            else:\n",
    "                index += 1\n",
    "                cur = cur.next\n",
    "            \n",
    "        return False\n",
    "    \n",
    "    def pop(self):\n",
    "        if self.head.next == None:\n",
    "            return False\n",
    "            \n",
    "        pre = self.head; cur = self.head.next\n",
    "        while cur.next != None:\n",
    "            pre = pre.next\n",
    "            cur = cur.next\n",
    "        \n",
    "        pre.next = None\n",
    "        return cur.value\n",
    "    \n",
    "    def printL(self):\n",
    "        if self.head.next == None:\n",
    "            print(\"NULL\")\n",
    "            \n",
    "        cur = self.head.next\n",
    "        while cur != None:\n",
    "            print(cur.value,end=' ')\n",
    "            cur = cur.next"
   ]
  },
  {
   "cell_type": "code",
   "execution_count": 45,
   "id": "handy-chain",
   "metadata": {},
   "outputs": [
    {
     "name": "stdout",
     "output_type": "stream",
     "text": [
      "9 15 17 23 35 "
     ]
    }
   ],
   "source": [
    "ol = orderedList(); ol.add(15); ol.add(23); ol.add(17); ol.add(9); ol.add(35); \n",
    "ol.printL()"
   ]
  },
  {
   "cell_type": "code",
   "execution_count": 46,
   "id": "industrial-headquarters",
   "metadata": {},
   "outputs": [
    {
     "data": {
      "text/plain": [
       "(True, True, False)"
      ]
     },
     "execution_count": 46,
     "metadata": {},
     "output_type": "execute_result"
    }
   ],
   "source": [
    "ol.search(17), ol.search(9), ol.search(19) "
   ]
  },
  {
   "cell_type": "code",
   "execution_count": 47,
   "id": "stunning-cause",
   "metadata": {},
   "outputs": [
    {
     "name": "stdout",
     "output_type": "stream",
     "text": [
      "9 15 23 35 "
     ]
    }
   ],
   "source": [
    "ol.remove(17)\n",
    "ol.printL()"
   ]
  },
  {
   "cell_type": "code",
   "execution_count": 48,
   "id": "intensive-manhattan",
   "metadata": {},
   "outputs": [
    {
     "data": {
      "text/plain": [
       "2"
      ]
     },
     "execution_count": 48,
     "metadata": {},
     "output_type": "execute_result"
    }
   ],
   "source": [
    "ol.index(23)"
   ]
  },
  {
   "cell_type": "code",
   "execution_count": 49,
   "id": "bacterial-twins",
   "metadata": {},
   "outputs": [
    {
     "data": {
      "text/plain": [
       "35"
      ]
     },
     "execution_count": 49,
     "metadata": {},
     "output_type": "execute_result"
    }
   ],
   "source": [
    "ol.pop()"
   ]
  },
  {
   "cell_type": "markdown",
   "id": "serious-engine",
   "metadata": {},
   "source": [
    "## 第4章 递归"
   ]
  },
  {
   "cell_type": "markdown",
   "id": "figured-astrology",
   "metadata": {},
   "source": [
    "#### 十进制转换为任一进制（2～16）"
   ]
  },
  {
   "cell_type": "code",
   "execution_count": 50,
   "id": "impossible-volleyball",
   "metadata": {},
   "outputs": [
    {
     "data": {
      "text/plain": [
       "'100'"
      ]
     },
     "execution_count": 50,
     "metadata": {},
     "output_type": "execute_result"
    }
   ],
   "source": [
    "def convert(n,m):\n",
    "    s = '0123456789ABCDEF'\n",
    "    if n < m:\n",
    "        return s[n]\n",
    "    else:\n",
    "        return convert(n//m,m) + s[n%m]\n",
    "    \n",
    "convert(100,10)"
   ]
  },
  {
   "cell_type": "code",
   "execution_count": 52,
   "id": "smart-external",
   "metadata": {},
   "outputs": [
    {
     "data": {
      "text/plain": [
       "('E9', '1010')"
      ]
     },
     "execution_count": 52,
     "metadata": {},
     "output_type": "execute_result"
    }
   ],
   "source": [
    "convert(233,16), convert(10,2)"
   ]
  },
  {
   "cell_type": "markdown",
   "id": "twelve-eugene",
   "metadata": {},
   "source": [
    "#### 汉诺塔问题"
   ]
  },
  {
   "cell_type": "code",
   "execution_count": 58,
   "id": "otherwise-friday",
   "metadata": {},
   "outputs": [],
   "source": [
    "def hanoi(n,A,B,C):\n",
    "    if n == 1:\n",
    "        print('move from ',A,' to ',C)\n",
    "    else:\n",
    "        hanoi(n-1,A,C,B)\n",
    "        print('move from ',A,' to ',C)\n",
    "        hanoi(n-1,B,A,C)"
   ]
  },
  {
   "cell_type": "code",
   "execution_count": 59,
   "id": "ecological-means",
   "metadata": {},
   "outputs": [
    {
     "name": "stdout",
     "output_type": "stream",
     "text": [
      "move from  A  to  C\n",
      "move from  A  to  B\n",
      "move from  C  to  B\n",
      "move from  A  to  C\n",
      "move from  B  to  A\n",
      "move from  B  to  C\n",
      "move from  A  to  C\n"
     ]
    }
   ],
   "source": [
    "hanoi(3,'A','B','C')"
   ]
  },
  {
   "cell_type": "code",
   "execution_count": 60,
   "id": "noble-herald",
   "metadata": {},
   "outputs": [
    {
     "name": "stdout",
     "output_type": "stream",
     "text": [
      "move from  A  to  C\n",
      "move from  A  to  B\n",
      "move from  C  to  B\n",
      "move from  A  to  C\n",
      "move from  B  to  A\n",
      "move from  B  to  C\n",
      "move from  A  to  C\n",
      "move from  A  to  B\n",
      "move from  C  to  B\n",
      "move from  C  to  A\n",
      "move from  B  to  A\n",
      "move from  C  to  B\n",
      "move from  A  to  C\n",
      "move from  A  to  B\n",
      "move from  C  to  B\n",
      "move from  A  to  C\n",
      "move from  B  to  A\n",
      "move from  B  to  C\n",
      "move from  A  to  C\n",
      "move from  B  to  A\n",
      "move from  C  to  B\n",
      "move from  C  to  A\n",
      "move from  B  to  A\n",
      "move from  B  to  C\n",
      "move from  A  to  C\n",
      "move from  A  to  B\n",
      "move from  C  to  B\n",
      "move from  A  to  C\n",
      "move from  B  to  A\n",
      "move from  B  to  C\n",
      "move from  A  to  C\n"
     ]
    }
   ],
   "source": [
    "hanoi(5,'A','B','C')"
   ]
  },
  {
   "cell_type": "markdown",
   "id": "persistent-forty",
   "metadata": {},
   "source": [
    "### 动态规划"
   ]
  },
  {
   "cell_type": "markdown",
   "id": "statewide-heritage",
   "metadata": {},
   "source": [
    "#### 找零钱"
   ]
  },
  {
   "cell_type": "code",
   "execution_count": 67,
   "id": "distant-england",
   "metadata": {},
   "outputs": [],
   "source": [
    "# 一共有 1，5，10，25 四种面值的硬币\n",
    "# 给定需找零钱 n，求至少需要多少枚硬币\n",
    "# 贪婪算法有时会出现问题，如在找零 63，存在硬币面值 1，5，10，21，25 时。\n",
    "def charge(n):\n",
    "    minN = n\n",
    "    if n == 1 or n == 5 or \\\n",
    "    n == 10 or n == 25:\n",
    "        return 1\n",
    "    else:\n",
    "        for i in [c for c in [1,5,10,25] if c <= n]:\n",
    "            temp = 1 + charge(n-i)\n",
    "            if temp < minN:\n",
    "                minN = temp\n",
    "        return minN\n",
    "#         return min(1 + charge(n - 1), 1 + charge(n - 5), \\\n",
    "#                    1 + charge(n - 10), 1 + charge(n - 25))"
   ]
  },
  {
   "cell_type": "code",
   "execution_count": 68,
   "id": "extraordinary-gravity",
   "metadata": {},
   "outputs": [
    {
     "data": {
      "text/plain": [
       "4"
      ]
     },
     "execution_count": 68,
     "metadata": {},
     "output_type": "execute_result"
    }
   ],
   "source": [
    "charge(37)"
   ]
  },
  {
   "cell_type": "code",
   "execution_count": 4,
   "id": "ambient-girlfriend",
   "metadata": {},
   "outputs": [],
   "source": [
    "def charge2(coinValueList,n):\n",
    "    minN = n\n",
    "    if n in coinValueList:\n",
    "        return 1\n",
    "    else:\n",
    "        for i in [c for c in coinValueList if c <= n]:\n",
    "            temp = 1 + charge2(coinValueList,n-i)\n",
    "            if temp < minN:\n",
    "                minN = temp\n",
    "        return minN"
   ]
  },
  {
   "cell_type": "code",
   "execution_count": 5,
   "id": "abandoned-occupation",
   "metadata": {},
   "outputs": [
    {
     "data": {
      "text/plain": [
       "4"
      ]
     },
     "execution_count": 5,
     "metadata": {},
     "output_type": "execute_result"
    }
   ],
   "source": [
    "charge2([1,5,10,25],37)"
   ]
  },
  {
   "cell_type": "code",
   "execution_count": 9,
   "id": "upper-wednesday",
   "metadata": {},
   "outputs": [],
   "source": [
    "# 上述递归中存在大量重复运算，\n",
    "# 解决方法是用字典存储已经计算的值\n",
    "def charge3(coinValueList,n,resDict):\n",
    "    minN = n\n",
    "    if n in coinValueList:\n",
    "        resDict[n] = 1\n",
    "        return 1\n",
    "    elif n in resDict.keys():\n",
    "        return resDict[n]\n",
    "    else:\n",
    "        for i in [c for c in coinValueList if c <= n]:\n",
    "            temp = 1 + charge3(coinValueList,n-i,resDict)\n",
    "            if temp < minN:\n",
    "                minN = temp\n",
    "        return minN"
   ]
  },
  {
   "cell_type": "code",
   "execution_count": 10,
   "id": "numeric-salvation",
   "metadata": {},
   "outputs": [
    {
     "data": {
      "text/plain": [
       "4"
      ]
     },
     "execution_count": 10,
     "metadata": {},
     "output_type": "execute_result"
    }
   ],
   "source": [
    "charge3([1,5,10,25],37,{})"
   ]
  },
  {
   "cell_type": "code",
   "execution_count": 1,
   "id": "superior-brazil",
   "metadata": {},
   "outputs": [],
   "source": [
    "# 动态规划解决找零钱问题\n",
    "def dpCharge(coinValueList,n,minCoinsList):\n",
    "    for i in range(n+1):\n",
    "        coinsCount = i\n",
    "        for j in [c for c in coinValueList if c <= n]:\n",
    "            if 1 + minCoinsList[n-j] < coinsCount:\n",
    "                coinsCount = 1 + minCoinsList[n-j]\n",
    "        minCoinsList[i] = coinsCount\n",
    "        print('i',i,'  ',minCoinsList[i])\n",
    "    return minCoinsList[n]"
   ]
  },
  {
   "cell_type": "code",
   "execution_count": 2,
   "id": "entertaining-solution",
   "metadata": {},
   "outputs": [
    {
     "ename": "IndexError",
     "evalue": "list index out of range",
     "output_type": "error",
     "traceback": [
      "\u001b[0;31m---------------------------------------------------------------------------\u001b[0m",
      "\u001b[0;31mIndexError\u001b[0m                                Traceback (most recent call last)",
      "\u001b[0;32m<ipython-input-2-c14d5a8983e0>\u001b[0m in \u001b[0;36m<module>\u001b[0;34m\u001b[0m\n\u001b[0;32m----> 1\u001b[0;31m \u001b[0mdpCharge\u001b[0m\u001b[0;34m(\u001b[0m\u001b[0;34m[\u001b[0m\u001b[0;36m1\u001b[0m\u001b[0;34m,\u001b[0m\u001b[0;36m5\u001b[0m\u001b[0;34m,\u001b[0m\u001b[0;36m10\u001b[0m\u001b[0;34m,\u001b[0m\u001b[0;36m25\u001b[0m\u001b[0;34m]\u001b[0m\u001b[0;34m,\u001b[0m\u001b[0;36m37\u001b[0m\u001b[0;34m,\u001b[0m\u001b[0;34m[\u001b[0m\u001b[0;36m0\u001b[0m\u001b[0;34m,\u001b[0m\u001b[0;36m1\u001b[0m\u001b[0;34m,\u001b[0m\u001b[0;36m2\u001b[0m\u001b[0;34m,\u001b[0m\u001b[0;36m3\u001b[0m\u001b[0;34m,\u001b[0m\u001b[0;36m4\u001b[0m\u001b[0;34m,\u001b[0m\u001b[0;36m1\u001b[0m\u001b[0;34m]\u001b[0m\u001b[0;34m)\u001b[0m\u001b[0;34m\u001b[0m\u001b[0;34m\u001b[0m\u001b[0m\n\u001b[0m",
      "\u001b[0;32m<ipython-input-1-46e988dab85a>\u001b[0m in \u001b[0;36mdpCharge\u001b[0;34m(coinValueList, n, minCoinsList)\u001b[0m\n\u001b[1;32m      4\u001b[0m         \u001b[0mcoinsCount\u001b[0m \u001b[0;34m=\u001b[0m \u001b[0mi\u001b[0m\u001b[0;34m\u001b[0m\u001b[0;34m\u001b[0m\u001b[0m\n\u001b[1;32m      5\u001b[0m         \u001b[0;32mfor\u001b[0m \u001b[0mj\u001b[0m \u001b[0;32min\u001b[0m \u001b[0;34m[\u001b[0m\u001b[0mc\u001b[0m \u001b[0;32mfor\u001b[0m \u001b[0mc\u001b[0m \u001b[0;32min\u001b[0m \u001b[0mcoinValueList\u001b[0m \u001b[0;32mif\u001b[0m \u001b[0mc\u001b[0m \u001b[0;34m<=\u001b[0m \u001b[0mn\u001b[0m\u001b[0;34m]\u001b[0m\u001b[0;34m:\u001b[0m\u001b[0;34m\u001b[0m\u001b[0;34m\u001b[0m\u001b[0m\n\u001b[0;32m----> 6\u001b[0;31m             \u001b[0;32mif\u001b[0m \u001b[0;36m1\u001b[0m \u001b[0;34m+\u001b[0m \u001b[0mminCoinsList\u001b[0m\u001b[0;34m[\u001b[0m\u001b[0mn\u001b[0m\u001b[0;34m-\u001b[0m\u001b[0mj\u001b[0m\u001b[0;34m]\u001b[0m \u001b[0;34m<\u001b[0m \u001b[0mcoinsCount\u001b[0m\u001b[0;34m:\u001b[0m\u001b[0;34m\u001b[0m\u001b[0;34m\u001b[0m\u001b[0m\n\u001b[0m\u001b[1;32m      7\u001b[0m                 \u001b[0mcoinsCount\u001b[0m \u001b[0;34m=\u001b[0m \u001b[0;36m1\u001b[0m \u001b[0;34m+\u001b[0m \u001b[0mminCoinsList\u001b[0m\u001b[0;34m[\u001b[0m\u001b[0mn\u001b[0m\u001b[0;34m-\u001b[0m\u001b[0mj\u001b[0m\u001b[0;34m]\u001b[0m\u001b[0;34m\u001b[0m\u001b[0;34m\u001b[0m\u001b[0m\n\u001b[1;32m      8\u001b[0m         \u001b[0mminCoinsList\u001b[0m\u001b[0;34m[\u001b[0m\u001b[0mi\u001b[0m\u001b[0;34m]\u001b[0m \u001b[0;34m=\u001b[0m \u001b[0mcoinsCount\u001b[0m\u001b[0;34m\u001b[0m\u001b[0;34m\u001b[0m\u001b[0m\n",
      "\u001b[0;31mIndexError\u001b[0m: list index out of range"
     ]
    }
   ],
   "source": [
    "dpCharge([1,5,10,25],37,[0,1,2,3,4,1])"
   ]
  },
  {
   "cell_type": "code",
   "execution_count": 9,
   "id": "beginning-jonathan",
   "metadata": {},
   "outputs": [],
   "source": [
    "# 书中版本\n",
    "def dpMakeChange(coinValueList, change, minCoins):\n",
    "    for cents in range(change+1):\n",
    "        coinCount = cents\n",
    "        for j in [c for c in coinValueList if c <= cents]:\n",
    "            if minCoins[cents-j] + 1 < coinCount:\n",
    "                coinCount = minCoins[cents -j]+1\n",
    "        minCoins[cents] = coinCount\n",
    "    return minCoins[change]"
   ]
  },
  {
   "cell_type": "code",
   "execution_count": 10,
   "id": "modified-horizon",
   "metadata": {},
   "outputs": [
    {
     "ename": "IndexError",
     "evalue": "list assignment index out of range",
     "output_type": "error",
     "traceback": [
      "\u001b[0;31m---------------------------------------------------------------------------\u001b[0m",
      "\u001b[0;31mIndexError\u001b[0m                                Traceback (most recent call last)",
      "\u001b[0;32m<ipython-input-10-b75b03a59ebc>\u001b[0m in \u001b[0;36m<module>\u001b[0;34m\u001b[0m\n\u001b[0;32m----> 1\u001b[0;31m \u001b[0mdpMakeChange\u001b[0m\u001b[0;34m(\u001b[0m\u001b[0;34m[\u001b[0m\u001b[0;36m1\u001b[0m\u001b[0;34m,\u001b[0m\u001b[0;36m5\u001b[0m\u001b[0;34m,\u001b[0m\u001b[0;36m10\u001b[0m\u001b[0;34m,\u001b[0m\u001b[0;36m25\u001b[0m\u001b[0;34m]\u001b[0m\u001b[0;34m,\u001b[0m\u001b[0;36m37\u001b[0m\u001b[0;34m,\u001b[0m\u001b[0;34m[\u001b[0m\u001b[0;34m]\u001b[0m\u001b[0;34m)\u001b[0m\u001b[0;34m\u001b[0m\u001b[0;34m\u001b[0m\u001b[0m\n\u001b[0m",
      "\u001b[0;32m<ipython-input-9-aad70d6e3f75>\u001b[0m in \u001b[0;36mdpMakeChange\u001b[0;34m(coinValueList, change, minCoins)\u001b[0m\n\u001b[1;32m      5\u001b[0m             \u001b[0;32mif\u001b[0m \u001b[0mminCoins\u001b[0m\u001b[0;34m[\u001b[0m\u001b[0mcents\u001b[0m\u001b[0;34m-\u001b[0m\u001b[0mj\u001b[0m\u001b[0;34m]\u001b[0m \u001b[0;34m+\u001b[0m \u001b[0;36m1\u001b[0m \u001b[0;34m<\u001b[0m \u001b[0mcoinCount\u001b[0m\u001b[0;34m:\u001b[0m\u001b[0;34m\u001b[0m\u001b[0;34m\u001b[0m\u001b[0m\n\u001b[1;32m      6\u001b[0m                 \u001b[0mcoinCount\u001b[0m \u001b[0;34m=\u001b[0m \u001b[0mminCoins\u001b[0m\u001b[0;34m[\u001b[0m\u001b[0mcents\u001b[0m \u001b[0;34m-\u001b[0m\u001b[0mj\u001b[0m\u001b[0;34m]\u001b[0m\u001b[0;34m+\u001b[0m\u001b[0;36m1\u001b[0m\u001b[0;34m\u001b[0m\u001b[0;34m\u001b[0m\u001b[0m\n\u001b[0;32m----> 7\u001b[0;31m         \u001b[0mminCoins\u001b[0m\u001b[0;34m[\u001b[0m\u001b[0mcents\u001b[0m\u001b[0;34m]\u001b[0m \u001b[0;34m=\u001b[0m \u001b[0mcoinCount\u001b[0m\u001b[0;34m\u001b[0m\u001b[0;34m\u001b[0m\u001b[0m\n\u001b[0m\u001b[1;32m      8\u001b[0m     \u001b[0;32mreturn\u001b[0m \u001b[0mminCoins\u001b[0m\u001b[0;34m[\u001b[0m\u001b[0mchange\u001b[0m\u001b[0;34m]\u001b[0m\u001b[0;34m\u001b[0m\u001b[0;34m\u001b[0m\u001b[0m\n",
      "\u001b[0;31mIndexError\u001b[0m: list assignment index out of range"
     ]
    }
   ],
   "source": [
    "dpMakeChange([1,5,10,25],37,[])"
   ]
  },
  {
   "cell_type": "code",
   "execution_count": 5,
   "id": "protective-conspiracy",
   "metadata": {},
   "outputs": [],
   "source": [
    "# 修改后的dp算法，存储所找零钱的信息\n",
    "def dpMakeChange2(coinValueList, change, minCoins, coinsUsed):\n",
    "    for cents in range(change+1):\n",
    "        coinCount = cents\n",
    "        newCoin = 1\n",
    "        for j in [c for c in coinValueList if c <= cents]:\n",
    "            if minCoins[cents-j] + 1 < coinCount:\n",
    "                coinCount = minCoins[cents -j]+1\n",
    "                newCoin = j\n",
    "        minCoins[cents] = coinCount\n",
    "        coinsUsed[cents] = newCoin\n",
    "    return minCoins[change]\n",
    "\n",
    "def printCoins(coinsUsed, change):\n",
    "    coin = change\n",
    "    while coin > 0:\n",
    "        thisCoin = coinsUsed[coin]\n",
    "        print(thisCoin)\n",
    "        coin = coin - thisCoin"
   ]
  },
  {
   "cell_type": "code",
   "execution_count": 6,
   "id": "hawaiian-equation",
   "metadata": {},
   "outputs": [
    {
     "data": {
      "text/plain": [
       "3"
      ]
     },
     "execution_count": 6,
     "metadata": {},
     "output_type": "execute_result"
    }
   ],
   "source": [
    "cl = [1, 5, 10, 21, 25]\n",
    "coinsUsed = [0]*64\n",
    "coinCount = [0]*64\n",
    "dpMakeChange2(cl, 63, coinCount, coinsUsed) "
   ]
  },
  {
   "cell_type": "code",
   "execution_count": 7,
   "id": "rising-stewart",
   "metadata": {},
   "outputs": [
    {
     "name": "stdout",
     "output_type": "stream",
     "text": [
      "21\n",
      "21\n",
      "21\n"
     ]
    }
   ],
   "source": [
    "printCoins(coinsUsed, 63)"
   ]
  },
  {
   "cell_type": "code",
   "execution_count": 8,
   "id": "silver-guyana",
   "metadata": {},
   "outputs": [
    {
     "name": "stdout",
     "output_type": "stream",
     "text": [
      "10\n",
      "21\n",
      "21\n"
     ]
    }
   ],
   "source": [
    "printCoins(coinsUsed, 52)"
   ]
  },
  {
   "cell_type": "markdown",
   "id": "reliable-lightweight",
   "metadata": {},
   "source": [
    "### 课后题"
   ]
  },
  {
   "cell_type": "markdown",
   "id": "balanced-rings",
   "metadata": {},
   "source": [
    "#### 阶乘计算"
   ]
  },
  {
   "cell_type": "code",
   "execution_count": 13,
   "id": "wanted-school",
   "metadata": {},
   "outputs": [],
   "source": [
    "def jiecheng(n):\n",
    "    if n == 0 or n == 1:\n",
    "        return 1\n",
    "    else:\n",
    "        return n * jiecheng(n-1)"
   ]
  },
  {
   "cell_type": "code",
   "execution_count": 14,
   "id": "baking-comedy",
   "metadata": {},
   "outputs": [
    {
     "data": {
      "text/plain": [
       "720"
      ]
     },
     "execution_count": 14,
     "metadata": {},
     "output_type": "execute_result"
    }
   ],
   "source": [
    "jiecheng(6)"
   ]
  },
  {
   "cell_type": "markdown",
   "id": "signed-committee",
   "metadata": {},
   "source": [
    "#### 反转列表"
   ]
  },
  {
   "cell_type": "code",
   "execution_count": 17,
   "id": "fantastic-mayor",
   "metadata": {},
   "outputs": [],
   "source": [
    "# 循环\n",
    "def reverse(l):\n",
    "    n = len(l)\n",
    "    if n < 2:\n",
    "        return l\n",
    "    for i in range(n//2):\n",
    "        l[i],l[n-i-1] = l[n-i-1],l[i]\n",
    "    return l"
   ]
  },
  {
   "cell_type": "code",
   "execution_count": 19,
   "id": "boxed-upper",
   "metadata": {},
   "outputs": [
    {
     "data": {
      "text/plain": [
       "([0, 9, 8, 7, 6, 5, 4, 3, 2, 1], [9, 8, 7, 6, 5, 4, 3, 2, 1])"
      ]
     },
     "execution_count": 19,
     "metadata": {},
     "output_type": "execute_result"
    }
   ],
   "source": [
    "reverse([1,2,3,4,5,6,7,8,9,0]),reverse([1,2,3,4,5,6,7,8,9])"
   ]
  },
  {
   "cell_type": "code",
   "execution_count": 28,
   "id": "rising-commerce",
   "metadata": {},
   "outputs": [],
   "source": [
    "# 递归\n",
    "def reverse2(l):\n",
    "    if len(l) == 1:\n",
    "        return l\n",
    "    else:\n",
    "        return l[-1:]+reverse2(l[:-1])"
   ]
  },
  {
   "cell_type": "code",
   "execution_count": 29,
   "id": "dental-pilot",
   "metadata": {},
   "outputs": [
    {
     "data": {
      "text/plain": [
       "([0, 9, 8, 7, 6, 5, 4, 3, 2, 1], [9, 8, 7, 6, 5, 4, 3, 2, 1])"
      ]
     },
     "execution_count": 29,
     "metadata": {},
     "output_type": "execute_result"
    }
   ],
   "source": [
    "reverse2([1,2,3,4,5,6,7,8,9,0]),reverse2([1,2,3,4,5,6,7,8,9])"
   ]
  },
  {
   "cell_type": "markdown",
   "id": "mature-still",
   "metadata": {},
   "source": [
    "### 课外拓展"
   ]
  },
  {
   "cell_type": "markdown",
   "id": "emotional-morris",
   "metadata": {},
   "source": [
    "#### 斐波那契数列"
   ]
  },
  {
   "cell_type": "code",
   "execution_count": 5,
   "id": "nonprofit-collection",
   "metadata": {},
   "outputs": [],
   "source": [
    "def Fibnaci(n):\n",
    "    if n == 1 or n == 2:\n",
    "        return 1\n",
    "    else:\n",
    "        return Fibnaci(n-1) + Fibnaci(n-2)"
   ]
  },
  {
   "cell_type": "code",
   "execution_count": 6,
   "id": "discrete-voltage",
   "metadata": {},
   "outputs": [
    {
     "data": {
      "text/plain": [
       "55"
      ]
     },
     "execution_count": 6,
     "metadata": {},
     "output_type": "execute_result"
    }
   ],
   "source": [
    "Fibnaci(10)"
   ]
  },
  {
   "cell_type": "code",
   "execution_count": 27,
   "id": "confidential-bridge",
   "metadata": {},
   "outputs": [],
   "source": [
    "# 上述递归中存在大量重复运算\n",
    "# 优化方法：用字典存储中间值\n",
    "def Fibnaci2(n,tempDict):\n",
    "    if n == 1 or n == 2:\n",
    "        return 1\n",
    "    if n in tempDict.keys():\n",
    "        return tempDict[n]\n",
    "    tempDict[n-1] = Fibnaci2(n-1,tempDict)\n",
    "    tempDict[n-2] = Fibnaci2(n-2,tempDict)\n",
    "    return tempDict[n-1] + tempDict[n-2]"
   ]
  },
  {
   "cell_type": "code",
   "execution_count": 29,
   "id": "meaning-morning",
   "metadata": {},
   "outputs": [
    {
     "data": {
      "text/plain": [
       "55"
      ]
     },
     "execution_count": 29,
     "metadata": {},
     "output_type": "execute_result"
    }
   ],
   "source": [
    "Fibnaci2(10,{})"
   ]
  },
  {
   "cell_type": "markdown",
   "id": "compressed-precipitation",
   "metadata": {},
   "source": [
    "#### 小青蛙跳台阶"
   ]
  },
  {
   "cell_type": "code",
   "execution_count": 9,
   "id": "chemical-modification",
   "metadata": {},
   "outputs": [],
   "source": [
    "# 小青蛙一次可以跳1阶，也可以跳两阶（只能向上），\n",
    "# 问爬n阶台阶共多少种方法\n",
    "def floor(n):\n",
    "    if n <= 2:\n",
    "        return n\n",
    "    return floor(n-1) + floor(n-2)"
   ]
  },
  {
   "cell_type": "code",
   "execution_count": 10,
   "id": "weighted-retreat",
   "metadata": {},
   "outputs": [
    {
     "data": {
      "text/plain": [
       "89"
      ]
     },
     "execution_count": 10,
     "metadata": {},
     "output_type": "execute_result"
    }
   ],
   "source": [
    "floor(10)"
   ]
  },
  {
   "cell_type": "code",
   "execution_count": 11,
   "id": "postal-junction",
   "metadata": {},
   "outputs": [],
   "source": [
    "# 拓展 青蛙一次可以跳1阶，也可以跳两阶（可以向上，也可以向下）\n",
    "# 但是同一个台阶不能踩两次，问爬n阶台阶共多少种方法\n",
    "def floor2(n):\n",
    "    if n <= 3:\n",
    "        return n\n",
    "    else:\n",
    "        return floor2(n-1) + floor2(n-2) + floor2(n-3)"
   ]
  },
  {
   "cell_type": "code",
   "execution_count": 14,
   "id": "thrown-memorabilia",
   "metadata": {},
   "outputs": [
    {
     "data": {
      "text/plain": [
       "45152016"
      ]
     },
     "execution_count": 14,
     "metadata": {},
     "output_type": "execute_result"
    }
   ],
   "source": [
    "floor2(30)"
   ]
  },
  {
   "cell_type": "markdown",
   "id": "incomplete-billion",
   "metadata": {},
   "source": [
    "#### 反转单链表"
   ]
  },
  {
   "cell_type": "code",
   "execution_count": 11,
   "id": "banner-stationery",
   "metadata": {},
   "outputs": [],
   "source": [
    "# 结点定义\n",
    "class Node:\n",
    "    def __init__(self,value=0,next=None):\n",
    "        self.value = value\n",
    "        self.next = next\n",
    "        \n",
    "class linkList:\n",
    "    def __init__(self):\n",
    "        self.head = None"
   ]
  },
  {
   "cell_type": "code",
   "execution_count": 20,
   "id": "considerable-patrol",
   "metadata": {},
   "outputs": [],
   "source": [
    "l = linkList()"
   ]
  },
  {
   "cell_type": "code",
   "execution_count": 21,
   "id": "boring-celebration",
   "metadata": {},
   "outputs": [],
   "source": [
    "l.head = Node(1); l.head.next = Node(2);\n",
    "l.head.next.next = Node(3); l.head.next.next.next = Node(4); l.head.next.next.next.next = Node(5);"
   ]
  },
  {
   "cell_type": "code",
   "execution_count": 22,
   "id": "harmful-kinase",
   "metadata": {},
   "outputs": [
    {
     "name": "stdout",
     "output_type": "stream",
     "text": [
      "1 2 3 4 5 "
     ]
    }
   ],
   "source": [
    "def printL(l):\n",
    "    cur = l.head\n",
    "    while cur != None:\n",
    "        print(cur.value,end=' ')\n",
    "        cur = cur.next\n",
    "        \n",
    "printL(l)"
   ]
  },
  {
   "cell_type": "code",
   "execution_count": 23,
   "id": "confused-customer",
   "metadata": {},
   "outputs": [],
   "source": [
    "# 反转链表(递归)\n",
    "def reverseList(l):\n",
    "    head = l.head\n",
    "    if head == None or head.next == None:\n",
    "        return head\n",
    "    else:\n",
    "        temp = reverseList(head.next)\n",
    "        tail = head.next\n",
    "        tail.next = head\n",
    "        head.next = None\n",
    "        return temp"
   ]
  },
  {
   "cell_type": "code",
   "execution_count": 24,
   "id": "personal-release",
   "metadata": {},
   "outputs": [
    {
     "ename": "AttributeError",
     "evalue": "'Node' object has no attribute 'head'",
     "output_type": "error",
     "traceback": [
      "\u001b[0;31m---------------------------------------------------------------------------\u001b[0m",
      "\u001b[0;31mAttributeError\u001b[0m                            Traceback (most recent call last)",
      "\u001b[0;32m<ipython-input-24-76f96f3c2dbb>\u001b[0m in \u001b[0;36m<module>\u001b[0;34m\u001b[0m\n\u001b[0;32m----> 1\u001b[0;31m \u001b[0ml1\u001b[0m \u001b[0;34m=\u001b[0m \u001b[0mreverseList\u001b[0m\u001b[0;34m(\u001b[0m\u001b[0ml\u001b[0m\u001b[0;34m)\u001b[0m\u001b[0;34m\u001b[0m\u001b[0;34m\u001b[0m\u001b[0m\n\u001b[0m",
      "\u001b[0;32m<ipython-input-23-51054b044536>\u001b[0m in \u001b[0;36mreverseList\u001b[0;34m(l)\u001b[0m\n\u001b[1;32m      5\u001b[0m         \u001b[0;32mreturn\u001b[0m \u001b[0mhead\u001b[0m\u001b[0;34m\u001b[0m\u001b[0;34m\u001b[0m\u001b[0m\n\u001b[1;32m      6\u001b[0m     \u001b[0;32melse\u001b[0m\u001b[0;34m:\u001b[0m\u001b[0;34m\u001b[0m\u001b[0;34m\u001b[0m\u001b[0m\n\u001b[0;32m----> 7\u001b[0;31m         \u001b[0mtemp\u001b[0m \u001b[0;34m=\u001b[0m \u001b[0mreverseList\u001b[0m\u001b[0;34m(\u001b[0m\u001b[0mhead\u001b[0m\u001b[0;34m.\u001b[0m\u001b[0mnext\u001b[0m\u001b[0;34m)\u001b[0m\u001b[0;34m\u001b[0m\u001b[0;34m\u001b[0m\u001b[0m\n\u001b[0m\u001b[1;32m      8\u001b[0m         \u001b[0mtail\u001b[0m \u001b[0;34m=\u001b[0m \u001b[0mhead\u001b[0m\u001b[0;34m.\u001b[0m\u001b[0mnext\u001b[0m\u001b[0;34m\u001b[0m\u001b[0;34m\u001b[0m\u001b[0m\n\u001b[1;32m      9\u001b[0m         \u001b[0mtail\u001b[0m\u001b[0;34m.\u001b[0m\u001b[0mnext\u001b[0m \u001b[0;34m=\u001b[0m \u001b[0mhead\u001b[0m\u001b[0;34m\u001b[0m\u001b[0;34m\u001b[0m\u001b[0m\n",
      "\u001b[0;32m<ipython-input-23-51054b044536>\u001b[0m in \u001b[0;36mreverseList\u001b[0;34m(l)\u001b[0m\n\u001b[1;32m      1\u001b[0m \u001b[0;31m# 反转链表(递归)\u001b[0m\u001b[0;34m\u001b[0m\u001b[0;34m\u001b[0m\u001b[0;34m\u001b[0m\u001b[0m\n\u001b[1;32m      2\u001b[0m \u001b[0;32mdef\u001b[0m \u001b[0mreverseList\u001b[0m\u001b[0;34m(\u001b[0m\u001b[0ml\u001b[0m\u001b[0;34m)\u001b[0m\u001b[0;34m:\u001b[0m\u001b[0;34m\u001b[0m\u001b[0;34m\u001b[0m\u001b[0m\n\u001b[0;32m----> 3\u001b[0;31m     \u001b[0mhead\u001b[0m \u001b[0;34m=\u001b[0m \u001b[0ml\u001b[0m\u001b[0;34m.\u001b[0m\u001b[0mhead\u001b[0m\u001b[0;34m\u001b[0m\u001b[0;34m\u001b[0m\u001b[0m\n\u001b[0m\u001b[1;32m      4\u001b[0m     \u001b[0;32mif\u001b[0m \u001b[0mhead\u001b[0m \u001b[0;34m==\u001b[0m \u001b[0;32mNone\u001b[0m \u001b[0;32mor\u001b[0m \u001b[0mhead\u001b[0m\u001b[0;34m.\u001b[0m\u001b[0mnext\u001b[0m \u001b[0;34m==\u001b[0m \u001b[0;32mNone\u001b[0m\u001b[0;34m:\u001b[0m\u001b[0;34m\u001b[0m\u001b[0;34m\u001b[0m\u001b[0m\n\u001b[1;32m      5\u001b[0m         \u001b[0;32mreturn\u001b[0m \u001b[0mhead\u001b[0m\u001b[0;34m\u001b[0m\u001b[0;34m\u001b[0m\u001b[0m\n",
      "\u001b[0;31mAttributeError\u001b[0m: 'Node' object has no attribute 'head'"
     ]
    }
   ],
   "source": [
    "l1 = reverseList(l)"
   ]
  },
  {
   "cell_type": "code",
   "execution_count": 10,
   "id": "special-girlfriend",
   "metadata": {},
   "outputs": [],
   "source": [
    "printL(l)"
   ]
  },
  {
   "cell_type": "markdown",
   "id": "intermediate-fountain",
   "metadata": {},
   "source": [
    "## 第5章 搜索与排序"
   ]
  },
  {
   "cell_type": "markdown",
   "id": "freelance-billion",
   "metadata": {},
   "source": [
    "### 搜索"
   ]
  },
  {
   "cell_type": "markdown",
   "id": "adult-literature",
   "metadata": {},
   "source": [
    "#### 顺序搜索"
   ]
  },
  {
   "cell_type": "code",
   "execution_count": 36,
   "id": "fifth-america",
   "metadata": {},
   "outputs": [],
   "source": [
    "# 无序列表的顺序搜索\n",
    "def orderedSearch(l,item):\n",
    "    for i in range(len(l)):\n",
    "        if l[i] == item:\n",
    "            return True\n",
    "    return False"
   ]
  },
  {
   "cell_type": "code",
   "execution_count": 44,
   "id": "rocky-crawford",
   "metadata": {},
   "outputs": [
    {
     "data": {
      "text/plain": [
       "(True, False)"
      ]
     },
     "execution_count": 44,
     "metadata": {},
     "output_type": "execute_result"
    }
   ],
   "source": [
    "l = [2,5,7,8,6,9,2,3]\n",
    "orderedSearch(l,6), orderedSearch(l,1)"
   ]
  },
  {
   "cell_type": "code",
   "execution_count": 38,
   "id": "enabling-immigration",
   "metadata": {},
   "outputs": [],
   "source": [
    "# 有序列表的顺序搜索\n",
    "def orderedSearch2(l,item):\n",
    "    for i in range(len(l)):\n",
    "        if l[i] > item:\n",
    "            return False\n",
    "        if l[i] == item:\n",
    "            return True\n",
    "    return False"
   ]
  },
  {
   "cell_type": "code",
   "execution_count": 47,
   "id": "middle-nicholas",
   "metadata": {},
   "outputs": [
    {
     "data": {
      "text/plain": [
       "(True, False)"
      ]
     },
     "execution_count": 47,
     "metadata": {},
     "output_type": "execute_result"
    }
   ],
   "source": [
    "l2 = sorted(l)\n",
    "orderedSearch2(l,6), orderedSearch2(l,1)"
   ]
  },
  {
   "cell_type": "markdown",
   "id": "behavioral-mechanics",
   "metadata": {},
   "source": [
    "#### 二分搜索 - 分治策略"
   ]
  },
  {
   "cell_type": "code",
   "execution_count": 57,
   "id": "toxic-archive",
   "metadata": {},
   "outputs": [],
   "source": [
    "def binarySearch(l,target):\n",
    "    if len(l) == 0:\n",
    "        return False\n",
    "    left = 0; right = len(l) # 左闭右开\n",
    "    while left <= right:\n",
    "        mid = (left + right) // 2\n",
    "        if l[mid] == target:\n",
    "            return mid\n",
    "        elif l[mid] < target:\n",
    "            left = mid + 1\n",
    "        else:\n",
    "            right = mid\n",
    "            \n",
    "    return False"
   ]
  },
  {
   "cell_type": "code",
   "execution_count": 58,
   "id": "hidden-digest",
   "metadata": {},
   "outputs": [
    {
     "data": {
      "text/plain": [
       "[2, 2, 3, 5, 6, 7, 8, 9]"
      ]
     },
     "execution_count": 58,
     "metadata": {},
     "output_type": "execute_result"
    }
   ],
   "source": [
    "l2"
   ]
  },
  {
   "cell_type": "code",
   "execution_count": 59,
   "id": "historic-driver",
   "metadata": {},
   "outputs": [
    {
     "data": {
      "text/plain": [
       "(3, 1, 4)"
      ]
     },
     "execution_count": 59,
     "metadata": {},
     "output_type": "execute_result"
    }
   ],
   "source": [
    "binarySearch(l2,5), binarySearch(l2,2), binarySearch(l2,6)"
   ]
  },
  {
   "cell_type": "code",
   "execution_count": 60,
   "id": "radio-service",
   "metadata": {},
   "outputs": [],
   "source": [
    "def binarySearch2(l,target):\n",
    "    if len(l) == 0:\n",
    "        return False\n",
    "    left = 0; right = len(l)-1 # 左闭右闭\n",
    "    while left <= right:\n",
    "        mid = (left + right) // 2\n",
    "        if l[mid] == target:\n",
    "            return mid\n",
    "        elif l[mid] < target:\n",
    "            left = mid + 1\n",
    "        else:\n",
    "            right = mid - 1\n",
    "            \n",
    "    return False"
   ]
  },
  {
   "cell_type": "code",
   "execution_count": 61,
   "id": "sporting-feelings",
   "metadata": {},
   "outputs": [
    {
     "data": {
      "text/plain": [
       "(3, 1, 4)"
      ]
     },
     "execution_count": 61,
     "metadata": {},
     "output_type": "execute_result"
    }
   ],
   "source": [
    "binarySearch2(l2,5), binarySearch2(l2,2), binarySearch2(l2,6)"
   ]
  },
  {
   "cell_type": "code",
   "execution_count": 73,
   "id": "ordered-conditioning",
   "metadata": {},
   "outputs": [],
   "source": [
    "# 递归方法\n",
    "def binarySearchRe(l,target,start,end):\n",
    "    if len(l) == 0:\n",
    "        return False\n",
    "    mid = (start + end) // 2\n",
    "    if l[mid] == target:\n",
    "        return mid\n",
    "    elif l[mid] < target:\n",
    "        return binarySearchRe(l,target,mid + 1,end)\n",
    "    else:\n",
    "        return binarySearchRe(l,target,start,mid)"
   ]
  },
  {
   "cell_type": "code",
   "execution_count": 74,
   "id": "patent-annex",
   "metadata": {},
   "outputs": [
    {
     "data": {
      "text/plain": [
       "(3, 1, 4)"
      ]
     },
     "execution_count": 74,
     "metadata": {},
     "output_type": "execute_result"
    }
   ],
   "source": [
    "binarySearchRe(l2,5,0,len(l2)), binarySearchRe(l2,2,0,len(l2)), binarySearchRe(l2,6,0,len(l2))"
   ]
  },
  {
   "cell_type": "code",
   "execution_count": 18,
   "id": "mental-undergraduate",
   "metadata": {},
   "outputs": [],
   "source": [
    "def binarySearchRe2(l,target):\n",
    "    if len(l) == 0:\n",
    "        return False\n",
    "    mid = len(l) // 2\n",
    "    if l[mid] == target:\n",
    "        return mid\n",
    "    elif l[mid] < target:\n",
    "        return binarySearchRe2(l[mid + 1:],target)\n",
    "    else:\n",
    "        return binarySearchRe2(l[:mid],target)"
   ]
  },
  {
   "cell_type": "code",
   "execution_count": 19,
   "id": "vocational-actress",
   "metadata": {},
   "outputs": [
    {
     "data": {
      "text/plain": [
       "[2, 2, 3, 5, 6, 7, 8, 9]"
      ]
     },
     "execution_count": 19,
     "metadata": {},
     "output_type": "execute_result"
    }
   ],
   "source": [
    "l = [2,5,7,8,6,9,2,3]\n",
    "l2 = sorted(l)\n",
    "l2"
   ]
  },
  {
   "cell_type": "code",
   "execution_count": 20,
   "id": "political-closer",
   "metadata": {},
   "outputs": [
    {
     "data": {
      "text/plain": [
       "(0, 1, 4)"
      ]
     },
     "execution_count": 20,
     "metadata": {},
     "output_type": "execute_result"
    }
   ],
   "source": [
    "# fixme: binarySearchRe2(l2,5)结果不对\n",
    "binarySearchRe2(l2,5), binarySearchRe2(l2,2), binarySearchRe2(l2,6)"
   ]
  },
  {
   "cell_type": "markdown",
   "id": "special-protection",
   "metadata": {},
   "source": [
    "#### 散列"
   ]
  },
  {
   "cell_type": "markdown",
   "id": "lesser-korea",
   "metadata": {},
   "source": [
    "散列表（Hash table，也叫哈希表），是根据关键码值(Key value)而直接进行访问的数据结构。\n",
    "也就是说，它通过把关键码值映射到表中一个位置来访问记录，以加快查找的速度。\n",
    "这个映射函数叫做散列函数，存放记录的数组叫做散列表。 --百度百科"
   ]
  },
  {
   "cell_type": "markdown",
   "id": "adjusted-conflict",
   "metadata": {},
   "source": [
    "散列函数将关键字映射到0到数组大小N-1范围，作为下标并将关键字存入数组对应位置，数组称为散列表。\n",
    "理想散列表（哈希表）是一个包含关键字的具有固定大小的数组，它能够**以常数时间执行插入，删除和查找操作**。"
   ]
  },
  {
   "cell_type": "code",
   "execution_count": 21,
   "id": "current-essence",
   "metadata": {},
   "outputs": [],
   "source": [
    "# 选择取余函数作为散列函数\n",
    "def hash(valueList,n):\n",
    "    res = [None] * n\n",
    "    for v in valueList:\n",
    "        res[v%n] = v\n",
    "    return res"
   ]
  },
  {
   "cell_type": "code",
   "execution_count": 22,
   "id": "concrete-utility",
   "metadata": {},
   "outputs": [
    {
     "data": {
      "text/plain": [
       "[77, None, None, None, 26, 93, 17, None, None, 31, 54]"
      ]
     },
     "execution_count": 22,
     "metadata": {},
     "output_type": "execute_result"
    }
   ],
   "source": [
    "valueList = [54,26,93,17,77,31]\n",
    "hash(valueList,11)"
   ]
  },
  {
   "cell_type": "markdown",
   "id": "demographic-helen",
   "metadata": {},
   "source": [
    "若两个散列值映射到同一位置，则产生**冲突**"
   ]
  },
  {
   "cell_type": "markdown",
   "id": "coupled-homeless",
   "metadata": {},
   "source": [
    "**处理冲突：**"
   ]
  },
  {
   "cell_type": "markdown",
   "id": "regular-combination",
   "metadata": {},
   "source": [
    "**开放定址法 线性探测**：从起初的散列值开始，顺序遍历散列表，直到找到一个空槽，放入散列值。（将散列表看成环）  \n",
    "缺点：出现聚集现象。\n",
    "解决方法：扩展线性探测、平方探测等。  \n",
    "**链接法**：用链表存储同一个槽中的散列值。"
   ]
  },
  {
   "cell_type": "code",
   "execution_count": 37,
   "id": "civic-ticket",
   "metadata": {},
   "outputs": [],
   "source": [
    "def hash2(valueList,n):\n",
    "    res = [None] * n\n",
    "    for v in valueList:\n",
    "        if res[v%n] == None:\n",
    "            res[v%n] = v\n",
    "        else:\n",
    "            # ！改进： 环的循环可通过 对数组size取余 实现，如 hash3（）所示\n",
    "            flag = 0\n",
    "            for m in range(v%n,n):\n",
    "                if res[m] == None:\n",
    "                    res[m] = v\n",
    "                    flag = 1\n",
    "                    break\n",
    "            if flag == 0: \n",
    "                for m in range(v%n):\n",
    "                    if res[m] == None:\n",
    "                        res[m] = v\n",
    "                        flag = 1\n",
    "                        break\n",
    "    if flag == 0:\n",
    "        print(\"有溢出\")\n",
    "    return res"
   ]
  },
  {
   "cell_type": "code",
   "execution_count": 42,
   "id": "otherwise-rendering",
   "metadata": {},
   "outputs": [
    {
     "data": {
      "text/plain": [
       "[77, 42, 53, 64, 26, 93, 17, None, None, 31, 54]"
      ]
     },
     "execution_count": 42,
     "metadata": {},
     "output_type": "execute_result"
    }
   ],
   "source": [
    "valueList2 = [54,26,93,17,77,31,42,53,64]\n",
    "hash2(valueList2,11)"
   ]
  },
  {
   "cell_type": "code",
   "execution_count": 52,
   "id": "medieval-paragraph",
   "metadata": {},
   "outputs": [],
   "source": [
    "def hash3(valueList,n):\n",
    "    res = [None] * n\n",
    "    for v in valueList:\n",
    "        slot = v % n\n",
    "        while res[slot] != None:\n",
    "            slot = (slot + 1) % n\n",
    "            \n",
    "        if res[slot] == None:\n",
    "            res[slot] = v\n",
    "\n",
    "    return res"
   ]
  },
  {
   "cell_type": "code",
   "execution_count": 53,
   "id": "indie-shame",
   "metadata": {},
   "outputs": [
    {
     "data": {
      "text/plain": [
       "[77, 42, 53, 64, 26, 93, 17, None, None, 31, 54]"
      ]
     },
     "execution_count": 53,
     "metadata": {},
     "output_type": "execute_result"
    }
   ],
   "source": [
    "valueList3 = [54,26,93,17,77,31,42,53,64]\n",
    "hash3(valueList2,11)"
   ]
  },
  {
   "cell_type": "markdown",
   "id": "twelve-greeting",
   "metadata": {},
   "source": [
    "#### 实现映射抽象数据类型（字典）"
   ]
  },
  {
   "cell_type": "code",
   "execution_count": 44,
   "id": "accurate-access",
   "metadata": {},
   "outputs": [],
   "source": [
    "# 使用 两个列表 实现映射抽象数据类型\n",
    "# 一个列表存储 键 ，一个列表存储 值 。\n",
    "class HashTable():\n",
    "    def __init__(self):\n",
    "        self.size = 11\n",
    "        self.slots = [None] * self.size\n",
    "        self.data = [None] * self.size\n",
    "        \n",
    "    def put(self, key, data):\n",
    "        hashvalue = self.hashfunction(key, len(self.slots))\n",
    "        if self.slots[hashvalue] == None:\n",
    "            self.slots[hashvalue] = key\n",
    "            self.data[hashvalue] = data\n",
    "        else:\n",
    "            if self.slots[hashvalue] == key:\n",
    "                self.data[hashvalue] = data # 替换\n",
    "            else:\n",
    "                nextslot = self.rehash(hashvalue, len(self.slots))\n",
    "                while self.slots[nextslot] != None and \\\n",
    "                self.slots[nextslot] != key:\n",
    "                    nextslot = self.rehash(nextslot, len(self.slots))\n",
    "                    \n",
    "                if self.slots[nextslot] == None:\n",
    "                    self.slots[nextslot] = key\n",
    "                    self.data[nextslot] = data\n",
    "                else:\n",
    "                    self.data[nextslot] = data # 替换\n",
    "                        \n",
    "    def hashfunction(self, key, size):\n",
    "        return key%size\n",
    "    \n",
    "    def rehash(self, oldhash, size):\n",
    "        return (oldhash + 1)%size\n",
    "    \n",
    "    def get(self, key):\n",
    "        startslot = self.hashfunction(key, len(self.slots))\n",
    "        \n",
    "        data = None\n",
    "        stop = False\n",
    "        found = False\n",
    "        position = startslot\n",
    "        \n",
    "        while self.slots[position] != None and \\\n",
    "        not found and not stop:\n",
    "            if self.slots[position] == key:\n",
    "                found = True\n",
    "                data = self.data[position]\n",
    "            else:\n",
    "                position=self.rehash(position, len(self.slots))\n",
    "                if position == startslot:\n",
    "                    stop = True\n",
    "        return data\n",
    "                \n",
    "    def __getitem__(self, key):\n",
    "        return self.get(key)\n",
    "    \n",
    "    def __setitem__(self, key, data):\n",
    "        self.put(key, data)\n"
   ]
  },
  {
   "cell_type": "code",
   "execution_count": 45,
   "id": "fleet-summit",
   "metadata": {},
   "outputs": [],
   "source": [
    "H = HashTable()\n",
    "H[54] = \"cat\"\n",
    "H[26] = \"dog\"\n",
    "H[93] = \"lion\"\n",
    "H[17] = \"tiger\"\n",
    "H[77] = \"bird\"\n",
    "H[31] = \"cow\"\n",
    "H[44] = \"goat\"\n",
    "H[55] = \"pig\"\n",
    "H[20] = \"chicken\" "
   ]
  },
  {
   "cell_type": "code",
   "execution_count": 46,
   "id": "undefined-notebook",
   "metadata": {},
   "outputs": [
    {
     "data": {
      "text/plain": [
       "[77, 20, None, None, 26, 93, 17, None, None, 31, 54]"
      ]
     },
     "execution_count": 46,
     "metadata": {},
     "output_type": "execute_result"
    }
   ],
   "source": [
    "H.slots"
   ]
  },
  {
   "cell_type": "code",
   "execution_count": 47,
   "id": "verified-armor",
   "metadata": {},
   "outputs": [
    {
     "data": {
      "text/plain": [
       "['chicken',\n",
       " 'chicken',\n",
       " None,\n",
       " None,\n",
       " 'dog',\n",
       " 'lion',\n",
       " 'tiger',\n",
       " None,\n",
       " None,\n",
       " 'cow',\n",
       " 'cat']"
      ]
     },
     "execution_count": 47,
     "metadata": {},
     "output_type": "execute_result"
    }
   ],
   "source": [
    "H.data"
   ]
  },
  {
   "cell_type": "code",
   "execution_count": 48,
   "id": "elementary-leave",
   "metadata": {},
   "outputs": [
    {
     "data": {
      "text/plain": [
       "'chicken'"
      ]
     },
     "execution_count": 48,
     "metadata": {},
     "output_type": "execute_result"
    }
   ],
   "source": [
    "H[20]"
   ]
  },
  {
   "cell_type": "code",
   "execution_count": 50,
   "id": "buried-polish",
   "metadata": {},
   "outputs": [
    {
     "data": {
      "text/plain": [
       "'duck'"
      ]
     },
     "execution_count": 50,
     "metadata": {},
     "output_type": "execute_result"
    }
   ],
   "source": [
    "H[20] = 'duck'\n",
    "H[20]"
   ]
  },
  {
   "cell_type": "code",
   "execution_count": 51,
   "id": "legislative-exposure",
   "metadata": {},
   "outputs": [
    {
     "data": {
      "text/plain": [
       "['duck', 'duck', None, None, 'dog', 'lion', 'tiger', None, None, 'cow', 'cat']"
      ]
     },
     "execution_count": 51,
     "metadata": {},
     "output_type": "execute_result"
    }
   ],
   "source": [
    "H.data"
   ]
  },
  {
   "cell_type": "markdown",
   "id": "unavailable-palestine",
   "metadata": {},
   "source": [
    "### 排序"
   ]
  },
  {
   "cell_type": "markdown",
   "id": "residential-antarctica",
   "metadata": {},
   "source": [
    "#### 冒泡排序"
   ]
  },
  {
   "cell_type": "code",
   "execution_count": 69,
   "id": "competitive-modem",
   "metadata": {},
   "outputs": [],
   "source": [
    "def bubbleSort(l):\n",
    "    for i in range(len(l)):\n",
    "        for j in range(len(l)-i-1):\n",
    "            if l[j] > l[j+1]:\n",
    "                l[j], l[j+1] = l[j+1], l[j]\n",
    "    return l"
   ]
  },
  {
   "cell_type": "code",
   "execution_count": 70,
   "id": "enormous-spoke",
   "metadata": {},
   "outputs": [
    {
     "data": {
      "text/plain": [
       "[1, 2, 4, 5, 5, 7, 7, 8, 9]"
      ]
     },
     "execution_count": 70,
     "metadata": {},
     "output_type": "execute_result"
    }
   ],
   "source": [
    "l = [2,7,5,8,9,4,5,7,1]\n",
    "bubbleSort(l)"
   ]
  },
  {
   "cell_type": "markdown",
   "id": "native-louisiana",
   "metadata": {},
   "source": [
    "冒泡排序一般认为效率很低，因为在未确定最终位置时需要频繁交换。  \n",
    "但是，**如果在一次循环中没有交换，说明已经排好序，可以停止循环。**  \n",
    "可利用这一特性提前终止。"
   ]
  },
  {
   "cell_type": "code",
   "execution_count": 71,
   "id": "stable-transformation",
   "metadata": {},
   "outputs": [],
   "source": [
    "def bubbleSort2(l):\n",
    "    for i in range(len(l)):\n",
    "        flag = True\n",
    "        for j in range(len(l)-i-1):\n",
    "            flag = False\n",
    "            if l[j] > l[j+1]:\n",
    "                flag = True\n",
    "                l[j], l[j+1] = l[j+1], l[j]\n",
    "        if flag == False:\n",
    "            break\n",
    "    return l"
   ]
  },
  {
   "cell_type": "code",
   "execution_count": 72,
   "id": "secure-substance",
   "metadata": {},
   "outputs": [
    {
     "data": {
      "text/plain": [
       "[1, 2, 4, 5, 5, 7, 7, 8, 9]"
      ]
     },
     "execution_count": 72,
     "metadata": {},
     "output_type": "execute_result"
    }
   ],
   "source": [
    "l = [2,7,5,8,9,4,5,7,1]\n",
    "bubbleSort2(l)"
   ]
  },
  {
   "cell_type": "markdown",
   "id": "handled-church",
   "metadata": {},
   "source": [
    "#### 选择排序"
   ]
  },
  {
   "cell_type": "markdown",
   "id": "olympic-installation",
   "metadata": {},
   "source": [
    "选择排序是对冒泡排序的改进，在一次循环中只进行一次交换。  \n",
    "具体来说，先循环找到最大值，然后放在合适的位置上。"
   ]
  },
  {
   "cell_type": "code",
   "execution_count": 73,
   "id": "scenic-courtesy",
   "metadata": {},
   "outputs": [],
   "source": [
    "def selectSort(l):\n",
    "    n = len(l)\n",
    "    for i in range(n):\n",
    "        maxNum = -1\n",
    "        maxIndex = -1\n",
    "        for j in range(n-i):\n",
    "            if l[j] > maxNum:\n",
    "                maxNum = l[j]\n",
    "                maxIndex = j\n",
    "        l[maxIndex], l[n-i-1] = l[n-i-1], l[maxIndex]\n",
    "    return l"
   ]
  },
  {
   "cell_type": "code",
   "execution_count": 74,
   "id": "based-illustration",
   "metadata": {},
   "outputs": [
    {
     "data": {
      "text/plain": [
       "[1, 2, 4, 5, 5, 7, 7, 8, 9]"
      ]
     },
     "execution_count": 74,
     "metadata": {},
     "output_type": "execute_result"
    }
   ],
   "source": [
    "l = [2,7,5,8,9,4,5,7,1]\n",
    "selectSort(l)"
   ]
  },
  {
   "cell_type": "markdown",
   "id": "celtic-replica",
   "metadata": {},
   "source": [
    "#### 插入排序"
   ]
  },
  {
   "cell_type": "markdown",
   "id": "conditional-article",
   "metadata": {},
   "source": [
    "插入排序在列表的左端维护一个有序子列表，  \n",
    "依次遍历列表，将值按照大小顺序插入有序子列表中。"
   ]
  },
  {
   "cell_type": "code",
   "execution_count": 91,
   "id": "metric-executive",
   "metadata": {},
   "outputs": [],
   "source": [
    "def insertSort(l):\n",
    "    n = len(l)\n",
    "    if n < 2:\n",
    "        return l\n",
    "    for i in range(1,n):\n",
    "        # 从前到后遍历子列表\n",
    "        for j in range(i):\n",
    "            if l[j] > l[i]:\n",
    "                l.insert(j,l.pop(i))\n",
    "    return l"
   ]
  },
  {
   "cell_type": "code",
   "execution_count": 92,
   "id": "eight-substitute",
   "metadata": {},
   "outputs": [
    {
     "data": {
      "text/plain": [
       "[1, 2, 4, 5, 5, 7, 7, 8, 9]"
      ]
     },
     "execution_count": 92,
     "metadata": {},
     "output_type": "execute_result"
    }
   ],
   "source": [
    "l = [2,7,5,8,9,4,5,7,1]\n",
    "insertSort(l)"
   ]
  },
  {
   "cell_type": "code",
   "execution_count": 103,
   "id": "tracked-idaho",
   "metadata": {},
   "outputs": [],
   "source": [
    "# 可在插入时从后向前遍历子列表，这样可省去pop()、insert()\n",
    "def insertSort2(l):\n",
    "    n = len(l)\n",
    "    if n < 2:\n",
    "        return l\n",
    "    for i in range(1,n):\n",
    "        # 从后向前遍历子列表，依次交换\n",
    "        for j in range(i,0,-1):\n",
    "            if l[j] < l[j-1]:\n",
    "                l[j], l[j-1] = l[j-1], l[j]\n",
    "            else:\n",
    "                break\n",
    "    return l"
   ]
  },
  {
   "cell_type": "code",
   "execution_count": 104,
   "id": "lesser-drink",
   "metadata": {},
   "outputs": [
    {
     "data": {
      "text/plain": [
       "[1, 2, 4, 5, 5, 7, 7, 8, 9]"
      ]
     },
     "execution_count": 104,
     "metadata": {},
     "output_type": "execute_result"
    }
   ],
   "source": [
    "l = [2,7,5,8,9,4,5,7,1]\n",
    "insertSort2(l)"
   ]
  },
  {
   "cell_type": "markdown",
   "id": "processed-booth",
   "metadata": {},
   "source": [
    "#### 希尔排序"
   ]
  },
  {
   "cell_type": "markdown",
   "id": "colonial-restaurant",
   "metadata": {},
   "source": [
    "希尔排序也称“递减增量排序”，它对插入排序做了改进，将列表分成数个子列表，并对每一个子列表应用插入排序。  \n",
    "如何切分列表是希尔排序的关键——并不是连续切分，而是使用增量i（有时称作步长）选取所有间隔为i的元素组成子列表。"
   ]
  },
  {
   "cell_type": "code",
   "execution_count": 7,
   "id": "crucial-minnesota",
   "metadata": {},
   "outputs": [],
   "source": [
    "# FIXME\n",
    "def shellSort(l):\n",
    "    n = len(l)\n",
    "    gap = n // 2\n",
    "    while gap > 0:\n",
    "        for i in range(gap):\n",
    "            if l[i] > l[gap+i]:\n",
    "                l[i], l[gap+i] = l[gap+i], l[i]\n",
    "        gap //= 2\n",
    "    return l"
   ]
  },
  {
   "cell_type": "code",
   "execution_count": 8,
   "id": "suffering-factor",
   "metadata": {},
   "outputs": [
    {
     "data": {
      "text/plain": [
       "[2, 4, 5, 7, 9, 7, 5, 8, 1]"
      ]
     },
     "execution_count": 8,
     "metadata": {},
     "output_type": "execute_result"
    }
   ],
   "source": [
    "l = [2,7,5,8,9,4,5,7,1]\n",
    "shellSort(l)"
   ]
  },
  {
   "cell_type": "code",
   "execution_count": 18,
   "id": "written-rehabilitation",
   "metadata": {},
   "outputs": [],
   "source": [
    "# 书中示例\n",
    "def shellSort2(alist):\n",
    "    sublistcount = len(alist) // 2\n",
    "    \n",
    "    while sublistcount > 0:\n",
    "        for startposition in range(sublistcount):\n",
    "            gapInsertionSort(alist, startposition, sublistcount)\n",
    "            \n",
    "        print(\"After increments of size\", sublistcount,\n",
    "              \"The list is\", alist)\n",
    "        \n",
    "        sublistcount = sublistcount // 2\n",
    "\n",
    "def gapInsertionSort(alist, start, gap):\n",
    "    for i in range(start+gap, len(alist), gap):\n",
    "        currentvalue = alist[i]\n",
    "        position = i\n",
    "        \n",
    "        while position >= gap and \\\n",
    "        alist[position-gap] > currentvalue:\n",
    "            alist[position] = alist[position-gap]\n",
    "            position = position - gap\n",
    "            \n",
    "        alist[position] = currentvalue"
   ]
  },
  {
   "cell_type": "code",
   "execution_count": 19,
   "id": "religious-criticism",
   "metadata": {},
   "outputs": [
    {
     "name": "stdout",
     "output_type": "stream",
     "text": [
      "After increments of size 4 The list is [1, 4, 5, 7, 2, 7, 5, 8, 9]\n",
      "After increments of size 2 The list is [1, 4, 2, 7, 5, 7, 5, 8, 9]\n",
      "After increments of size 1 The list is [1, 2, 4, 5, 5, 7, 7, 8, 9]\n"
     ]
    }
   ],
   "source": [
    "l = [2,7,5,8,9,4,5,7,1]\n",
    "shellSort2(l)"
   ]
  },
  {
   "cell_type": "markdown",
   "id": "biological-manitoba",
   "metadata": {},
   "source": [
    "#### 归并排序"
   ]
  },
  {
   "cell_type": "markdown",
   "id": "willing-myrtle",
   "metadata": {},
   "source": [
    "归并排序，是递归算法，每次将一个列表一分为二。如果列表为空或只有一个元素，那么从定义上来说它就是有序的（基本情况）。  \n",
    "如果列表不止一个元素，就将列表一分为二，并对两部分都递归调用归并排序。当两部分都有序后，就进行归并这一基本操作。  \n",
    "归并是指将两个较小的有序列表归并为一个有序列表的过程。"
   ]
  },
  {
   "cell_type": "code",
   "execution_count": 4,
   "id": "psychological-milan",
   "metadata": {},
   "outputs": [],
   "source": [
    "def mergeSort(alist):  \n",
    "    print(\"Splitting \", alist)\n",
    "    if len(alist) > 1:\n",
    "        mid = len(alist) // 2\n",
    "        lefthalf = alist[:mid]\n",
    "        righthalf = alist[mid:]\n",
    "\n",
    "        mergeSort(lefthalf)\n",
    "        mergeSort(righthalf)\n",
    "\n",
    "        i = 0\n",
    "        j = 0\n",
    "        k = 0\n",
    "        while i < len(lefthalf) and j < len(righthalf):\n",
    "            if lefthalf[i] < righthalf[j]:\n",
    "                alist[k] = lefthalf[i]\n",
    "                i = i + 1\n",
    "            else:\n",
    "                alist[k] = righthalf[j]\n",
    "                j = j + 1\n",
    "            k = k + 1\n",
    "                \n",
    "        while i < len(lefthalf):\n",
    "            alist[k] = lefthalf[i]\n",
    "            i = i + 1\n",
    "            k = k + 1\n",
    "\n",
    "        while j < len(righthalf):\n",
    "            alist[k] = righthalf[j]\n",
    "            j = j + 1\n",
    "            k = k + 1\n",
    "    print(\"Merging \", alist)"
   ]
  },
  {
   "cell_type": "code",
   "execution_count": 5,
   "id": "signal-marking",
   "metadata": {},
   "outputs": [
    {
     "name": "stdout",
     "output_type": "stream",
     "text": [
      "Splitting  [2, 7, 5, 8, 9, 4, 5, 7, 1]\n",
      "Splitting  [2, 7, 5, 8]\n",
      "Splitting  [2, 7]\n",
      "Splitting  [2]\n",
      "Merging  [2]\n",
      "Splitting  [7]\n",
      "Merging  [7]\n",
      "Merging  [2, 7]\n",
      "Splitting  [5, 8]\n",
      "Splitting  [5]\n",
      "Merging  [5]\n",
      "Splitting  [8]\n",
      "Merging  [8]\n",
      "Merging  [5, 8]\n",
      "Merging  [2, 5, 7, 8]\n",
      "Splitting  [9, 4, 5, 7, 1]\n",
      "Splitting  [9, 4]\n",
      "Splitting  [9]\n",
      "Merging  [9]\n",
      "Splitting  [4]\n",
      "Merging  [4]\n",
      "Merging  [4, 9]\n",
      "Splitting  [5, 7, 1]\n",
      "Splitting  [5]\n",
      "Merging  [5]\n",
      "Splitting  [7, 1]\n",
      "Splitting  [7]\n",
      "Merging  [7]\n",
      "Splitting  [1]\n",
      "Merging  [1]\n",
      "Merging  [1, 7]\n",
      "Merging  [1, 5, 7]\n",
      "Merging  [1, 4, 5, 7, 9]\n",
      "Merging  [1, 2, 4, 5, 5, 7, 7, 8, 9]\n"
     ]
    }
   ],
   "source": [
    "l = [2,7,5,8,9,4,5,7,1]\n",
    "mergeSort(l)"
   ]
  },
  {
   "cell_type": "markdown",
   "id": "according-aluminum",
   "metadata": {},
   "source": [
    "#### 快速排序"
   ]
  },
  {
   "cell_type": "markdown",
   "id": "personalized-sperm",
   "metadata": {},
   "source": [
    "和归并排序一样，快速排序也采用分治策略，但不使用额外的存储空间。不过，代价是列表可能不会被一分为二。"
   ]
  },
  {
   "cell_type": "code",
   "execution_count": 7,
   "id": "tired-spencer",
   "metadata": {},
   "outputs": [],
   "source": [
    "def quickSort(alist):\n",
    "    quickSortHelper(alist, 0, len(alist)-1)\n",
    "    \n",
    "def quickSortHelper(alist, first, last):\n",
    "    if first < last:\n",
    "        splitpoint = partition(alist, first, last)\n",
    "        quickSortHelper(alist, first, splitpoint-1)\n",
    "        quickSortHelper(alist, splitpoint+1, last)\n",
    "        \n",
    "def partition(alist, first, last):\n",
    "    pivotvalue = alist[first]\n",
    "    leftmark = first + 1\n",
    "    rightmark = last\n",
    "    done = False\n",
    "    while not done:\n",
    "        while leftmark <= rightmark and \\\n",
    "        alist[leftmark] <= pivotvalue:\n",
    "            leftmark = leftmark + 1\n",
    "            \n",
    "        while alist[rightmark] >= pivotvalue and \\\n",
    "        rightmark >= leftmark:\n",
    "            rightmark = rightmark - 1\n",
    "            \n",
    "        if rightmark < leftmark:\n",
    "            done = True\n",
    "        else:\n",
    "            temp = alist[leftmark]\n",
    "            alist[leftmark] = alist[rightmark]\n",
    "            alist[rightmark] = temp\n",
    "            \n",
    "    temp = alist[first]\n",
    "    alist[first] = alist[rightmark]\n",
    "    alist[rightmark] = temp\n",
    "    return rightmark"
   ]
  },
  {
   "cell_type": "code",
   "execution_count": 9,
   "id": "helpful-transsexual",
   "metadata": {},
   "outputs": [
    {
     "data": {
      "text/plain": [
       "[1, 2, 4, 5, 5, 7, 7, 8, 9]"
      ]
     },
     "execution_count": 9,
     "metadata": {},
     "output_type": "execute_result"
    }
   ],
   "source": [
    "l = [2,7,5,8,9,4,5,7,1]\n",
    "quickSort(l)\n",
    "l"
   ]
  },
  {
   "cell_type": "markdown",
   "id": "postal-commission",
   "metadata": {},
   "source": [
    "## 第6章 树"
   ]
  },
  {
   "cell_type": "markdown",
   "id": "agricultural-accountability",
   "metadata": {},
   "source": [
    "### 实现"
   ]
  },
  {
   "cell_type": "markdown",
   "id": "composite-preparation",
   "metadata": {},
   "source": [
    "python提供了两种存储树的方法，分别为“列表之列表”、“节点与引用。”"
   ]
  },
  {
   "cell_type": "markdown",
   "id": "exclusive-following",
   "metadata": {},
   "source": [
    "#### 列表之列表"
   ]
  },
  {
   "cell_type": "code",
   "execution_count": 11,
   "id": "communist-funds",
   "metadata": {},
   "outputs": [],
   "source": [
    "# 用列表以 [根结点, [左子树], [右子树]] 存储树结构。\n",
    "# 列表函数 binaryTree\n",
    "def binaryTree(r):\n",
    "    return [r,[],[]]\n",
    "\n",
    "# 插入左子树(插入后将原来的左子树作为插入节点的左子树)\n",
    "def insertLeft(root, newBranch):\n",
    "    t = root.pop(1)\n",
    "    if len(t) > 1:\n",
    "        root.insert(1, [newBranch, t, []])\n",
    "    else:\n",
    "        root.insert(1, [newBranch, [], []])\n",
    "    return root\n",
    "\n",
    "# 插入右子树\n",
    "def insertRight(root, newBranch):\n",
    "    t = root.pop(2)\n",
    "    if len(t) > 1:\n",
    "        root.insert(2, [newBranch, [], t])\n",
    "    else:\n",
    "        root.insert(2, [newBranch, [], []])\n",
    "    return root\n",
    "\n",
    "# 树的访问函数\n",
    "def getRootVal(root):\n",
    "    return root[0]\n",
    "\n",
    "def setRootVal(root, newVal):\n",
    "    root[0] = newVal\n",
    "    \n",
    "def getLeftChild(root):\n",
    "    return root[1]\n",
    "\n",
    "def getRightChild(root):\n",
    "    return root[2]"
   ]
  },
  {
   "cell_type": "code",
   "execution_count": 13,
   "id": "canadian-bridges",
   "metadata": {},
   "outputs": [
    {
     "data": {
      "text/plain": [
       "[3, [], []]"
      ]
     },
     "execution_count": 13,
     "metadata": {},
     "output_type": "execute_result"
    }
   ],
   "source": [
    "r = binaryTree(3)\n",
    "r"
   ]
  },
  {
   "cell_type": "code",
   "execution_count": 15,
   "id": "brave-paper",
   "metadata": {},
   "outputs": [
    {
     "data": {
      "text/plain": [
       "[3, [4, [], []], []]"
      ]
     },
     "execution_count": 15,
     "metadata": {},
     "output_type": "execute_result"
    }
   ],
   "source": [
    "insertLeft(r,4)\n",
    "r"
   ]
  },
  {
   "cell_type": "code",
   "execution_count": 16,
   "id": "refined-rates",
   "metadata": {},
   "outputs": [
    {
     "data": {
      "text/plain": [
       "[3, [5, [4, [], []], []], []]"
      ]
     },
     "execution_count": 16,
     "metadata": {},
     "output_type": "execute_result"
    }
   ],
   "source": [
    "insertLeft(r,5)\n",
    "r"
   ]
  },
  {
   "cell_type": "markdown",
   "id": "metropolitan-valuable",
   "metadata": {},
   "source": [
    "**Problems: 插入时只能对根结点的左右子树进行插入，访问时也不方便。**"
   ]
  },
  {
   "cell_type": "markdown",
   "id": "together-yugoslavia",
   "metadata": {},
   "source": [
    "#### 节点与引用"
   ]
  },
  {
   "cell_type": "markdown",
   "id": "ultimate-notice",
   "metadata": {},
   "source": [
    "面向对象编程，定义一个类，其中有根结点与左右子树的属性。"
   ]
  },
  {
   "cell_type": "code",
   "execution_count": 38,
   "id": "realistic-evans",
   "metadata": {},
   "outputs": [],
   "source": [
    "class Node:\n",
    "    def __init__(self,value):\n",
    "        self.key = value\n",
    "        self.leftChild = None\n",
    "        self.rightChild = None\n",
    "\n",
    "class binaryTree:\n",
    "    def __init__(self,root):\n",
    "        self.root = Node(root)\n",
    "        \n",
    "    def insertLeft(self,newBranch):\n",
    "        left = Node(newBranch)\n",
    "        oldLeftTree = self.root.leftChild\n",
    "        left.leftChild = oldLeftTree\n",
    "        self.root.leftChild = left\n",
    "        \n",
    "    def insertRight(self,newBranch):\n",
    "        right = Node(newBranch)\n",
    "        oldRightTree = self.root.rightChild\n",
    "        right.rightChild = oldRightTree\n",
    "        self.root.rightChild = right\n",
    "        \n",
    "    def getRootVal(self):\n",
    "        return self.root.key\n",
    "    \n",
    "    def setRootVal(self,newVal):\n",
    "        self.root.key = newVal\n",
    "    \n",
    "    def getLeftChild(self):\n",
    "        return self.root.leftChild\n",
    "\n",
    "    def getRightChild(self):\n",
    "        return self.root.rightChild\n",
    "    \n",
    "    def printT(self):\n",
    "        queue = []\n",
    "        if self.root != None:\n",
    "            queue.append(self.root)\n",
    "        while queue:\n",
    "            temp = queue.pop(0)\n",
    "            \n",
    "            if temp.rightChild:\n",
    "                queue.append(temp.rightChild)\n",
    "            if temp.leftChild:\n",
    "                queue.append(temp.leftChild)\n",
    "                \n",
    "            print(temp.key,end=' ')"
   ]
  },
  {
   "cell_type": "code",
   "execution_count": 39,
   "id": "considered-essex",
   "metadata": {},
   "outputs": [
    {
     "name": "stdout",
     "output_type": "stream",
     "text": [
      "3 "
     ]
    }
   ],
   "source": [
    "t = binaryTree(3)\n",
    "t.printT()"
   ]
  },
  {
   "cell_type": "code",
   "execution_count": 40,
   "id": "superior-million",
   "metadata": {},
   "outputs": [
    {
     "name": "stdout",
     "output_type": "stream",
     "text": [
      "3 4 "
     ]
    }
   ],
   "source": [
    "t.insertLeft(4)\n",
    "t.printT()"
   ]
  },
  {
   "cell_type": "code",
   "execution_count": 41,
   "id": "rubber-missouri",
   "metadata": {},
   "outputs": [
    {
     "name": "stdout",
     "output_type": "stream",
     "text": [
      "3 5 4 "
     ]
    }
   ],
   "source": [
    "t.insertLeft(5)\n",
    "t.printT()"
   ]
  },
  {
   "cell_type": "code",
   "execution_count": 42,
   "id": "given-ethernet",
   "metadata": {},
   "outputs": [
    {
     "name": "stdout",
     "output_type": "stream",
     "text": [
      "3 7 5 6 4 "
     ]
    }
   ],
   "source": [
    "t.insertRight(6); t.insertRight(7)\n",
    "t.printT()"
   ]
  },
  {
   "cell_type": "code",
   "execution_count": 1,
   "id": "objective-trauma",
   "metadata": {},
   "outputs": [],
   "source": [
    "# 书中递归定义方法\n",
    "class BinaryTree:\n",
    "    def __init__(self, rootObj):\n",
    "        self.key = rootObj\n",
    "        self.leftChild = None\n",
    "        self.rightChild = None\n",
    "        \n",
    "    def insertLeft(self, newNode):\n",
    "        if self.leftChild == None:\n",
    "            self.leftChild = BinaryTree(newNode)\n",
    "        else:\n",
    "            t = BinaryTree(newNode)\n",
    "            t.left = self.leftChild\n",
    "            self.leftChild = t\n",
    "\n",
    "    def insertRight(self, newNode):\n",
    "        if self.rightChild == None:\n",
    "            self.rightChild = BinaryTree(newNode)\n",
    "        else:\n",
    "            t = BinaryTree(newNode)\n",
    "            t.right = self.rightChild\n",
    "            self.rightChild = t\n",
    "    \n",
    "    def getRightChild(self):\n",
    "        return self.rightChild\n",
    "    \n",
    "    def getLeftChild(self):\n",
    "        return self.leftChild\n",
    "    \n",
    "    def setRootVal(self, obj):\n",
    "        self.key = obj\n",
    "        \n",
    "    def getRootVal(self):\n",
    "        return self.key"
   ]
  },
  {
   "cell_type": "code",
   "execution_count": 44,
   "id": "latter-lobby",
   "metadata": {},
   "outputs": [
    {
     "data": {
      "text/plain": [
       "'a'"
      ]
     },
     "execution_count": 44,
     "metadata": {},
     "output_type": "execute_result"
    }
   ],
   "source": [
    "r = BinaryTree('a')\n",
    "r.getRootVal()"
   ]
  },
  {
   "cell_type": "code",
   "execution_count": 45,
   "id": "amber-advantage",
   "metadata": {},
   "outputs": [
    {
     "name": "stdout",
     "output_type": "stream",
     "text": [
      "None\n"
     ]
    }
   ],
   "source": [
    "print(r.getLeftChild())"
   ]
  },
  {
   "cell_type": "markdown",
   "id": "retired-garage",
   "metadata": {},
   "source": [
    "### 二叉树的应用 - 解析树"
   ]
  },
  {
   "cell_type": "markdown",
   "id": "breeding-aquatic",
   "metadata": {},
   "source": [
    "主要有三类问题：  \n",
    "*如何根据完全括号表达式构建解析树；  \n",
    "如何计算解析树中的表达式；  \n",
    "如何将解析树还原成最初的数学表达式。*"
   ]
  },
  {
   "cell_type": "markdown",
   "id": "rental-occasions",
   "metadata": {},
   "source": [
    "#### 构建解析树"
   ]
  },
  {
   "cell_type": "markdown",
   "id": "empty-composition",
   "metadata": {},
   "source": [
    "构建解析树的第一步是将表达式字符串拆分成标记列表。  \n",
    "需要考虑 4 种标记：左括号、右括号、运算符和操作数。  \n",
    "(1) 如果当前标记是(，就为当前节点添加一个左子节点，并下沉至该子节点；  \n",
    "(2) 如果当前标记在列表['+', '-', '/', '*']中，将当前节点的值设为当前标记对应的运算符；为当前节点添加一个右子节点，并下沉至该子节点；  \n",
    "(3) 如果当前标记是数字，就将当前节点的值设为这个数并返回至父节点；  \n",
    "(4) 如果当前标记是)，就跳到当前节点的父节点。 "
   ]
  },
  {
   "cell_type": "code",
   "execution_count": 48,
   "id": "three-valuation",
   "metadata": {},
   "outputs": [],
   "source": [
    "# FIXME : 用指针存储当前节点的父节点 不可行，因为只能存储上一层的父节点。目前想到的只有类似栈的存法\n",
    "def generateParseTree(string):\n",
    "    r = BinaryTree('')\n",
    "    cur = r; par = r\n",
    "    for s in string:\n",
    "        if s == '(':\n",
    "            cur.insertLeft('') \n",
    "            par = cur\n",
    "            cur = cur.getLeftChild()\n",
    "        elif s not in '+-*/)':\n",
    "            cur.setRootVal(eval(i)) # eval('1') => 1\n",
    "            "
   ]
  },
  {
   "cell_type": "code",
   "execution_count": 17,
   "id": "incredible-tobago",
   "metadata": {},
   "outputs": [],
   "source": [
    "from pythonds.basic import Stack\n",
    "from pythonds.trees import BinaryTree\n",
    "\n",
    "def buildParseTree(fpexp):\n",
    "    fplist = fpexp.split()\n",
    "    # 用栈存储当前节点的父节点，下沉时先入栈，返回时出栈\n",
    "    pStack = Stack()\n",
    "    eTree = BinaryTree('')\n",
    "    pStack.push(eTree)\n",
    "    currentTree = eTree\n",
    "    \n",
    "    for i in fplist:\n",
    "        if i == '(':\n",
    "            currentTree.insertLeft('')\n",
    "            pStack.push(currentTree)\n",
    "            currentTree = currentTree.getLeftChild()\n",
    "        elif i not in '+-*/)':\n",
    "            currentTree.setRootVal(eval(i))\n",
    "            parent = pStack.pop()\n",
    "            currentTree = parent\n",
    "        elif i in '+-*/':\n",
    "            currentTree.setRootVal(i)\n",
    "            currentTree.insertRight('')\n",
    "            pStack.push(currentTree)\n",
    "            currentTree = currentTree.getRightChild()\n",
    "        elif i == ')':\n",
    "            currentTree = pStack.pop()\n",
    "        else:\n",
    "            raise ValueError(\"Unknown Operator: \" + i)\n",
    "    \n",
    "    return eTree"
   ]
  },
  {
   "cell_type": "code",
   "execution_count": 18,
   "id": "reported-metro",
   "metadata": {},
   "outputs": [],
   "source": [
    "eTree = buildParseTree('(3+(4*5))')"
   ]
  },
  {
   "cell_type": "markdown",
   "id": "religious-comment",
   "metadata": {},
   "source": [
    "#### 计算解析树"
   ]
  },
  {
   "cell_type": "code",
   "execution_count": 5,
   "id": "blocked-soccer",
   "metadata": {},
   "outputs": [],
   "source": [
    "def evaluate(eTree):\n",
    "    if eTree.leftChild == None and eTree.rightChild == None:\n",
    "        return eTree.key\n",
    "    else:\n",
    "        if eTree.key == '+':\n",
    "            return evaluate(eTree.leftChild) + evaluate(eTree.rightChild)\n",
    "        elif eTree.key == '-':\n",
    "            return evaluate(eTree.leftChild) - evaluate(eTree.rightChild)\n",
    "        elif eTree.key == '*':\n",
    "            return evaluate(eTree.leftChild) * evaluate(eTree.rightChild)\n",
    "        else:\n",
    "            return evaluate(eTree.leftChild) / evaluate(eTree.rightChild)"
   ]
  },
  {
   "cell_type": "code",
   "execution_count": 6,
   "id": "biblical-insider",
   "metadata": {},
   "outputs": [
    {
     "data": {
      "text/plain": [
       "23"
      ]
     },
     "execution_count": 6,
     "metadata": {},
     "output_type": "execute_result"
    }
   ],
   "source": [
    "evaluate(eTree)"
   ]
  },
  {
   "cell_type": "markdown",
   "id": "departmental-motel",
   "metadata": {},
   "source": [
    "**思考：如何优化else部分的判断？**"
   ]
  },
  {
   "cell_type": "code",
   "execution_count": 9,
   "id": "psychological-going",
   "metadata": {},
   "outputs": [],
   "source": [
    "# 书中示例，利用字典存储运算符与操作函数的对应关系以实现优化\n",
    "import operator\n",
    "\n",
    "def evaluate2(parseTree):\n",
    "    opers = {'+':operator.add, '-':operator.sub,'*':operator.mul, '/':operator.truediv}\n",
    "    leftC = parseTree.getLeftChild()\n",
    "    rightC = parseTree.getRightChild()\n",
    "    \n",
    "    if leftC and rightC:\n",
    "        fn = opers[parseTree.getRootVal()]\n",
    "        return fn(evaluate(leftC), evaluate(rightC))\n",
    "    else:\n",
    "        return parseTree.getRootVal()"
   ]
  },
  {
   "cell_type": "code",
   "execution_count": 10,
   "id": "conceptual-listening",
   "metadata": {},
   "outputs": [
    {
     "data": {
      "text/plain": [
       "23"
      ]
     },
     "execution_count": 10,
     "metadata": {},
     "output_type": "execute_result"
    }
   ],
   "source": [
    "evaluate2(eTree)"
   ]
  },
  {
   "cell_type": "markdown",
   "id": "isolated-stadium",
   "metadata": {},
   "source": [
    "### 树的遍历"
   ]
  },
  {
   "cell_type": "markdown",
   "id": "impressive-smart",
   "metadata": {},
   "source": [
    "对所有节点的访问称为“遍历”，共有 3 种遍历方式，分别为前序遍历、中序遍历和后序遍历。  \n",
    "**前序遍历：** 先访问根节点，然后递归地前序遍历左子树，最后递归地前序遍历右子树。  \n",
    "**中序遍历：** 先递归地中序遍历左子树，然后访问根节点，最后递归地中序遍历右子树。  \n",
    "**后序遍历：** 先递归地后序遍历右子树，然后递归地后序遍历左子树，最后访问根节点。"
   ]
  },
  {
   "cell_type": "code",
   "execution_count": 11,
   "id": "novel-spain",
   "metadata": {},
   "outputs": [],
   "source": [
    "# 前序遍历（递归写法）\n",
    "def preOrder(tree):\n",
    "    if tree:\n",
    "        print(tree.key)\n",
    "        preOrder(tree.leftChild())\n",
    "        preOrder(tree.rightChild())"
   ]
  },
  {
   "cell_type": "code",
   "execution_count": 13,
   "id": "incorrect-texture",
   "metadata": {},
   "outputs": [],
   "source": [
    "# 后序遍历（递归写法）\n",
    "def postOrder(tree):\n",
    "    if tree:\n",
    "        preOrder(tree.leftChild())\n",
    "        preOrder(tree.rightChild())\n",
    "        print(tree.key)"
   ]
  },
  {
   "cell_type": "markdown",
   "id": "prescription-cooperative",
   "metadata": {},
   "source": [
    "**如前所示，后序遍历可以用于计算解析树**"
   ]
  },
  {
   "cell_type": "code",
   "execution_count": 14,
   "id": "cognitive-software",
   "metadata": {},
   "outputs": [],
   "source": [
    "# 中序遍历（递归写法）\n",
    "def inOrder(tree):\n",
    "    if tree:\n",
    "        preOrder(tree.leftChild())\n",
    "        print(tree.key)\n",
    "        preOrder(tree.rightChild())"
   ]
  },
  {
   "cell_type": "markdown",
   "id": "threaded-highlight",
   "metadata": {},
   "source": [
    "通过中序遍历解析树，可以还原不带括号的表达式。接下来修改中序遍历算法，以得到完全括号表达式。  \n",
    "唯一要做的修改是：在递归调用左子树前打印一个左括号，在递归调用右子树后打印一个右括号。"
   ]
  },
  {
   "cell_type": "code",
   "execution_count": 15,
   "id": "durable-flashing",
   "metadata": {},
   "outputs": [],
   "source": [
    "def printexp(tree):\n",
    "    sVal = \"\"\n",
    "    if tree:\n",
    "        sVal = '(' + printexp(tree.getLeftChild())\n",
    "        sVal = sVal + str(tree.getRootVal())\n",
    "        sVal = sVal + printexp(tree.getRightChild()) + ')'\n",
    "    return sVal"
   ]
  },
  {
   "cell_type": "code",
   "execution_count": 19,
   "id": "entertaining-flooring",
   "metadata": {},
   "outputs": [
    {
     "data": {
      "text/plain": [
       "'(23)'"
      ]
     },
     "execution_count": 19,
     "metadata": {},
     "output_type": "execute_result"
    }
   ],
   "source": [
    "printexp(eTree)"
   ]
  },
  {
   "cell_type": "markdown",
   "id": "together-sally",
   "metadata": {},
   "source": [
    "### 利用二叉堆实现优先级队列"
   ]
  },
  {
   "cell_type": "markdown",
   "id": "bound-governor",
   "metadata": {},
   "source": [
    "### 二叉搜索树"
   ]
  },
  {
   "cell_type": "markdown",
   "id": "electoral-message",
   "metadata": {},
   "source": [
    "### 平衡二叉搜索树"
   ]
  },
  {
   "cell_type": "markdown",
   "id": "filled-gamma",
   "metadata": {},
   "source": []
  }
 ],
 "metadata": {
  "kernelspec": {
   "display_name": "Python 3",
   "language": "python",
   "name": "python3"
  },
  "language_info": {
   "codemirror_mode": {
    "name": "ipython",
    "version": 3
   },
   "file_extension": ".py",
   "mimetype": "text/x-python",
   "name": "python",
   "nbconvert_exporter": "python",
   "pygments_lexer": "ipython3",
   "version": "3.9.2"
  }
 },
 "nbformat": 4,
 "nbformat_minor": 5
}
